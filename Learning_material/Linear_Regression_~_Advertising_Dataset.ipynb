{
  "metadata": {
    "kernelspec": {
      "language": "python",
      "display_name": "Python 3",
      "name": "python3"
    },
    "language_info": {
      "pygments_lexer": "ipython3",
      "nbconvert_exporter": "python",
      "version": "3.6.4",
      "file_extension": ".py",
      "codemirror_mode": {
        "name": "ipython",
        "version": 3
      },
      "name": "python",
      "mimetype": "text/x-python"
    },
    "colab": {
      "name": "Linear Regression ~ Advertising Dataset",
      "provenance": [],
      "include_colab_link": true
    }
  },
  "nbformat_minor": 0,
  "nbformat": 4,
  "cells": [
    {
      "cell_type": "markdown",
      "metadata": {
        "id": "view-in-github",
        "colab_type": "text"
      },
      "source": [
        "<a href=\"https://colab.research.google.com/github/mukulsn/Machine-Learning/blob/main/Learning_material/Linear_Regression_~_Advertising_Dataset.ipynb\" target=\"_parent\"><img src=\"https://colab.research.google.com/assets/colab-badge.svg\" alt=\"Open In Colab\"/></a>"
      ]
    },
    {
      "cell_type": "code",
      "source": [
        "# This Python 3 environment comes with many helpful analytics libraries installed\n",
        "# It is defined by the kaggle/python Docker image: https://github.com/kaggle/docker-python\n",
        "# For example, here's several helpful packages to load\n",
        "\n",
        "import numpy as np # linear algebra\n",
        "import pandas as pd # data processing, CSV file I/O (e.g. pd.read_csv)\n",
        "\n",
        "# Input data files are available in the read-only \"../input/\" directory\n",
        "# For example, running this (by clicking run or pressing Shift+Enter) will list all files under the input directory\n",
        "\n",
        "import os\n",
        "for dirname, _, filenames in os.walk('/kaggle/input'):\n",
        "    for filename in filenames:\n",
        "        print(os.path.join(dirname, filename))\n",
        "\n",
        "# You can write up to 20GB to the current directory (/kaggle/working/) that gets preserved as output when you create a version using \"Save & Run All\"\n",
        "# You can also write temporary files to /kaggle/temp/, but they won't be saved outside of the current session"
      ],
      "metadata": {
        "execution": {
          "iopub.status.busy": "2021-09-19T14:09:09.058817Z",
          "iopub.execute_input": "2021-09-19T14:09:09.05914Z",
          "iopub.status.idle": "2021-09-19T14:09:09.073421Z",
          "shell.execute_reply.started": "2021-09-19T14:09:09.059106Z",
          "shell.execute_reply": "2021-09-19T14:09:09.072494Z"
        },
        "trusted": true,
        "id": "BVdEAEjqVCzL"
      },
      "execution_count": null,
      "outputs": []
    },
    {
      "cell_type": "code",
      "source": [
        "!cp /kaggle/input/advertising-dataset/'Advertising Dataset'/Images/* .\n",
        "!ls"
      ],
      "metadata": {
        "execution": {
          "iopub.status.busy": "2021-09-19T14:09:41.870811Z",
          "iopub.execute_input": "2021-09-19T14:09:41.871167Z",
          "iopub.status.idle": "2021-09-19T14:09:43.318691Z",
          "shell.execute_reply.started": "2021-09-19T14:09:41.871118Z",
          "shell.execute_reply": "2021-09-19T14:09:43.317907Z"
        },
        "trusted": true,
        "id": "GRYDypGYVCzQ"
      },
      "execution_count": null,
      "outputs": []
    },
    {
      "cell_type": "markdown",
      "source": [
        "<h1>Agenda: Fitting Linear Regression & verifying how well it's assumptions are satisfied</h1>\n",
        "\n",
        "<figure>\n",
        "          <img src= 'Regression1.png' style=\"width:75%\">\n",
        "</figure>"
      ],
      "metadata": {
        "id": "DOQj47SsVCzR"
      }
    },
    {
      "cell_type": "code",
      "source": [
        "import pandas as pd\n",
        "import numpy as np\n",
        "import matplotlib.pyplot as plt\n",
        "import seaborn as sns\n",
        "import time\n",
        "import warnings\n",
        "from sklearn.preprocessing import StandardScaler\n",
        "from statsmodels.stats.outliers_influence import variance_inflation_factor\n",
        "import statsmodels.api as sm\n",
        "from scipy.stats import kurtosis, skew\n",
        "warnings.filterwarnings(\"ignore\")\n",
        "%matplotlib inline"
      ],
      "metadata": {
        "execution": {
          "iopub.status.busy": "2021-09-19T14:10:02.6263Z",
          "iopub.execute_input": "2021-09-19T14:10:02.627147Z",
          "iopub.status.idle": "2021-09-19T14:10:02.636413Z",
          "shell.execute_reply.started": "2021-09-19T14:10:02.627103Z",
          "shell.execute_reply": "2021-09-19T14:10:02.635442Z"
        },
        "trusted": true,
        "id": "h9MGi6kIVCzT"
      },
      "execution_count": null,
      "outputs": []
    },
    {
      "cell_type": "markdown",
      "source": [
        "<h3><b>Problem Statement:</b></h3>\n",
        "\n",
        "<a href = 'https://en.wikipedia.org/wiki/Advertising'>Advertising</a> is a marketing communication that promotes the sell of a product, service or idea.\n",
        "The dataset consists of money spent in TV, Radio and Newspaper ads and corresponding achieved sales in that period. Task is to analyse the dataset and create a predictive model to forecast the expected sales given the advertisement spent. <br>\n",
        "Dataset Link: <a href = 'https://www.kaggle.com/ashydv/advertising-dataset'>https://www.kaggle.com/ashydv/advertising-dataset</a>\n",
        "\n",
        "<figure>\n",
        "  <img src=\"Adverstisement_.png\" style=\"width:75%\">\n",
        "</figure>"
      ],
      "metadata": {
        "id": "HceY2d1QVCzU"
      }
    },
    {
      "cell_type": "markdown",
      "source": [
        "<h2>Let's have a look at the Advertisement Dataset</h2>\n",
        "\n",
        "<figure>\n",
        "  <img src=\"look.jpg\" style=\"width:50%\">\n",
        "    <center><figcaption><b>Image Source:</b> <a href='https://image.freepik.com/free-vector/computer-concept_1308-35665.jpg'>https://image.freepik.com/free-vector/computer-concept_1308-35665.jpg</a></figcaption></center>\n",
        "</figure>\n",
        "\n"
      ],
      "metadata": {
        "id": "mWK7Ov6hVCzW"
      }
    },
    {
      "cell_type": "code",
      "source": [
        "df = pd.read_csv(\"/kaggle/input/advertising-dataset/Advertising Dataset/Advertising Dataset.csv\")"
      ],
      "metadata": {
        "execution": {
          "iopub.status.busy": "2021-09-19T14:10:53.247434Z",
          "iopub.execute_input": "2021-09-19T14:10:53.247736Z",
          "iopub.status.idle": "2021-09-19T14:10:53.268445Z",
          "shell.execute_reply.started": "2021-09-19T14:10:53.247704Z",
          "shell.execute_reply": "2021-09-19T14:10:53.267523Z"
        },
        "trusted": true,
        "id": "WSUb9daQVCzW"
      },
      "execution_count": null,
      "outputs": []
    },
    {
      "cell_type": "code",
      "source": [
        "df.shape"
      ],
      "metadata": {
        "execution": {
          "iopub.status.busy": "2021-09-19T14:10:55.451783Z",
          "iopub.execute_input": "2021-09-19T14:10:55.452509Z",
          "iopub.status.idle": "2021-09-19T14:10:55.460817Z",
          "shell.execute_reply.started": "2021-09-19T14:10:55.452474Z",
          "shell.execute_reply": "2021-09-19T14:10:55.459722Z"
        },
        "trusted": true,
        "id": "wf0gXXGLVCzY"
      },
      "execution_count": null,
      "outputs": []
    },
    {
      "cell_type": "code",
      "source": [
        "df.head()"
      ],
      "metadata": {
        "execution": {
          "iopub.status.busy": "2021-09-19T14:10:57.607853Z",
          "iopub.execute_input": "2021-09-19T14:10:57.608143Z",
          "iopub.status.idle": "2021-09-19T14:10:57.627519Z",
          "shell.execute_reply.started": "2021-09-19T14:10:57.608115Z",
          "shell.execute_reply": "2021-09-19T14:10:57.626659Z"
        },
        "trusted": true,
        "id": "fXQHTBj_VCza"
      },
      "execution_count": null,
      "outputs": []
    },
    {
      "cell_type": "markdown",
      "source": [
        "<font color='red'><i><b>Realisation: Definitely the Advertisement spent & Sales are in different scale</i></b></font>\n"
      ],
      "metadata": {
        "id": "F9sH2c2eVCzb"
      }
    },
    {
      "cell_type": "markdown",
      "source": [
        "<h3>EDA: Next we will do Exploratory Data Analysis (EDA) to understand our dataset better.</h3>\n",
        "\n",
        "<figure>\n",
        "  <img src=\"eda.jpg\" style=\"width:75%\">\n",
        "    <center><figcaption><b>Image Source:</b> <a href='https://www.freepik.com/free-vector/data-inform-illustration-concept_6195525.htm'>https://www.freepik.com/free-vector/data-inform-illustration-concept_6195525.htm</a></figcaption></center>\n",
        "</figure>\n"
      ],
      "metadata": {
        "id": "kiUBd6u3VCzb"
      }
    },
    {
      "cell_type": "code",
      "source": [
        "sns.distplot(df.Sales,color='blue', hist=True,rug=False)"
      ],
      "metadata": {
        "execution": {
          "iopub.status.busy": "2021-09-19T14:11:23.996538Z",
          "iopub.execute_input": "2021-09-19T14:11:23.996856Z",
          "iopub.status.idle": "2021-09-19T14:11:24.308522Z",
          "shell.execute_reply.started": "2021-09-19T14:11:23.996827Z",
          "shell.execute_reply": "2021-09-19T14:11:24.307991Z"
        },
        "trusted": true,
        "id": "0oLhNmhPVCzc"
      },
      "execution_count": null,
      "outputs": []
    },
    {
      "cell_type": "code",
      "source": [
        "skew(df.Sales),kurtosis(df.Sales)"
      ],
      "metadata": {
        "execution": {
          "iopub.status.busy": "2021-09-19T14:11:25.666109Z",
          "iopub.execute_input": "2021-09-19T14:11:25.666421Z",
          "iopub.status.idle": "2021-09-19T14:11:25.673496Z",
          "shell.execute_reply.started": "2021-09-19T14:11:25.666376Z",
          "shell.execute_reply": "2021-09-19T14:11:25.672576Z"
        },
        "trusted": true,
        "id": "u99ddOZtVCzc"
      },
      "execution_count": null,
      "outputs": []
    },
    {
      "cell_type": "markdown",
      "source": [
        "<font color='blue'><i>\n",
        "<li>\n",
        "Absolute value of Skewness and Kurtosis when <= 0.05, denotes almost Normal distribution.\n",
        "<li>                                                \n",
        "Even in this case, Sales doesn't deviate a lot from normal distribution. Kurtosis is high and negative indicating the excess flatness in curve.\n",
        "   \n",
        "</i></font>"
      ],
      "metadata": {
        "id": "NQNrlOe6VCzd"
      }
    },
    {
      "cell_type": "code",
      "source": [
        "sns.scatterplot(x='TV', y='Sales', data=df)"
      ],
      "metadata": {
        "execution": {
          "iopub.status.busy": "2021-09-19T14:11:26.975415Z",
          "iopub.execute_input": "2021-09-19T14:11:26.975693Z",
          "iopub.status.idle": "2021-09-19T14:11:27.21287Z",
          "shell.execute_reply.started": "2021-09-19T14:11:26.975665Z",
          "shell.execute_reply": "2021-09-19T14:11:27.211996Z"
        },
        "trusted": true,
        "id": "QIw5NpkVVCzd"
      },
      "execution_count": null,
      "outputs": []
    },
    {
      "cell_type": "markdown",
      "source": [
        "<b>Regression Plot: </b><font color='red'><i>Draws a scatterplot of two variables, x and y, and then fit the regression model to visualise the linear relationship.</i></font>"
      ],
      "metadata": {
        "id": "K-x4t6oKVCze"
      }
    },
    {
      "cell_type": "code",
      "source": [
        "# var = df.columns.values\n",
        "\n",
        "var = df.loc[:, df.columns != 'Sales'].columns.values\n",
        "\n",
        "sns.set_style('whitegrid')\n",
        "plt.figure()\n",
        "fig, ax = plt.subplots(3,1,figsize=(8,10))\n",
        "\n",
        "i= 0\n",
        "for feature in var:\n",
        "    i += 1\n",
        "    plt.subplot(3,1,i)\n",
        "    sns.regplot(x=feature, y='Sales', data=df)\n",
        "    plt.xlabel(feature, fontsize=12)\n",
        "    locs, labels = plt.xticks()\n",
        "    plt.tick_params(axis='both', which='major', labelsize=12)\n",
        "    fig.tight_layout(pad=3.0)\n",
        "plt.show();"
      ],
      "metadata": {
        "execution": {
          "iopub.status.busy": "2021-09-19T14:11:28.708106Z",
          "iopub.execute_input": "2021-09-19T14:11:28.708374Z",
          "iopub.status.idle": "2021-09-19T14:11:29.961805Z",
          "shell.execute_reply.started": "2021-09-19T14:11:28.708348Z",
          "shell.execute_reply": "2021-09-19T14:11:29.96119Z"
        },
        "trusted": true,
        "id": "KA8hYCNUVCze"
      },
      "execution_count": null,
      "outputs": []
    },
    {
      "cell_type": "code",
      "source": [
        "np.std(df.TV),np.std(df.Radio),np.std(df.Newspaper)"
      ],
      "metadata": {
        "execution": {
          "iopub.status.busy": "2021-09-19T14:11:29.962793Z",
          "iopub.execute_input": "2021-09-19T14:11:29.963028Z",
          "iopub.status.idle": "2021-09-19T14:11:29.970358Z",
          "shell.execute_reply.started": "2021-09-19T14:11:29.963001Z",
          "shell.execute_reply": "2021-09-19T14:11:29.969422Z"
        },
        "trusted": true,
        "id": "6QFNZX1MVCzf"
      },
      "execution_count": null,
      "outputs": []
    },
    {
      "cell_type": "markdown",
      "source": [
        "<b>EDA Insights: </b><font color='green'><i>\n",
        "<br>1. TV ads seems to have highest impact with the steepest slope followed by Radio and Newspaper\n",
        "<br>2. Spending on TV ads seems to have highest variance followed by Newspaper and Radio. One reason could be the cost-associated is high for TV ads."
      ],
      "metadata": {
        "id": "VBLXU-oGVCzf"
      }
    },
    {
      "cell_type": "markdown",
      "source": [
        "<h2><font color='brown'><i>Assumptions of Linear Regression: Linear Relationship statisfied\n",
        "    </i></font></h2>"
      ],
      "metadata": {
        "id": "8a4Zh6fMVCzf"
      }
    },
    {
      "cell_type": "markdown",
      "source": [
        "<h3> Check for Multicollinearity </h3>\n",
        "\n",
        "\n",
        "<b>Correlation matrix: </b><font color='red'><i>Calculates Pearson’s Bivariate Correlation among all independent variables. Remove predictors with high correlation.\n"
      ],
      "metadata": {
        "id": "Bxac4po6VCzf"
      }
    },
    {
      "cell_type": "code",
      "source": [
        "sns.heatmap(df.loc[:, df.columns != 'Sales'].corr(),annot=True)"
      ],
      "metadata": {
        "execution": {
          "iopub.status.busy": "2021-09-19T14:11:33.073986Z",
          "iopub.execute_input": "2021-09-19T14:11:33.074274Z",
          "iopub.status.idle": "2021-09-19T14:11:33.364779Z",
          "shell.execute_reply.started": "2021-09-19T14:11:33.074236Z",
          "shell.execute_reply": "2021-09-19T14:11:33.363912Z"
        },
        "trusted": true,
        "id": "Ip3jZ3PvVCzg"
      },
      "execution_count": null,
      "outputs": []
    },
    {
      "cell_type": "markdown",
      "source": [
        "<b>Variance Inflation Factor (VIF): </b><font color='red'><i>Each feature is regressed against all the other features.<br>Variance Inflation Factor is defined as VIF = 1/T. With VIF > 5 there is an indication that multicollinearity may be present; with VIF > 10 there is certainly multicollinearity among the variables.\n"
      ],
      "metadata": {
        "id": "B8k2c-wHVCzg"
      }
    },
    {
      "cell_type": "code",
      "source": [
        "X = df.loc[:, df.columns != 'Sales']\n",
        "vif_data = pd.DataFrame()\n",
        "vif_data[\"feature\"] = df.loc[:, df.columns != 'Sales'].columns\n",
        "\n",
        "# calculating VIF for each feature\n",
        "vif_data[\"VIF\"] = [variance_inflation_factor(X.values, i)\n",
        "                          for i in range(len(X.columns))]\n",
        "\n",
        "vif_data.head()"
      ],
      "metadata": {
        "execution": {
          "iopub.status.busy": "2021-09-19T14:11:34.129636Z",
          "iopub.execute_input": "2021-09-19T14:11:34.130276Z",
          "iopub.status.idle": "2021-09-19T14:11:34.149124Z",
          "shell.execute_reply.started": "2021-09-19T14:11:34.130242Z",
          "shell.execute_reply": "2021-09-19T14:11:34.148474Z"
        },
        "trusted": true,
        "id": "XSriZEZFVCzh"
      },
      "execution_count": null,
      "outputs": []
    },
    {
      "cell_type": "markdown",
      "source": [
        "<font color='red'><i>\n",
        "We don't see high correlation between independent variables.<br>\n",
        "    VIF score is also < 5 for all the variables.</i></font>"
      ],
      "metadata": {
        "id": "5F_pe0IjVCzh"
      }
    },
    {
      "cell_type": "markdown",
      "source": [
        "<h2><font color='brown'><i>Assumptions of Linear Regression: No or Little Multicollinearity satisfied\n",
        "    </i></font></h2>"
      ],
      "metadata": {
        "id": "yVLk6kYbVCzh"
      }
    },
    {
      "cell_type": "code",
      "source": [
        "X = df.loc[:, df.columns.isin(['TV','Radio','Newspaper'])]\n",
        "model = sm.OLS(df.Sales,X)\n",
        "results = model.fit()\n",
        "print(results.summary())"
      ],
      "metadata": {
        "execution": {
          "iopub.status.busy": "2021-09-19T14:11:35.409423Z",
          "iopub.execute_input": "2021-09-19T14:11:35.410031Z",
          "iopub.status.idle": "2021-09-19T14:11:35.426759Z",
          "shell.execute_reply.started": "2021-09-19T14:11:35.409994Z",
          "shell.execute_reply": "2021-09-19T14:11:35.425995Z"
        },
        "trusted": true,
        "id": "amqp_Z1LVCzi"
      },
      "execution_count": null,
      "outputs": []
    },
    {
      "cell_type": "markdown",
      "source": [
        "<b>F-Statistics</b><br>\n",
        "    \n",
        "H0: <font color='red'>The null hypothesis states that the model with no independent variables fits the data as well as your model.</font><br>\n",
        "Alternate Hypothesis: <font color='red'>The alternative hypothesis says that your model fits the data better than the intercept-only model.\n",
        "    </i><font/>"
      ],
      "metadata": {
        "id": "qQiB3ygTVCzi"
      }
    },
    {
      "cell_type": "markdown",
      "source": [
        "<h3>Test for Autocorrelation:  Durbin-Watson test</h3><br>\n",
        "<font color='red'><i>\n",
        "The null hypothesis of the test is that there is no serial correlation. <br>\n",
        "Value close to 2 indicates No Autocorrelation, ~0: Positive Autocorrelation, ~4: Negative Autocorrelation\n",
        "\n",
        "Durbin-Watson Test returns a value of 1.949 (close to zero) indicating no-autocorrelation.\n",
        "    </i></font>\n"
      ],
      "metadata": {
        "id": "evSXXGPuVCzi"
      }
    },
    {
      "cell_type": "markdown",
      "source": [
        "<h2><font color='brown'><i>Assumptions of Linear Regression: No or Little Autocorrelation satisfied\n",
        "    </i></font></h2>"
      ],
      "metadata": {
        "id": "sfeT_6QUVCzi"
      }
    },
    {
      "cell_type": "markdown",
      "source": [
        "<h3>Check for Homoscedasticity</h3><br>\n",
        "<font color='red'><i>\n",
        "Homoscedasticity(meaning “same variance”) assumes the residuals are randomly scattered along the regression line/plane/hyperplane and does not follow any pattern.<br>\n",
        "    \n",
        "In contrast, Heteroscedasticity is a systematic change in the spread of the residuals.\n",
        "    </i></font>\n",
        "<br><br>\n",
        "<figure>\n",
        "  <img src=\"Homoscedasticity.png\" style=\"width:75%\">\n",
        "    <center><figcaption><b>Image Source:</b> <a href='https://miro.medium.com/max/1400/1*Jan9oVOzNqQyhA4bSg_zwA.png'>https://miro.medium.com/max/1400/1*Jan9oVOzNqQyhA4bSg_zwA.png</a></figcaption></center>\n",
        "</figure>"
      ],
      "metadata": {
        "id": "lBEQXHuWVCzi"
      }
    },
    {
      "cell_type": "code",
      "source": [
        "residual = results.resid\n",
        "\n",
        "sns.residplot(x = results.predict(), y = residual ,\n",
        "              lowess=True, color=\"olivedrab\")\n",
        "plt.show()"
      ],
      "metadata": {
        "execution": {
          "iopub.status.busy": "2021-09-19T14:11:50.883176Z",
          "iopub.execute_input": "2021-09-19T14:11:50.883452Z",
          "iopub.status.idle": "2021-09-19T14:11:51.171659Z",
          "shell.execute_reply.started": "2021-09-19T14:11:50.883425Z",
          "shell.execute_reply": "2021-09-19T14:11:51.170667Z"
        },
        "trusted": true,
        "id": "y2FE4hpAVCzj"
      },
      "execution_count": null,
      "outputs": []
    },
    {
      "cell_type": "markdown",
      "source": [
        "Problems due to Heteroscedasticity:<br>\n",
        "<font color='red'><i>\n",
        "If there’s patterns in the residuals, model has a problem and is not able to explain the data patterns completely. Hence, the coefficients values are unreliable.<br>\n",
        "Heteroscedasticity tends to produce p-values that are smaller than they should be reducing the statistical significance.\n",
        "    </i></font>"
      ],
      "metadata": {
        "id": "2UYVTnp0VCzj"
      }
    },
    {
      "cell_type": "markdown",
      "source": [
        "<h2><font color='brown'><i>Assumptions of Linear Regression: Homoscedasticity Satisfied</i></font></h2>"
      ],
      "metadata": {
        "id": "7ZgRhDuuVCzk"
      }
    },
    {
      "cell_type": "markdown",
      "source": [
        "<h3>Check for Multivariate Normality</h3>\n",
        "\n",
        "<font color='red'><i>\n",
        "Linear regression analysis requires all variables to be multivariate normal. (Follow Gaussian distribution ~ 68–95–99.7 rule)<br>\n",
        "Alternatively, the residuals should be normally distributed. (Suggests other variables also don’t deviate much from normality as well)\n",
        "    </i></font>"
      ],
      "metadata": {
        "id": "pJKpzR9OVCzk"
      }
    },
    {
      "cell_type": "code",
      "source": [
        "sns.distplot(residual,color='blue',label= 'Residuals', hist=True,rug=False)"
      ],
      "metadata": {
        "execution": {
          "iopub.status.busy": "2021-09-19T14:11:52.764009Z",
          "iopub.execute_input": "2021-09-19T14:11:52.764286Z",
          "iopub.status.idle": "2021-09-19T14:11:53.101747Z",
          "shell.execute_reply.started": "2021-09-19T14:11:52.764257Z",
          "shell.execute_reply": "2021-09-19T14:11:53.100959Z"
        },
        "trusted": true,
        "id": "XAtTV3nZVCzk"
      },
      "execution_count": null,
      "outputs": []
    },
    {
      "cell_type": "code",
      "source": [
        "skew(residual),kurtosis(residual)"
      ],
      "metadata": {
        "execution": {
          "iopub.status.busy": "2021-09-19T14:11:55.33001Z",
          "iopub.execute_input": "2021-09-19T14:11:55.330327Z",
          "iopub.status.idle": "2021-09-19T14:11:55.337529Z",
          "shell.execute_reply.started": "2021-09-19T14:11:55.330298Z",
          "shell.execute_reply": "2021-09-19T14:11:55.336542Z"
        },
        "trusted": true,
        "id": "k34UpWz6VCzk"
      },
      "execution_count": null,
      "outputs": []
    },
    {
      "cell_type": "markdown",
      "source": [
        "<h2><font color='brown'><i>Assumptions of Linear Regression: Multivariate Normality satisfied</i></font></h2>"
      ],
      "metadata": {
        "id": "3FdOwjgEVCzl"
      }
    },
    {
      "cell_type": "markdown",
      "source": [
        "<h2>Feature Importance</h2>"
      ],
      "metadata": {
        "id": "IwJ-AWPQVCzl"
      }
    },
    {
      "cell_type": "markdown",
      "source": [
        "\n",
        "<font color='red'><i>\n",
        "Weight can be in kilogram or grams similarly height can be in cm or meters, it's necessary to bring variables in a scale where the deviation is similar.\n",
        "    </i></font>"
      ],
      "metadata": {
        "id": "oUyIfKTTVCzs"
      }
    },
    {
      "cell_type": "code",
      "source": [
        "X = df.loc[:, df.columns.isin(['TV','Radio','Newspaper'])]\n",
        "#Bring Features to comparable scale\n",
        "scaler = StandardScaler(with_mean=False, with_std=True)\n",
        "scaler.fit(X)\n",
        "X_t = scaler.transform(X)\n",
        "model = sm.OLS(df.Sales,X_t)\n",
        "results = model.fit()\n",
        "print(results.summary())"
      ],
      "metadata": {
        "execution": {
          "iopub.status.busy": "2021-09-19T14:11:56.81342Z",
          "iopub.execute_input": "2021-09-19T14:11:56.813708Z",
          "iopub.status.idle": "2021-09-19T14:11:56.836977Z",
          "shell.execute_reply.started": "2021-09-19T14:11:56.813679Z",
          "shell.execute_reply": "2021-09-19T14:11:56.836154Z"
        },
        "trusted": true,
        "id": "1tBf0IFfVCzs"
      },
      "execution_count": null,
      "outputs": []
    },
    {
      "cell_type": "code",
      "source": [
        "value = [results.params[0],results.params[1],results.params[2]]\n",
        "features = ['TV','Radio','Newspaper']"
      ],
      "metadata": {
        "execution": {
          "iopub.status.busy": "2021-09-19T14:11:58.0871Z",
          "iopub.execute_input": "2021-09-19T14:11:58.087373Z",
          "iopub.status.idle": "2021-09-19T14:11:58.093482Z",
          "shell.execute_reply.started": "2021-09-19T14:11:58.087347Z",
          "shell.execute_reply": "2021-09-19T14:11:58.09213Z"
        },
        "trusted": true,
        "id": "XcSiBQMSVCzs"
      },
      "execution_count": null,
      "outputs": []
    },
    {
      "cell_type": "code",
      "source": [
        "tmp = pd.DataFrame({'Feature': features, 'Feature importance': value})\n",
        "tmp = tmp.sort_values(by='Feature importance',ascending=False)\n",
        "plt.figure(figsize = (12,6))\n",
        "plt.title('Features importance',fontsize=14)\n",
        "s = sns.barplot(x='Feature',y='Feature importance',data=tmp)\n",
        "s.set_xticklabels(s.get_xticklabels(),rotation=90)\n",
        "plt.show()"
      ],
      "metadata": {
        "execution": {
          "iopub.status.busy": "2021-09-19T14:11:58.526031Z",
          "iopub.execute_input": "2021-09-19T14:11:58.526589Z",
          "iopub.status.idle": "2021-09-19T14:11:58.743339Z",
          "shell.execute_reply.started": "2021-09-19T14:11:58.526545Z",
          "shell.execute_reply": "2021-09-19T14:11:58.74255Z"
        },
        "trusted": true,
        "id": "ffvFtYDRVCzs"
      },
      "execution_count": null,
      "outputs": []
    },
    {
      "cell_type": "code",
      "source": [
        "# f, ax = plt.subplots(figsize = (8,5))\n",
        "\n",
        "# ax = sns.barplot(x=value, y=features)\n",
        "# plt.ylabel('Features', fontsize=12)\n",
        "# plt.xlabel('Value', fontsize=12)\n",
        "# plt.show()"
      ],
      "metadata": {
        "execution": {
          "iopub.status.busy": "2021-09-19T14:11:58.893647Z",
          "iopub.execute_input": "2021-09-19T14:11:58.894101Z",
          "iopub.status.idle": "2021-09-19T14:11:58.901872Z",
          "shell.execute_reply.started": "2021-09-19T14:11:58.894062Z",
          "shell.execute_reply": "2021-09-19T14:11:58.901045Z"
        },
        "trusted": true,
        "id": "vbokXPcrVCzt"
      },
      "execution_count": null,
      "outputs": []
    },
    {
      "cell_type": "markdown",
      "source": [
        "<h2> Summary</h2>\n",
        "<font color='Blue'><i><br>\n",
        "1. TV ads comes out to be the most important feature.<br>\n",
        "2. Linear Regression results are statistically significant as all the assumptions are satisfied."
      ],
      "metadata": {
        "id": "lVfsAK4CVCzt"
      }
    },
    {
      "cell_type": "markdown",
      "source": [
        "<h2> References</h2>\n",
        "<font color='Blue'><i><br>\n",
        "1. <a href='https://towardsdatascience.com/assumptions-of-linear-regression-algorithm-ed9ea32224e1'>https://towardsdatascience.com/assumptions-of-linear-regression-algorithm-ed9ea32224e1</a><br>\n",
        "2. <a href='https://towardsdatascience.com/linear-regression-and-its-assumptions-ef6e8db4904d'>https://towardsdatascience.com/linear-regression-and-its-assumptions-ef6e8db4904d</a>"
      ],
      "metadata": {
        "id": "KVuxkKErVCzt"
      }
    },
    {
      "cell_type": "code",
      "source": [],
      "metadata": {
        "id": "YssJh_12VCzu"
      },
      "execution_count": null,
      "outputs": []
    }
  ]
}