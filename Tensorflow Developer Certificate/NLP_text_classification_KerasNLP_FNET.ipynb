{
  "nbformat": 4,
  "nbformat_minor": 0,
  "metadata": {
    "colab": {
      "provenance": [],
      "collapsed_sections": [
        "h99tvU3djca6"
      ],
      "mount_file_id": "1GQFVkk6wrdcmsXv9eh_CoghaBVSlgJXo",
      "authorship_tag": "ABX9TyMA30g5XSPQ2NCDN+zihErN",
      "include_colab_link": true
    },
    "kernelspec": {
      "name": "python3",
      "display_name": "Python 3"
    },
    "language_info": {
      "name": "python"
    }
  },
  "cells": [
    {
      "cell_type": "markdown",
      "metadata": {
        "id": "view-in-github",
        "colab_type": "text"
      },
      "source": [
        "<a href=\"https://colab.research.google.com/github/mukulsn/Machine-Learning/blob/main/Tensorflow%20Developer%20Certificate/NLP_text_classification_KerasNLP_FNET.ipynb\" target=\"_parent\"><img src=\"https://colab.research.google.com/assets/colab-badge.svg\" alt=\"Open In Colab\"/></a>"
      ]
    },
    {
      "cell_type": "markdown",
      "source": [
        "# Text Classification Using FNET\n",
        "\n",
        "**Date Created:** 04/Dec/2023 <br>\n",
        "**Description:** Text Classification using `keras_nlp.lyers.FNetEncoder` layer <br>\n",
        "\n",
        "**Resource:** https://colab.research.google.com/github/keras-team/keras-io/blob/master/examples/nlp/ipynb/fnet_classification_with_keras_nlp.ipynb#scrollTo=8dYCmsZNC1Cx"
      ],
      "metadata": {
        "id": "gK1dL5raDwAP"
      }
    },
    {
      "cell_type": "markdown",
      "source": [
        "## Introduction\n",
        "\n",
        "In this example, we will demonstrate the ability of FNet to achieve comparable\n",
        "results with a vanilla Transformer model on the text classification task.\n",
        "We will be using the IMDb dataset, which is a\n",
        "collection of movie reviews labelled either positive or negative (sentiment\n",
        "analysis).\n",
        "\n",
        "To build the tokenizer, model, etc., we will use components from\n",
        "[KerasNLP](https://github.com/keras-team/keras-nlp). KerasNLP makes life easier\n",
        "for people who want to build NLP pipelines! :)\n",
        "\n",
        "### Model\n",
        "\n",
        "Transformer-based language models (LMs) such as BERT, RoBERTa, XLNet, etc. have\n",
        "demonstrated the effectiveness of the self-attention mechanism for computing\n",
        "rich embeddings for input text. However, the self-attention mechanism is an\n",
        "expensive operation, with a time complexity of `O(n^2)`, where `n` is the number\n",
        "of tokens in the input. Hence, there has been an effort to reduce the time\n",
        "complexity of the self-attention mechanism and improve performance without\n",
        "sacrificing the quality of results.\n",
        "\n",
        "In 2020, a paper titled\n",
        "[FNet: Mixing Tokens with Fourier Transforms](https://arxiv.org/abs/2105.03824)\n",
        "replaced the self-attention layer in BERT with a simple Fourier Transform layer\n",
        "for \"token mixing\". This resulted in comparable accuracy and a speed-up during\n",
        "training. In particular, a couple of points from the paper stand out:\n",
        "\n",
        "* The authors claim that FNet is 80% faster than BERT on GPUs and 70% faster on\n",
        "TPUs. The reason for this speed-up is two-fold: a) the Fourier Transform layer\n",
        "is unparametrized, it does not have any parameters, and b) the authors use Fast\n",
        "Fourier Transform (FFT); this reduces the time complexity from `O(n^2)`\n",
        "(in the case of self-attention) to `O(n log n)`.\n",
        "* FNet manages to achieve 92-97% of the accuracy of BERT on the GLUE benchmark."
      ],
      "metadata": {
        "id": "U-f5-3lCEThZ"
      }
    },
    {
      "cell_type": "markdown",
      "source": [
        "# SEEMS ISSUE WITH GOOGLE COLAB, GPU IS NOT WORKING"
      ],
      "metadata": {
        "id": "D4uasi43mkp5"
      }
    },
    {
      "cell_type": "markdown",
      "source": [
        "This install command worked :)"
      ],
      "metadata": {
        "id": "dgwvh9Mp8R1T"
      }
    },
    {
      "cell_type": "code",
      "source": [
        "!pip install keras-nlp keras-core tensorflow-text --no-deps"
      ],
      "metadata": {
        "colab": {
          "base_uri": "https://localhost:8080/"
        },
        "id": "zu5P8ePE5wTN",
        "outputId": "8727d235-69ef-4089-c47e-bfd7b3c6dcde"
      },
      "execution_count": 14,
      "outputs": [
        {
          "output_type": "stream",
          "name": "stdout",
          "text": [
            "Collecting keras-nlp\n",
            "  Downloading keras_nlp-0.6.3-py3-none-any.whl (584 kB)\n",
            "\u001b[2K     \u001b[90m━━━━━━━━━━━━━━━━━━━━━━━━━━━━━━━━━━━━━━━━\u001b[0m \u001b[32m584.5/584.5 kB\u001b[0m \u001b[31m6.9 MB/s\u001b[0m eta \u001b[36m0:00:00\u001b[0m\n",
            "\u001b[?25hCollecting keras-core\n",
            "  Downloading keras_core-0.1.7-py3-none-any.whl (950 kB)\n",
            "\u001b[2K     \u001b[90m━━━━━━━━━━━━━━━━━━━━━━━━━━━━━━━━━━━━━━━━\u001b[0m \u001b[32m950.8/950.8 kB\u001b[0m \u001b[31m39.2 MB/s\u001b[0m eta \u001b[36m0:00:00\u001b[0m\n",
            "\u001b[?25hCollecting tensorflow-text\n",
            "  Downloading tensorflow_text-2.15.0-cp310-cp310-manylinux_2_17_x86_64.manylinux2014_x86_64.whl (5.2 MB)\n",
            "\u001b[2K     \u001b[90m━━━━━━━━━━━━━━━━━━━━━━━━━━━━━━━━━━━━━━━━\u001b[0m \u001b[32m5.2/5.2 MB\u001b[0m \u001b[31m87.2 MB/s\u001b[0m eta \u001b[36m0:00:00\u001b[0m\n",
            "\u001b[?25hInstalling collected packages: tensorflow-text, keras-nlp, keras-core\n",
            "Successfully installed keras-core-0.1.7 keras-nlp-0.6.3 tensorflow-text-2.15.0\n"
          ]
        }
      ]
    },
    {
      "cell_type": "code",
      "source": [],
      "metadata": {
        "colab": {
          "base_uri": "https://localhost:8080/"
        },
        "id": "euliEG8b7Fgj",
        "outputId": "d82cf357-d29a-4bf7-96ef-1f6265b58019"
      },
      "execution_count": 7,
      "outputs": [
        {
          "output_type": "stream",
          "name": "stdout",
          "text": [
            "Collecting tensorflow-gpu\n",
            "  Downloading tensorflow-gpu-2.12.0.tar.gz (2.6 kB)\n",
            "  \u001b[1;31merror\u001b[0m: \u001b[1msubprocess-exited-with-error\u001b[0m\n",
            "  \n",
            "  \u001b[31m×\u001b[0m \u001b[32mpython setup.py egg_info\u001b[0m did not run successfully.\n",
            "  \u001b[31m│\u001b[0m exit code: \u001b[1;36m1\u001b[0m\n",
            "  \u001b[31m╰─>\u001b[0m See above for output.\n",
            "  \n",
            "  \u001b[1;35mnote\u001b[0m: This error originates from a subprocess, and is likely not a problem with pip.\n",
            "  Preparing metadata (setup.py) ... \u001b[?25l\u001b[?25herror\n",
            "\u001b[1;31merror\u001b[0m: \u001b[1mmetadata-generation-failed\u001b[0m\n",
            "\n",
            "\u001b[31m×\u001b[0m Encountered error while generating package metadata.\n",
            "\u001b[31m╰─>\u001b[0m See above for output.\n",
            "\n",
            "\u001b[1;35mnote\u001b[0m: This is an issue with the package mentioned above, not pip.\n",
            "\u001b[1;36mhint\u001b[0m: See above for details.\n"
          ]
        }
      ]
    },
    {
      "cell_type": "code",
      "execution_count": 5,
      "metadata": {
        "colab": {
          "base_uri": "https://localhost:8080/"
        },
        "id": "lM67ULmgC9Mc",
        "outputId": "1fb891c1-147c-4261-dc99-37810a07414e"
      },
      "outputs": [
        {
          "output_type": "stream",
          "name": "stdout",
          "text": [
            "\u001b[?25l     \u001b[90m━━━━━━━━━━━━━━━━━━━━━━━━━━━━━━━━━━━━━━━━\u001b[0m \u001b[32m0.0/997.1 kB\u001b[0m \u001b[31m?\u001b[0m eta \u001b[36m-:--:--\u001b[0m\r\u001b[2K     \u001b[91m━━━━━━\u001b[0m\u001b[90m╺\u001b[0m\u001b[90m━━━━━━━━━━━━━━━━━━━━━━━━━━━━━━━━━\u001b[0m \u001b[32m153.6/997.1 kB\u001b[0m \u001b[31m4.4 MB/s\u001b[0m eta \u001b[36m0:00:01\u001b[0m\r\u001b[2K     \u001b[90m━━━━━━━━━━━━━━━━━━━━━━━━━━━━━━━━━━━━━━━━\u001b[0m \u001b[32m997.1/997.1 kB\u001b[0m \u001b[31m14.5 MB/s\u001b[0m eta \u001b[36m0:00:00\u001b[0m\n",
            "\u001b[?25h\u001b[31mERROR: pip's dependency resolver does not currently take into account all the packages that are installed. This behaviour is the source of the following dependency conflicts.\n",
            "tensorflow 2.15.0 requires keras<2.16,>=2.15.0, but you have keras 3.0.0 which is incompatible.\u001b[0m\u001b[31m\n",
            "\u001b[0m"
          ]
        }
      ],
      "source": [
        "# !pip install -q --upgrade keras-nlp\n",
        "# !pip install -q --upgrade keras # Upgrade to keras 3"
      ]
    },
    {
      "cell_type": "code",
      "source": [
        "import tensorflow as tf\n",
        "def checking_gpu():\n",
        "  print(tf.__version__)\n",
        "  print(tf.config.list_physical_devices())\n",
        "checking_gpu()"
      ],
      "metadata": {
        "colab": {
          "base_uri": "https://localhost:8080/"
        },
        "id": "3tZUCiGygHBP",
        "outputId": "66e32946-f11c-405c-9936-f601b0248544"
      },
      "execution_count": 6,
      "outputs": [
        {
          "output_type": "stream",
          "name": "stdout",
          "text": [
            "2.14.0\n",
            "[PhysicalDevice(name='/physical_device:CPU:0', device_type='CPU'), PhysicalDevice(name='/physical_device:GPU:0', device_type='GPU')]\n"
          ]
        }
      ]
    },
    {
      "cell_type": "markdown",
      "source": [
        "# writing a code to check gpu is working or not"
      ],
      "metadata": {
        "id": "h99tvU3djca6"
      }
    },
    {
      "cell_type": "code",
      "source": [
        "# Download helper functions script\n",
        "!wget https://raw.githubusercontent.com/mrdbourke/tensorflow-deep-learning/main/extras/helper_functions.py"
      ],
      "metadata": {
        "colab": {
          "base_uri": "https://localhost:8080/"
        },
        "id": "C0vE39XBjb6m",
        "outputId": "64eaf1dc-46ad-430d-b9c3-d621531976c0"
      },
      "execution_count": 4,
      "outputs": [
        {
          "output_type": "stream",
          "name": "stdout",
          "text": [
            "--2023-12-03 21:23:26--  https://raw.githubusercontent.com/mrdbourke/tensorflow-deep-learning/main/extras/helper_functions.py\n",
            "Resolving raw.githubusercontent.com (raw.githubusercontent.com)... 185.199.108.133, 185.199.109.133, 185.199.110.133, ...\n",
            "Connecting to raw.githubusercontent.com (raw.githubusercontent.com)|185.199.108.133|:443... connected.\n",
            "HTTP request sent, awaiting response... 200 OK\n",
            "Length: 10246 (10K) [text/plain]\n",
            "Saving to: ‘helper_functions.py’\n",
            "\n",
            "\rhelper_functions.py   0%[                    ]       0  --.-KB/s               \rhelper_functions.py 100%[===================>]  10.01K  --.-KB/s    in 0s      \n",
            "\n",
            "2023-12-03 21:23:26 (110 MB/s) - ‘helper_functions.py’ saved [10246/10246]\n",
            "\n"
          ]
        }
      ]
    },
    {
      "cell_type": "code",
      "source": [
        "# Import series of helper functions for the notebook\n",
        "from helper_functions import unzip_data, create_tensorboard_callback, plot_loss_curves, compare_historys"
      ],
      "metadata": {
        "id": "KxeEbVMBkJqd"
      },
      "execution_count": 5,
      "outputs": []
    },
    {
      "cell_type": "code",
      "source": [
        "# Download data (same as from Kaggle)\n",
        "!wget \"https://storage.googleapis.com/ztm_tf_course/nlp_getting_started.zip\"\n",
        "\n",
        "# Unzip data\n",
        "unzip_data(\"nlp_getting_started.zip\")"
      ],
      "metadata": {
        "colab": {
          "base_uri": "https://localhost:8080/"
        },
        "id": "v4ZwCq0VkJ2-",
        "outputId": "b786d84a-689c-4a5e-a538-75626dcc4331"
      },
      "execution_count": 6,
      "outputs": [
        {
          "output_type": "stream",
          "name": "stdout",
          "text": [
            "--2023-12-03 21:23:47--  https://storage.googleapis.com/ztm_tf_course/nlp_getting_started.zip\n",
            "Resolving storage.googleapis.com (storage.googleapis.com)... 142.251.2.207, 2607:f8b0:4023:c0d::cf, 2607:f8b0:4023:c06::cf\n",
            "Connecting to storage.googleapis.com (storage.googleapis.com)|142.251.2.207|:443... connected.\n",
            "HTTP request sent, awaiting response... 200 OK\n",
            "Length: 607343 (593K) [application/zip]\n",
            "Saving to: ‘nlp_getting_started.zip’\n",
            "\n",
            "\rnlp_getting_started   0%[                    ]       0  --.-KB/s               \rnlp_getting_started 100%[===================>] 593.11K  --.-KB/s    in 0.005s  \n",
            "\n",
            "2023-12-03 21:23:47 (125 MB/s) - ‘nlp_getting_started.zip’ saved [607343/607343]\n",
            "\n"
          ]
        }
      ]
    },
    {
      "cell_type": "code",
      "source": [
        "# Turn .csv files into pandas DataFrame's\n",
        "import pandas as pd\n",
        "train_df = pd.read_csv(\"train.csv\")\n",
        "test_df = pd.read_csv(\"test.csv\")\n",
        "train_df.head()"
      ],
      "metadata": {
        "colab": {
          "base_uri": "https://localhost:8080/",
          "height": 206
        },
        "id": "-CWeyhlfkKZ1",
        "outputId": "e8d1242b-6acb-4e93-9e3d-fc656c41ada2"
      },
      "execution_count": 7,
      "outputs": [
        {
          "output_type": "execute_result",
          "data": {
            "text/plain": [
              "   id keyword location                                               text  \\\n",
              "0   1     NaN      NaN  Our Deeds are the Reason of this #earthquake M...   \n",
              "1   4     NaN      NaN             Forest fire near La Ronge Sask. Canada   \n",
              "2   5     NaN      NaN  All residents asked to 'shelter in place' are ...   \n",
              "3   6     NaN      NaN  13,000 people receive #wildfires evacuation or...   \n",
              "4   7     NaN      NaN  Just got sent this photo from Ruby #Alaska as ...   \n",
              "\n",
              "   target  \n",
              "0       1  \n",
              "1       1  \n",
              "2       1  \n",
              "3       1  \n",
              "4       1  "
            ],
            "text/html": [
              "\n",
              "  <div id=\"df-d78a8a2e-9e46-493d-a670-90f6b48b4681\" class=\"colab-df-container\">\n",
              "    <div>\n",
              "<style scoped>\n",
              "    .dataframe tbody tr th:only-of-type {\n",
              "        vertical-align: middle;\n",
              "    }\n",
              "\n",
              "    .dataframe tbody tr th {\n",
              "        vertical-align: top;\n",
              "    }\n",
              "\n",
              "    .dataframe thead th {\n",
              "        text-align: right;\n",
              "    }\n",
              "</style>\n",
              "<table border=\"1\" class=\"dataframe\">\n",
              "  <thead>\n",
              "    <tr style=\"text-align: right;\">\n",
              "      <th></th>\n",
              "      <th>id</th>\n",
              "      <th>keyword</th>\n",
              "      <th>location</th>\n",
              "      <th>text</th>\n",
              "      <th>target</th>\n",
              "    </tr>\n",
              "  </thead>\n",
              "  <tbody>\n",
              "    <tr>\n",
              "      <th>0</th>\n",
              "      <td>1</td>\n",
              "      <td>NaN</td>\n",
              "      <td>NaN</td>\n",
              "      <td>Our Deeds are the Reason of this #earthquake M...</td>\n",
              "      <td>1</td>\n",
              "    </tr>\n",
              "    <tr>\n",
              "      <th>1</th>\n",
              "      <td>4</td>\n",
              "      <td>NaN</td>\n",
              "      <td>NaN</td>\n",
              "      <td>Forest fire near La Ronge Sask. Canada</td>\n",
              "      <td>1</td>\n",
              "    </tr>\n",
              "    <tr>\n",
              "      <th>2</th>\n",
              "      <td>5</td>\n",
              "      <td>NaN</td>\n",
              "      <td>NaN</td>\n",
              "      <td>All residents asked to 'shelter in place' are ...</td>\n",
              "      <td>1</td>\n",
              "    </tr>\n",
              "    <tr>\n",
              "      <th>3</th>\n",
              "      <td>6</td>\n",
              "      <td>NaN</td>\n",
              "      <td>NaN</td>\n",
              "      <td>13,000 people receive #wildfires evacuation or...</td>\n",
              "      <td>1</td>\n",
              "    </tr>\n",
              "    <tr>\n",
              "      <th>4</th>\n",
              "      <td>7</td>\n",
              "      <td>NaN</td>\n",
              "      <td>NaN</td>\n",
              "      <td>Just got sent this photo from Ruby #Alaska as ...</td>\n",
              "      <td>1</td>\n",
              "    </tr>\n",
              "  </tbody>\n",
              "</table>\n",
              "</div>\n",
              "    <div class=\"colab-df-buttons\">\n",
              "\n",
              "  <div class=\"colab-df-container\">\n",
              "    <button class=\"colab-df-convert\" onclick=\"convertToInteractive('df-d78a8a2e-9e46-493d-a670-90f6b48b4681')\"\n",
              "            title=\"Convert this dataframe to an interactive table.\"\n",
              "            style=\"display:none;\">\n",
              "\n",
              "  <svg xmlns=\"http://www.w3.org/2000/svg\" height=\"24px\" viewBox=\"0 -960 960 960\">\n",
              "    <path d=\"M120-120v-720h720v720H120Zm60-500h600v-160H180v160Zm220 220h160v-160H400v160Zm0 220h160v-160H400v160ZM180-400h160v-160H180v160Zm440 0h160v-160H620v160ZM180-180h160v-160H180v160Zm440 0h160v-160H620v160Z\"/>\n",
              "  </svg>\n",
              "    </button>\n",
              "\n",
              "  <style>\n",
              "    .colab-df-container {\n",
              "      display:flex;\n",
              "      gap: 12px;\n",
              "    }\n",
              "\n",
              "    .colab-df-convert {\n",
              "      background-color: #E8F0FE;\n",
              "      border: none;\n",
              "      border-radius: 50%;\n",
              "      cursor: pointer;\n",
              "      display: none;\n",
              "      fill: #1967D2;\n",
              "      height: 32px;\n",
              "      padding: 0 0 0 0;\n",
              "      width: 32px;\n",
              "    }\n",
              "\n",
              "    .colab-df-convert:hover {\n",
              "      background-color: #E2EBFA;\n",
              "      box-shadow: 0px 1px 2px rgba(60, 64, 67, 0.3), 0px 1px 3px 1px rgba(60, 64, 67, 0.15);\n",
              "      fill: #174EA6;\n",
              "    }\n",
              "\n",
              "    .colab-df-buttons div {\n",
              "      margin-bottom: 4px;\n",
              "    }\n",
              "\n",
              "    [theme=dark] .colab-df-convert {\n",
              "      background-color: #3B4455;\n",
              "      fill: #D2E3FC;\n",
              "    }\n",
              "\n",
              "    [theme=dark] .colab-df-convert:hover {\n",
              "      background-color: #434B5C;\n",
              "      box-shadow: 0px 1px 3px 1px rgba(0, 0, 0, 0.15);\n",
              "      filter: drop-shadow(0px 1px 2px rgba(0, 0, 0, 0.3));\n",
              "      fill: #FFFFFF;\n",
              "    }\n",
              "  </style>\n",
              "\n",
              "    <script>\n",
              "      const buttonEl =\n",
              "        document.querySelector('#df-d78a8a2e-9e46-493d-a670-90f6b48b4681 button.colab-df-convert');\n",
              "      buttonEl.style.display =\n",
              "        google.colab.kernel.accessAllowed ? 'block' : 'none';\n",
              "\n",
              "      async function convertToInteractive(key) {\n",
              "        const element = document.querySelector('#df-d78a8a2e-9e46-493d-a670-90f6b48b4681');\n",
              "        const dataTable =\n",
              "          await google.colab.kernel.invokeFunction('convertToInteractive',\n",
              "                                                    [key], {});\n",
              "        if (!dataTable) return;\n",
              "\n",
              "        const docLinkHtml = 'Like what you see? Visit the ' +\n",
              "          '<a target=\"_blank\" href=https://colab.research.google.com/notebooks/data_table.ipynb>data table notebook</a>'\n",
              "          + ' to learn more about interactive tables.';\n",
              "        element.innerHTML = '';\n",
              "        dataTable['output_type'] = 'display_data';\n",
              "        await google.colab.output.renderOutput(dataTable, element);\n",
              "        const docLink = document.createElement('div');\n",
              "        docLink.innerHTML = docLinkHtml;\n",
              "        element.appendChild(docLink);\n",
              "      }\n",
              "    </script>\n",
              "  </div>\n",
              "\n",
              "\n",
              "<div id=\"df-b15aeed5-1197-493b-a3f3-738cf6ec9517\">\n",
              "  <button class=\"colab-df-quickchart\" onclick=\"quickchart('df-b15aeed5-1197-493b-a3f3-738cf6ec9517')\"\n",
              "            title=\"Suggest charts\"\n",
              "            style=\"display:none;\">\n",
              "\n",
              "<svg xmlns=\"http://www.w3.org/2000/svg\" height=\"24px\"viewBox=\"0 0 24 24\"\n",
              "     width=\"24px\">\n",
              "    <g>\n",
              "        <path d=\"M19 3H5c-1.1 0-2 .9-2 2v14c0 1.1.9 2 2 2h14c1.1 0 2-.9 2-2V5c0-1.1-.9-2-2-2zM9 17H7v-7h2v7zm4 0h-2V7h2v10zm4 0h-2v-4h2v4z\"/>\n",
              "    </g>\n",
              "</svg>\n",
              "  </button>\n",
              "\n",
              "<style>\n",
              "  .colab-df-quickchart {\n",
              "      --bg-color: #E8F0FE;\n",
              "      --fill-color: #1967D2;\n",
              "      --hover-bg-color: #E2EBFA;\n",
              "      --hover-fill-color: #174EA6;\n",
              "      --disabled-fill-color: #AAA;\n",
              "      --disabled-bg-color: #DDD;\n",
              "  }\n",
              "\n",
              "  [theme=dark] .colab-df-quickchart {\n",
              "      --bg-color: #3B4455;\n",
              "      --fill-color: #D2E3FC;\n",
              "      --hover-bg-color: #434B5C;\n",
              "      --hover-fill-color: #FFFFFF;\n",
              "      --disabled-bg-color: #3B4455;\n",
              "      --disabled-fill-color: #666;\n",
              "  }\n",
              "\n",
              "  .colab-df-quickchart {\n",
              "    background-color: var(--bg-color);\n",
              "    border: none;\n",
              "    border-radius: 50%;\n",
              "    cursor: pointer;\n",
              "    display: none;\n",
              "    fill: var(--fill-color);\n",
              "    height: 32px;\n",
              "    padding: 0;\n",
              "    width: 32px;\n",
              "  }\n",
              "\n",
              "  .colab-df-quickchart:hover {\n",
              "    background-color: var(--hover-bg-color);\n",
              "    box-shadow: 0 1px 2px rgba(60, 64, 67, 0.3), 0 1px 3px 1px rgba(60, 64, 67, 0.15);\n",
              "    fill: var(--button-hover-fill-color);\n",
              "  }\n",
              "\n",
              "  .colab-df-quickchart-complete:disabled,\n",
              "  .colab-df-quickchart-complete:disabled:hover {\n",
              "    background-color: var(--disabled-bg-color);\n",
              "    fill: var(--disabled-fill-color);\n",
              "    box-shadow: none;\n",
              "  }\n",
              "\n",
              "  .colab-df-spinner {\n",
              "    border: 2px solid var(--fill-color);\n",
              "    border-color: transparent;\n",
              "    border-bottom-color: var(--fill-color);\n",
              "    animation:\n",
              "      spin 1s steps(1) infinite;\n",
              "  }\n",
              "\n",
              "  @keyframes spin {\n",
              "    0% {\n",
              "      border-color: transparent;\n",
              "      border-bottom-color: var(--fill-color);\n",
              "      border-left-color: var(--fill-color);\n",
              "    }\n",
              "    20% {\n",
              "      border-color: transparent;\n",
              "      border-left-color: var(--fill-color);\n",
              "      border-top-color: var(--fill-color);\n",
              "    }\n",
              "    30% {\n",
              "      border-color: transparent;\n",
              "      border-left-color: var(--fill-color);\n",
              "      border-top-color: var(--fill-color);\n",
              "      border-right-color: var(--fill-color);\n",
              "    }\n",
              "    40% {\n",
              "      border-color: transparent;\n",
              "      border-right-color: var(--fill-color);\n",
              "      border-top-color: var(--fill-color);\n",
              "    }\n",
              "    60% {\n",
              "      border-color: transparent;\n",
              "      border-right-color: var(--fill-color);\n",
              "    }\n",
              "    80% {\n",
              "      border-color: transparent;\n",
              "      border-right-color: var(--fill-color);\n",
              "      border-bottom-color: var(--fill-color);\n",
              "    }\n",
              "    90% {\n",
              "      border-color: transparent;\n",
              "      border-bottom-color: var(--fill-color);\n",
              "    }\n",
              "  }\n",
              "</style>\n",
              "\n",
              "  <script>\n",
              "    async function quickchart(key) {\n",
              "      const quickchartButtonEl =\n",
              "        document.querySelector('#' + key + ' button');\n",
              "      quickchartButtonEl.disabled = true;  // To prevent multiple clicks.\n",
              "      quickchartButtonEl.classList.add('colab-df-spinner');\n",
              "      try {\n",
              "        const charts = await google.colab.kernel.invokeFunction(\n",
              "            'suggestCharts', [key], {});\n",
              "      } catch (error) {\n",
              "        console.error('Error during call to suggestCharts:', error);\n",
              "      }\n",
              "      quickchartButtonEl.classList.remove('colab-df-spinner');\n",
              "      quickchartButtonEl.classList.add('colab-df-quickchart-complete');\n",
              "    }\n",
              "    (() => {\n",
              "      let quickchartButtonEl =\n",
              "        document.querySelector('#df-b15aeed5-1197-493b-a3f3-738cf6ec9517 button');\n",
              "      quickchartButtonEl.style.display =\n",
              "        google.colab.kernel.accessAllowed ? 'block' : 'none';\n",
              "    })();\n",
              "  </script>\n",
              "</div>\n",
              "    </div>\n",
              "  </div>\n"
            ]
          },
          "metadata": {},
          "execution_count": 7
        }
      ]
    },
    {
      "cell_type": "code",
      "source": [
        "# Shuffle training dataframe\n",
        "train_df_shuffled = train_df.sample(frac=1, random_state=42) # shuffle with random_state=42 for reproducibility\n",
        "train_df_shuffled.head()"
      ],
      "metadata": {
        "colab": {
          "base_uri": "https://localhost:8080/",
          "height": 206
        },
        "id": "IhYdbLEqkKjM",
        "outputId": "1e2d10d6-5121-4f6a-b861-517e9ab92b34"
      },
      "execution_count": 8,
      "outputs": [
        {
          "output_type": "execute_result",
          "data": {
            "text/plain": [
              "        id      keyword               location  \\\n",
              "2644  3796  destruction                    NaN   \n",
              "2227  3185       deluge                    NaN   \n",
              "5448  7769       police                     UK   \n",
              "132    191   aftershock                    NaN   \n",
              "6845  9810       trauma  Montgomery County, MD   \n",
              "\n",
              "                                                   text  target  \n",
              "2644  So you have a new weapon that can cause un-ima...       1  \n",
              "2227  The f$&amp;@ing things I do for #GISHWHES Just...       0  \n",
              "5448  DT @georgegalloway: RT @Galloway4Mayor: ÛÏThe...       1  \n",
              "132   Aftershock back to school kick off was great. ...       0  \n",
              "6845  in response to trauma Children of Addicts deve...       0  "
            ],
            "text/html": [
              "\n",
              "  <div id=\"df-194c4bda-67af-49f6-8bb9-e8931b11bd5a\" class=\"colab-df-container\">\n",
              "    <div>\n",
              "<style scoped>\n",
              "    .dataframe tbody tr th:only-of-type {\n",
              "        vertical-align: middle;\n",
              "    }\n",
              "\n",
              "    .dataframe tbody tr th {\n",
              "        vertical-align: top;\n",
              "    }\n",
              "\n",
              "    .dataframe thead th {\n",
              "        text-align: right;\n",
              "    }\n",
              "</style>\n",
              "<table border=\"1\" class=\"dataframe\">\n",
              "  <thead>\n",
              "    <tr style=\"text-align: right;\">\n",
              "      <th></th>\n",
              "      <th>id</th>\n",
              "      <th>keyword</th>\n",
              "      <th>location</th>\n",
              "      <th>text</th>\n",
              "      <th>target</th>\n",
              "    </tr>\n",
              "  </thead>\n",
              "  <tbody>\n",
              "    <tr>\n",
              "      <th>2644</th>\n",
              "      <td>3796</td>\n",
              "      <td>destruction</td>\n",
              "      <td>NaN</td>\n",
              "      <td>So you have a new weapon that can cause un-ima...</td>\n",
              "      <td>1</td>\n",
              "    </tr>\n",
              "    <tr>\n",
              "      <th>2227</th>\n",
              "      <td>3185</td>\n",
              "      <td>deluge</td>\n",
              "      <td>NaN</td>\n",
              "      <td>The f$&amp;amp;@ing things I do for #GISHWHES Just...</td>\n",
              "      <td>0</td>\n",
              "    </tr>\n",
              "    <tr>\n",
              "      <th>5448</th>\n",
              "      <td>7769</td>\n",
              "      <td>police</td>\n",
              "      <td>UK</td>\n",
              "      <td>DT @georgegalloway: RT @Galloway4Mayor: ÛÏThe...</td>\n",
              "      <td>1</td>\n",
              "    </tr>\n",
              "    <tr>\n",
              "      <th>132</th>\n",
              "      <td>191</td>\n",
              "      <td>aftershock</td>\n",
              "      <td>NaN</td>\n",
              "      <td>Aftershock back to school kick off was great. ...</td>\n",
              "      <td>0</td>\n",
              "    </tr>\n",
              "    <tr>\n",
              "      <th>6845</th>\n",
              "      <td>9810</td>\n",
              "      <td>trauma</td>\n",
              "      <td>Montgomery County, MD</td>\n",
              "      <td>in response to trauma Children of Addicts deve...</td>\n",
              "      <td>0</td>\n",
              "    </tr>\n",
              "  </tbody>\n",
              "</table>\n",
              "</div>\n",
              "    <div class=\"colab-df-buttons\">\n",
              "\n",
              "  <div class=\"colab-df-container\">\n",
              "    <button class=\"colab-df-convert\" onclick=\"convertToInteractive('df-194c4bda-67af-49f6-8bb9-e8931b11bd5a')\"\n",
              "            title=\"Convert this dataframe to an interactive table.\"\n",
              "            style=\"display:none;\">\n",
              "\n",
              "  <svg xmlns=\"http://www.w3.org/2000/svg\" height=\"24px\" viewBox=\"0 -960 960 960\">\n",
              "    <path d=\"M120-120v-720h720v720H120Zm60-500h600v-160H180v160Zm220 220h160v-160H400v160Zm0 220h160v-160H400v160ZM180-400h160v-160H180v160Zm440 0h160v-160H620v160ZM180-180h160v-160H180v160Zm440 0h160v-160H620v160Z\"/>\n",
              "  </svg>\n",
              "    </button>\n",
              "\n",
              "  <style>\n",
              "    .colab-df-container {\n",
              "      display:flex;\n",
              "      gap: 12px;\n",
              "    }\n",
              "\n",
              "    .colab-df-convert {\n",
              "      background-color: #E8F0FE;\n",
              "      border: none;\n",
              "      border-radius: 50%;\n",
              "      cursor: pointer;\n",
              "      display: none;\n",
              "      fill: #1967D2;\n",
              "      height: 32px;\n",
              "      padding: 0 0 0 0;\n",
              "      width: 32px;\n",
              "    }\n",
              "\n",
              "    .colab-df-convert:hover {\n",
              "      background-color: #E2EBFA;\n",
              "      box-shadow: 0px 1px 2px rgba(60, 64, 67, 0.3), 0px 1px 3px 1px rgba(60, 64, 67, 0.15);\n",
              "      fill: #174EA6;\n",
              "    }\n",
              "\n",
              "    .colab-df-buttons div {\n",
              "      margin-bottom: 4px;\n",
              "    }\n",
              "\n",
              "    [theme=dark] .colab-df-convert {\n",
              "      background-color: #3B4455;\n",
              "      fill: #D2E3FC;\n",
              "    }\n",
              "\n",
              "    [theme=dark] .colab-df-convert:hover {\n",
              "      background-color: #434B5C;\n",
              "      box-shadow: 0px 1px 3px 1px rgba(0, 0, 0, 0.15);\n",
              "      filter: drop-shadow(0px 1px 2px rgba(0, 0, 0, 0.3));\n",
              "      fill: #FFFFFF;\n",
              "    }\n",
              "  </style>\n",
              "\n",
              "    <script>\n",
              "      const buttonEl =\n",
              "        document.querySelector('#df-194c4bda-67af-49f6-8bb9-e8931b11bd5a button.colab-df-convert');\n",
              "      buttonEl.style.display =\n",
              "        google.colab.kernel.accessAllowed ? 'block' : 'none';\n",
              "\n",
              "      async function convertToInteractive(key) {\n",
              "        const element = document.querySelector('#df-194c4bda-67af-49f6-8bb9-e8931b11bd5a');\n",
              "        const dataTable =\n",
              "          await google.colab.kernel.invokeFunction('convertToInteractive',\n",
              "                                                    [key], {});\n",
              "        if (!dataTable) return;\n",
              "\n",
              "        const docLinkHtml = 'Like what you see? Visit the ' +\n",
              "          '<a target=\"_blank\" href=https://colab.research.google.com/notebooks/data_table.ipynb>data table notebook</a>'\n",
              "          + ' to learn more about interactive tables.';\n",
              "        element.innerHTML = '';\n",
              "        dataTable['output_type'] = 'display_data';\n",
              "        await google.colab.output.renderOutput(dataTable, element);\n",
              "        const docLink = document.createElement('div');\n",
              "        docLink.innerHTML = docLinkHtml;\n",
              "        element.appendChild(docLink);\n",
              "      }\n",
              "    </script>\n",
              "  </div>\n",
              "\n",
              "\n",
              "<div id=\"df-32b2e530-a31f-4199-b9db-5dbe468eadb2\">\n",
              "  <button class=\"colab-df-quickchart\" onclick=\"quickchart('df-32b2e530-a31f-4199-b9db-5dbe468eadb2')\"\n",
              "            title=\"Suggest charts\"\n",
              "            style=\"display:none;\">\n",
              "\n",
              "<svg xmlns=\"http://www.w3.org/2000/svg\" height=\"24px\"viewBox=\"0 0 24 24\"\n",
              "     width=\"24px\">\n",
              "    <g>\n",
              "        <path d=\"M19 3H5c-1.1 0-2 .9-2 2v14c0 1.1.9 2 2 2h14c1.1 0 2-.9 2-2V5c0-1.1-.9-2-2-2zM9 17H7v-7h2v7zm4 0h-2V7h2v10zm4 0h-2v-4h2v4z\"/>\n",
              "    </g>\n",
              "</svg>\n",
              "  </button>\n",
              "\n",
              "<style>\n",
              "  .colab-df-quickchart {\n",
              "      --bg-color: #E8F0FE;\n",
              "      --fill-color: #1967D2;\n",
              "      --hover-bg-color: #E2EBFA;\n",
              "      --hover-fill-color: #174EA6;\n",
              "      --disabled-fill-color: #AAA;\n",
              "      --disabled-bg-color: #DDD;\n",
              "  }\n",
              "\n",
              "  [theme=dark] .colab-df-quickchart {\n",
              "      --bg-color: #3B4455;\n",
              "      --fill-color: #D2E3FC;\n",
              "      --hover-bg-color: #434B5C;\n",
              "      --hover-fill-color: #FFFFFF;\n",
              "      --disabled-bg-color: #3B4455;\n",
              "      --disabled-fill-color: #666;\n",
              "  }\n",
              "\n",
              "  .colab-df-quickchart {\n",
              "    background-color: var(--bg-color);\n",
              "    border: none;\n",
              "    border-radius: 50%;\n",
              "    cursor: pointer;\n",
              "    display: none;\n",
              "    fill: var(--fill-color);\n",
              "    height: 32px;\n",
              "    padding: 0;\n",
              "    width: 32px;\n",
              "  }\n",
              "\n",
              "  .colab-df-quickchart:hover {\n",
              "    background-color: var(--hover-bg-color);\n",
              "    box-shadow: 0 1px 2px rgba(60, 64, 67, 0.3), 0 1px 3px 1px rgba(60, 64, 67, 0.15);\n",
              "    fill: var(--button-hover-fill-color);\n",
              "  }\n",
              "\n",
              "  .colab-df-quickchart-complete:disabled,\n",
              "  .colab-df-quickchart-complete:disabled:hover {\n",
              "    background-color: var(--disabled-bg-color);\n",
              "    fill: var(--disabled-fill-color);\n",
              "    box-shadow: none;\n",
              "  }\n",
              "\n",
              "  .colab-df-spinner {\n",
              "    border: 2px solid var(--fill-color);\n",
              "    border-color: transparent;\n",
              "    border-bottom-color: var(--fill-color);\n",
              "    animation:\n",
              "      spin 1s steps(1) infinite;\n",
              "  }\n",
              "\n",
              "  @keyframes spin {\n",
              "    0% {\n",
              "      border-color: transparent;\n",
              "      border-bottom-color: var(--fill-color);\n",
              "      border-left-color: var(--fill-color);\n",
              "    }\n",
              "    20% {\n",
              "      border-color: transparent;\n",
              "      border-left-color: var(--fill-color);\n",
              "      border-top-color: var(--fill-color);\n",
              "    }\n",
              "    30% {\n",
              "      border-color: transparent;\n",
              "      border-left-color: var(--fill-color);\n",
              "      border-top-color: var(--fill-color);\n",
              "      border-right-color: var(--fill-color);\n",
              "    }\n",
              "    40% {\n",
              "      border-color: transparent;\n",
              "      border-right-color: var(--fill-color);\n",
              "      border-top-color: var(--fill-color);\n",
              "    }\n",
              "    60% {\n",
              "      border-color: transparent;\n",
              "      border-right-color: var(--fill-color);\n",
              "    }\n",
              "    80% {\n",
              "      border-color: transparent;\n",
              "      border-right-color: var(--fill-color);\n",
              "      border-bottom-color: var(--fill-color);\n",
              "    }\n",
              "    90% {\n",
              "      border-color: transparent;\n",
              "      border-bottom-color: var(--fill-color);\n",
              "    }\n",
              "  }\n",
              "</style>\n",
              "\n",
              "  <script>\n",
              "    async function quickchart(key) {\n",
              "      const quickchartButtonEl =\n",
              "        document.querySelector('#' + key + ' button');\n",
              "      quickchartButtonEl.disabled = true;  // To prevent multiple clicks.\n",
              "      quickchartButtonEl.classList.add('colab-df-spinner');\n",
              "      try {\n",
              "        const charts = await google.colab.kernel.invokeFunction(\n",
              "            'suggestCharts', [key], {});\n",
              "      } catch (error) {\n",
              "        console.error('Error during call to suggestCharts:', error);\n",
              "      }\n",
              "      quickchartButtonEl.classList.remove('colab-df-spinner');\n",
              "      quickchartButtonEl.classList.add('colab-df-quickchart-complete');\n",
              "    }\n",
              "    (() => {\n",
              "      let quickchartButtonEl =\n",
              "        document.querySelector('#df-32b2e530-a31f-4199-b9db-5dbe468eadb2 button');\n",
              "      quickchartButtonEl.style.display =\n",
              "        google.colab.kernel.accessAllowed ? 'block' : 'none';\n",
              "    })();\n",
              "  </script>\n",
              "</div>\n",
              "    </div>\n",
              "  </div>\n"
            ]
          },
          "metadata": {},
          "execution_count": 8
        }
      ]
    },
    {
      "cell_type": "code",
      "source": [
        "# splitting dataset\n",
        "from sklearn.model_selection import train_test_split\n",
        "\n",
        "# Use tran_test_split to split training datainto training and validation sets\n",
        "train_sentences, val_sentences, train_labels, val_labels = train_test_split(train_df_shuffled['text'].to_numpy(), # to convert into numpy arrays for tensorflow\n",
        "                                                                            train_df_shuffled['target'].to_numpy(),\n",
        "                                                                            test_size=0.1, # 10% of validation set\n",
        "                                                                            random_state=42)"
      ],
      "metadata": {
        "id": "ctW15KM7kKtN"
      },
      "execution_count": 9,
      "outputs": []
    },
    {
      "cell_type": "code",
      "source": [
        "# tokenisation\n",
        "import tensorflow as tf\n",
        "from tensorflow.keras.layers import TextVectorization # after TesorFlow 2.6\n",
        "\n",
        "# Use the default TextVectorization variables\n",
        "text_vectorizer = TextVectorization(max_tokens=None, # how many words in the vocab\n",
        "                                    standardize='lower_and_strip_punctuation', # how to process text\n",
        "                                    split='whitespace', # how to split tokens\n",
        "                                    ngrams=None, # create group of n-words?\n",
        "                                    output_mode='int', # how to map tokens to numbers\n",
        "                                    output_sequence_length=None) # how long should the output sequence of tokens be?\n",
        "                                    # pad_to_max_tokens=True) # Not valid if using max_tokens=None"
      ],
      "metadata": {
        "id": "cW1oO6GbkK2N"
      },
      "execution_count": 10,
      "outputs": []
    },
    {
      "cell_type": "code",
      "source": [
        "# text vectorizer\n",
        "max_vocab_length = 10000\n",
        "max_length = 15\n",
        "\n",
        "text_vectorizer = TextVectorization(max_tokens=max_vocab_length,\n",
        "                                 output_mode='int',\n",
        "                                 output_sequence_length=max_length)"
      ],
      "metadata": {
        "id": "jYmAeIrzkK-d"
      },
      "execution_count": 11,
      "outputs": []
    },
    {
      "cell_type": "code",
      "source": [
        "# fit the text vectorizer to the training text\n",
        "text_vectorizer.adapt(train_sentences)"
      ],
      "metadata": {
        "id": "PXs8vjWAkLFm"
      },
      "execution_count": 12,
      "outputs": []
    },
    {
      "cell_type": "code",
      "source": [
        "# # Example of pretrained embedding with universal sentence encoder - https://tfhub.dev/google/universal-sentence-encoder/4\n",
        "# import tensorflow_hub as hub\n",
        "# embed = hub.load(\"https://tfhub.dev/google/universal-sentence-encoder/4\") # load Universal Sentence Encoder\n",
        "# embed_samples = embed([sample_sentence,\n",
        "#                       \"When you call the universal sentence encoder on a sentence, it turns it into numbers.\"])\n",
        "\n",
        "# print(embed_samples[0][:50])"
      ],
      "metadata": {
        "colab": {
          "base_uri": "https://localhost:8080/",
          "height": 245
        },
        "id": "TeeVd4_PkLMU",
        "outputId": "6492a759-8e91-482c-fa4f-6acfc7f28058"
      },
      "execution_count": 13,
      "outputs": [
        {
          "output_type": "error",
          "ename": "NameError",
          "evalue": "ignored",
          "traceback": [
            "\u001b[0;31m---------------------------------------------------------------------------\u001b[0m",
            "\u001b[0;31mNameError\u001b[0m                                 Traceback (most recent call last)",
            "\u001b[0;32m<ipython-input-13-8bb630229f75>\u001b[0m in \u001b[0;36m<cell line: 4>\u001b[0;34m()\u001b[0m\n\u001b[1;32m      2\u001b[0m \u001b[0;32mimport\u001b[0m \u001b[0mtensorflow_hub\u001b[0m \u001b[0;32mas\u001b[0m \u001b[0mhub\u001b[0m\u001b[0;34m\u001b[0m\u001b[0;34m\u001b[0m\u001b[0m\n\u001b[1;32m      3\u001b[0m \u001b[0membed\u001b[0m \u001b[0;34m=\u001b[0m \u001b[0mhub\u001b[0m\u001b[0;34m.\u001b[0m\u001b[0mload\u001b[0m\u001b[0;34m(\u001b[0m\u001b[0;34m\"https://tfhub.dev/google/universal-sentence-encoder/4\"\u001b[0m\u001b[0;34m)\u001b[0m \u001b[0;31m# load Universal Sentence Encoder\u001b[0m\u001b[0;34m\u001b[0m\u001b[0;34m\u001b[0m\u001b[0m\n\u001b[0;32m----> 4\u001b[0;31m embed_samples = embed([sample_sentence,\n\u001b[0m\u001b[1;32m      5\u001b[0m                       \"When you call the universal sentence encoder on a sentence, it turns it into numbers.\"])\n\u001b[1;32m      6\u001b[0m \u001b[0;34m\u001b[0m\u001b[0m\n",
            "\u001b[0;31mNameError\u001b[0m: name 'sample_sentence' is not defined"
          ]
        }
      ]
    },
    {
      "cell_type": "code",
      "source": [
        "import tensorflow_hub as hub"
      ],
      "metadata": {
        "id": "n_qezNtmk2W-"
      },
      "execution_count": 15,
      "outputs": []
    },
    {
      "cell_type": "code",
      "source": [
        "max_vocab_length"
      ],
      "metadata": {
        "colab": {
          "base_uri": "https://localhost:8080/"
        },
        "id": "D7bBJ5FglEY5",
        "outputId": "a55f5ddf-5ac0-4457-ed3c-7e60489c2fc1"
      },
      "execution_count": 18,
      "outputs": [
        {
          "output_type": "execute_result",
          "data": {
            "text/plain": [
              "10000"
            ]
          },
          "metadata": {},
          "execution_count": 18
        }
      ]
    },
    {
      "cell_type": "code",
      "source": [
        "max_length"
      ],
      "metadata": {
        "colab": {
          "base_uri": "https://localhost:8080/"
        },
        "id": "T2CkJM_Ul3-w",
        "outputId": "9f76d344-98d3-42eb-f180-a05c1e5ff81f"
      },
      "execution_count": 22,
      "outputs": [
        {
          "output_type": "execute_result",
          "data": {
            "text/plain": [
              "15"
            ]
          },
          "metadata": {},
          "execution_count": 22
        }
      ]
    },
    {
      "cell_type": "code",
      "source": [
        "# Set random seed and create embedding layer (new embedding layer for each model)\n",
        "tf.random.set_seed(42)\n",
        "from tensorflow.keras import layers\n",
        "model_5_embedding = layers.Embedding(input_dim=max_vocab_length,\n",
        "                                     output_dim=128,\n",
        "                                     embeddings_initializer='uniform',\n",
        "                                    #  input_length=max_length,\n",
        "                                     name='embedding_5')\n",
        "\n",
        "# Create 1-dimensional convolutional layer to model sequences\n",
        "from tensorflow.keras import layers\n",
        "inputs = layers.Input(shape=(1,), dtype='string')\n",
        "x=text_vectorizer(inputs)\n",
        "x=model_5_embedding(x)\n",
        "x=layers.Conv1D(filters=32,kernel_size=5,activation='relu')(x)\n",
        "x=layers.GlobalMaxPool1D()(x)\n",
        "# x=layers.Dense(64,activation='relu')(x) # optional dense layer\n",
        "outputs=layers.Dense(1,activation='sigmoid')(x)\n",
        "model_5=tf.keras.Model(inputs,outputs,name='model_5_Conv1D')\n",
        "\n",
        "# compile conv1d model\n",
        "model_5.compile(loss='binary_crossentropy',\n",
        "                optimizer=tf.keras.optimizers.Adam(),\n",
        "                metrics=['accuracy'])\n",
        "# summary of model\n",
        "model_5.summary()"
      ],
      "metadata": {
        "colab": {
          "base_uri": "https://localhost:8080/",
          "height": 374
        },
        "id": "PqoNUjGylyr2",
        "outputId": "efb8b3e7-9e53-4a72-af6d-8375f2f3ddd8"
      },
      "execution_count": 27,
      "outputs": [
        {
          "output_type": "display_data",
          "data": {
            "text/plain": [
              "\u001b[1mModel: \"model_5_Conv1D\"\u001b[0m\n"
            ],
            "text/html": [
              "<pre style=\"white-space:pre;overflow-x:auto;line-height:normal;font-family:Menlo,'DejaVu Sans Mono',consolas,'Courier New',monospace\"><span style=\"font-weight: bold\">Model: \"model_5_Conv1D\"</span>\n",
              "</pre>\n"
            ]
          },
          "metadata": {}
        },
        {
          "output_type": "display_data",
          "data": {
            "text/plain": [
              "┏━━━━━━━━━━━━━━━━━━━━━━━━━━━━━━━━━━━━┳━━━━━━━━━━━━━━━━━━━━━━━━━━━━━━━┳━━━━━━━━━━━━━┓\n",
              "┃\u001b[1m \u001b[0m\u001b[1mLayer (type)                      \u001b[0m\u001b[1m \u001b[0m┃\u001b[1m \u001b[0m\u001b[1mOutput Shape                 \u001b[0m\u001b[1m \u001b[0m┃\u001b[1m \u001b[0m\u001b[1m    Param #\u001b[0m\u001b[1m \u001b[0m┃\n",
              "┡━━━━━━━━━━━━━━━━━━━━━━━━━━━━━━━━━━━━╇━━━━━━━━━━━━━━━━━━━━━━━━━━━━━━━╇━━━━━━━━━━━━━┩\n",
              "│ input_layer_2 (\u001b[38;5;33mInputLayer\u001b[0m)         │ (\u001b[38;5;45mNone\u001b[0m, \u001b[38;5;34m1\u001b[0m)                     │           \u001b[38;5;34m0\u001b[0m │\n",
              "├────────────────────────────────────┼───────────────────────────────┼─────────────┤\n",
              "│ text_vectorization_1               │ (\u001b[38;5;45mNone\u001b[0m, \u001b[38;5;34m15\u001b[0m)                    │           \u001b[38;5;34m0\u001b[0m │\n",
              "│ (\u001b[38;5;33mTextVectorization\u001b[0m)                │                               │             │\n",
              "├────────────────────────────────────┼───────────────────────────────┼─────────────┤\n",
              "│ embedding_5 (\u001b[38;5;33mEmbedding\u001b[0m)            │ (\u001b[38;5;45mNone\u001b[0m, \u001b[38;5;34m15\u001b[0m, \u001b[38;5;34m128\u001b[0m)               │   \u001b[38;5;34m1,280,000\u001b[0m │\n",
              "├────────────────────────────────────┼───────────────────────────────┼─────────────┤\n",
              "│ conv1d (\u001b[38;5;33mConv1D\u001b[0m)                    │ (\u001b[38;5;45mNone\u001b[0m, \u001b[38;5;34m11\u001b[0m, \u001b[38;5;34m32\u001b[0m)                │      \u001b[38;5;34m20,512\u001b[0m │\n",
              "├────────────────────────────────────┼───────────────────────────────┼─────────────┤\n",
              "│ global_max_pooling1d               │ (\u001b[38;5;45mNone\u001b[0m, \u001b[38;5;34m32\u001b[0m)                    │           \u001b[38;5;34m0\u001b[0m │\n",
              "│ (\u001b[38;5;33mGlobalMaxPooling1D\u001b[0m)               │                               │             │\n",
              "├────────────────────────────────────┼───────────────────────────────┼─────────────┤\n",
              "│ dense_1 (\u001b[38;5;33mDense\u001b[0m)                    │ (\u001b[38;5;45mNone\u001b[0m, \u001b[38;5;34m1\u001b[0m)                     │          \u001b[38;5;34m33\u001b[0m │\n",
              "└────────────────────────────────────┴───────────────────────────────┴─────────────┘\n"
            ],
            "text/html": [
              "<pre style=\"white-space:pre;overflow-x:auto;line-height:normal;font-family:Menlo,'DejaVu Sans Mono',consolas,'Courier New',monospace\">┏━━━━━━━━━━━━━━━━━━━━━━━━━━━━━━━━━━━━┳━━━━━━━━━━━━━━━━━━━━━━━━━━━━━━━┳━━━━━━━━━━━━━┓\n",
              "┃<span style=\"font-weight: bold\"> Layer (type)                       </span>┃<span style=\"font-weight: bold\"> Output Shape                  </span>┃<span style=\"font-weight: bold\">     Param # </span>┃\n",
              "┡━━━━━━━━━━━━━━━━━━━━━━━━━━━━━━━━━━━━╇━━━━━━━━━━━━━━━━━━━━━━━━━━━━━━━╇━━━━━━━━━━━━━┩\n",
              "│ input_layer_2 (<span style=\"color: #0087ff; text-decoration-color: #0087ff\">InputLayer</span>)         │ (<span style=\"color: #00d7ff; text-decoration-color: #00d7ff\">None</span>, <span style=\"color: #00af00; text-decoration-color: #00af00\">1</span>)                     │           <span style=\"color: #00af00; text-decoration-color: #00af00\">0</span> │\n",
              "├────────────────────────────────────┼───────────────────────────────┼─────────────┤\n",
              "│ text_vectorization_1               │ (<span style=\"color: #00d7ff; text-decoration-color: #00d7ff\">None</span>, <span style=\"color: #00af00; text-decoration-color: #00af00\">15</span>)                    │           <span style=\"color: #00af00; text-decoration-color: #00af00\">0</span> │\n",
              "│ (<span style=\"color: #0087ff; text-decoration-color: #0087ff\">TextVectorization</span>)                │                               │             │\n",
              "├────────────────────────────────────┼───────────────────────────────┼─────────────┤\n",
              "│ embedding_5 (<span style=\"color: #0087ff; text-decoration-color: #0087ff\">Embedding</span>)            │ (<span style=\"color: #00d7ff; text-decoration-color: #00d7ff\">None</span>, <span style=\"color: #00af00; text-decoration-color: #00af00\">15</span>, <span style=\"color: #00af00; text-decoration-color: #00af00\">128</span>)               │   <span style=\"color: #00af00; text-decoration-color: #00af00\">1,280,000</span> │\n",
              "├────────────────────────────────────┼───────────────────────────────┼─────────────┤\n",
              "│ conv1d (<span style=\"color: #0087ff; text-decoration-color: #0087ff\">Conv1D</span>)                    │ (<span style=\"color: #00d7ff; text-decoration-color: #00d7ff\">None</span>, <span style=\"color: #00af00; text-decoration-color: #00af00\">11</span>, <span style=\"color: #00af00; text-decoration-color: #00af00\">32</span>)                │      <span style=\"color: #00af00; text-decoration-color: #00af00\">20,512</span> │\n",
              "├────────────────────────────────────┼───────────────────────────────┼─────────────┤\n",
              "│ global_max_pooling1d               │ (<span style=\"color: #00d7ff; text-decoration-color: #00d7ff\">None</span>, <span style=\"color: #00af00; text-decoration-color: #00af00\">32</span>)                    │           <span style=\"color: #00af00; text-decoration-color: #00af00\">0</span> │\n",
              "│ (<span style=\"color: #0087ff; text-decoration-color: #0087ff\">GlobalMaxPooling1D</span>)               │                               │             │\n",
              "├────────────────────────────────────┼───────────────────────────────┼─────────────┤\n",
              "│ dense_1 (<span style=\"color: #0087ff; text-decoration-color: #0087ff\">Dense</span>)                    │ (<span style=\"color: #00d7ff; text-decoration-color: #00d7ff\">None</span>, <span style=\"color: #00af00; text-decoration-color: #00af00\">1</span>)                     │          <span style=\"color: #00af00; text-decoration-color: #00af00\">33</span> │\n",
              "└────────────────────────────────────┴───────────────────────────────┴─────────────┘\n",
              "</pre>\n"
            ]
          },
          "metadata": {}
        },
        {
          "output_type": "display_data",
          "data": {
            "text/plain": [
              "\u001b[1m Total params: \u001b[0m\u001b[38;5;34m1,300,545\u001b[0m (4.96 MB)\n"
            ],
            "text/html": [
              "<pre style=\"white-space:pre;overflow-x:auto;line-height:normal;font-family:Menlo,'DejaVu Sans Mono',consolas,'Courier New',monospace\"><span style=\"font-weight: bold\"> Total params: </span><span style=\"color: #00af00; text-decoration-color: #00af00\">1,300,545</span> (4.96 MB)\n",
              "</pre>\n"
            ]
          },
          "metadata": {}
        },
        {
          "output_type": "display_data",
          "data": {
            "text/plain": [
              "\u001b[1m Trainable params: \u001b[0m\u001b[38;5;34m1,300,545\u001b[0m (4.96 MB)\n"
            ],
            "text/html": [
              "<pre style=\"white-space:pre;overflow-x:auto;line-height:normal;font-family:Menlo,'DejaVu Sans Mono',consolas,'Courier New',monospace\"><span style=\"font-weight: bold\"> Trainable params: </span><span style=\"color: #00af00; text-decoration-color: #00af00\">1,300,545</span> (4.96 MB)\n",
              "</pre>\n"
            ]
          },
          "metadata": {}
        },
        {
          "output_type": "display_data",
          "data": {
            "text/plain": [
              "\u001b[1m Non-trainable params: \u001b[0m\u001b[38;5;34m0\u001b[0m (0.00 B)\n"
            ],
            "text/html": [
              "<pre style=\"white-space:pre;overflow-x:auto;line-height:normal;font-family:Menlo,'DejaVu Sans Mono',consolas,'Courier New',monospace\"><span style=\"font-weight: bold\"> Non-trainable params: </span><span style=\"color: #00af00; text-decoration-color: #00af00\">0</span> (0.00 B)\n",
              "</pre>\n"
            ]
          },
          "metadata": {}
        }
      ]
    },
    {
      "cell_type": "code",
      "source": [
        "# Fit the model\n",
        "model_5_history = model_5.fit(train_sentences,\n",
        "                              train_labels,\n",
        "                              epochs=5,\n",
        "                              validation_data=(val_sentences,val_labels),\n",
        "                              callbacks=[create_tensorboard_callback('model_logs','Conv1D')])"
      ],
      "metadata": {
        "colab": {
          "base_uri": "https://localhost:8080/"
        },
        "id": "Ldf7tA6AkLQ7",
        "outputId": "782a45d8-e2bb-4bfe-d723-9ef30337ce3e"
      },
      "execution_count": 29,
      "outputs": [
        {
          "output_type": "stream",
          "name": "stdout",
          "text": [
            "Saving TensorBoard log files to: model_logs/Conv1D/20231203-213313\n",
            "Epoch 1/5\n",
            "\u001b[1m215/215\u001b[0m \u001b[32m━━━━━━━━━━━━━━━━━━━━\u001b[0m\u001b[37m\u001b[0m \u001b[1m5s\u001b[0m 12ms/step - accuracy: 0.6551 - loss: 0.6295 - val_accuracy: 0.7827 - val_loss: 0.4692\n",
            "Epoch 2/5\n",
            "\u001b[1m215/215\u001b[0m \u001b[32m━━━━━━━━━━━━━━━━━━━━\u001b[0m\u001b[37m\u001b[0m \u001b[1m5s\u001b[0m 13ms/step - accuracy: 0.8476 - loss: 0.3752 - val_accuracy: 0.7866 - val_loss: 0.4761\n",
            "Epoch 3/5\n",
            "\u001b[1m215/215\u001b[0m \u001b[32m━━━━━━━━━━━━━━━━━━━━\u001b[0m\u001b[37m\u001b[0m \u001b[1m2s\u001b[0m 11ms/step - accuracy: 0.9091 - loss: 0.2429 - val_accuracy: 0.7850 - val_loss: 0.5328\n",
            "Epoch 4/5\n",
            "\u001b[1m215/215\u001b[0m \u001b[32m━━━━━━━━━━━━━━━━━━━━\u001b[0m\u001b[37m\u001b[0m \u001b[1m3s\u001b[0m 12ms/step - accuracy: 0.9475 - loss: 0.1573 - val_accuracy: 0.7837 - val_loss: 0.6065\n",
            "Epoch 5/5\n",
            "\u001b[1m215/215\u001b[0m \u001b[32m━━━━━━━━━━━━━━━━━━━━\u001b[0m\u001b[37m\u001b[0m \u001b[1m2s\u001b[0m 10ms/step - accuracy: 0.9669 - loss: 0.1062 - val_accuracy: 0.7784 - val_loss: 0.6630\n"
          ]
        }
      ]
    },
    {
      "cell_type": "code",
      "source": [
        "# Create model using the Sequential API\n",
        "model_6 = tf.keras.Sequential([\n",
        "    sentence_encoder_layer, # take in sentences and then encode them into an embedding\n",
        "    layers.Dense(64, activation='relu'),\n",
        "    layers.Dense(1, activation='sigmoid')\n",
        "],name='model_6_USE')\n",
        "\n",
        "# compile model\n",
        "model_6.compile(loss='binary_crossentropy',\n",
        "                optimizer=tf.keras.optimizers.Adam(),\n",
        "                metrics=['accuracy'])\n",
        "\n",
        "model_6.summary()"
      ],
      "metadata": {
        "id": "6crd_MYmkLU9"
      },
      "execution_count": null,
      "outputs": []
    },
    {
      "cell_type": "code",
      "source": [],
      "metadata": {
        "id": "TOIV_MPLknRG"
      },
      "execution_count": null,
      "outputs": []
    },
    {
      "cell_type": "code",
      "source": [],
      "metadata": {
        "id": "yRLqlO8IkncW"
      },
      "execution_count": null,
      "outputs": []
    },
    {
      "cell_type": "code",
      "source": [],
      "metadata": {
        "id": "fYuMoRrIknon"
      },
      "execution_count": null,
      "outputs": []
    },
    {
      "cell_type": "code",
      "source": [],
      "metadata": {
        "id": "cbWyTrLEknym"
      },
      "execution_count": null,
      "outputs": []
    },
    {
      "cell_type": "code",
      "source": [],
      "metadata": {
        "id": "cM8lljhakn6m"
      },
      "execution_count": null,
      "outputs": []
    },
    {
      "cell_type": "markdown",
      "source": [
        "# ending code"
      ],
      "metadata": {
        "id": "Spt4aLeDkDTz"
      }
    },
    {
      "cell_type": "code",
      "source": [
        "import keras_nlp\n",
        "import keras\n",
        "import tensorflow as tf\n",
        "import os\n",
        "\n",
        "keras.utils.set_random_seed(42)"
      ],
      "metadata": {
        "colab": {
          "base_uri": "https://localhost:8080/"
        },
        "id": "1a_1GQ9nE6TP",
        "outputId": "4d286069-2834-4b7f-e479-7ef8e98a0d2e"
      },
      "execution_count": 15,
      "outputs": [
        {
          "output_type": "stream",
          "name": "stdout",
          "text": [
            "Using TensorFlow backend\n"
          ]
        }
      ]
    },
    {
      "cell_type": "code",
      "source": [],
      "metadata": {
        "id": "ApZ4fK6X6R5k"
      },
      "execution_count": null,
      "outputs": []
    },
    {
      "cell_type": "code",
      "source": [
        "# define our hyperparameters\n",
        "BATCH_SIZE=64\n",
        "EPOCHS=3\n",
        "MAX_SEQUENCE_LENGTH=512\n",
        "VOCAB_SIZE=15000\n",
        "\n",
        "EMBED_DIM=128\n",
        "INTERMEDIATE_DIM=512"
      ],
      "metadata": {
        "id": "d5NfnhB0FCor"
      },
      "execution_count": 3,
      "outputs": []
    },
    {
      "cell_type": "code",
      "source": [
        "# Loading dataset\n",
        "!wget http://ai.stanford.edu/~amaas/data/sentiment/aclImdb_v1.tar.gz\n",
        "!tar -xzf aclImdb_v1.tar.gz"
      ],
      "metadata": {
        "colab": {
          "base_uri": "https://localhost:8080/"
        },
        "id": "qbONgawIFTy4",
        "outputId": "15551b72-ff30-43cf-bd98-18b289e732d2"
      },
      "execution_count": 4,
      "outputs": [
        {
          "output_type": "stream",
          "name": "stdout",
          "text": [
            "--2023-12-04 18:14:22--  http://ai.stanford.edu/~amaas/data/sentiment/aclImdb_v1.tar.gz\n",
            "Resolving ai.stanford.edu (ai.stanford.edu)... 171.64.68.10\n",
            "Connecting to ai.stanford.edu (ai.stanford.edu)|171.64.68.10|:80... connected.\n",
            "HTTP request sent, awaiting response... 200 OK\n",
            "Length: 84125825 (80M) [application/x-gzip]\n",
            "Saving to: ‘aclImdb_v1.tar.gz’\n",
            "\n",
            "aclImdb_v1.tar.gz   100%[===================>]  80.23M  7.35MB/s    in 12s     \n",
            "\n",
            "2023-12-04 18:14:34 (6.76 MB/s) - ‘aclImdb_v1.tar.gz’ saved [84125825/84125825]\n",
            "\n"
          ]
        }
      ]
    },
    {
      "cell_type": "code",
      "source": [
        "# samples are present in form of text files. lets inspect the structure\n",
        "print(os.listdir('./aclImdb'))\n",
        "print(os.listdir('./aclImdb/train'))\n",
        "print(os.listdir('./aclImdb/test'))"
      ],
      "metadata": {
        "colab": {
          "base_uri": "https://localhost:8080/"
        },
        "id": "RfjJ9OHrFkrN",
        "outputId": "4fafd550-fc95-428e-acb8-4132a305d478"
      },
      "execution_count": 5,
      "outputs": [
        {
          "output_type": "stream",
          "name": "stdout",
          "text": [
            "['README', 'train', 'test', 'imdb.vocab', 'imdbEr.txt']\n",
            "['unsupBow.feat', 'unsup', 'labeledBow.feat', 'pos', 'urls_pos.txt', 'neg', 'urls_neg.txt', 'urls_unsup.txt']\n",
            "['labeledBow.feat', 'pos', 'urls_pos.txt', 'neg', 'urls_neg.txt']\n"
          ]
        }
      ]
    },
    {
      "cell_type": "code",
      "source": [
        "# deleting unsup folder as it does not have any label\n",
        "!rm -rf aclImdb/train/unsup"
      ],
      "metadata": {
        "id": "7meUCuLeJEzQ"
      },
      "execution_count": 6,
      "outputs": []
    },
    {
      "cell_type": "code",
      "source": [
        "# we'll use the keras.utils.text_dataset_from_directory utility to generate our labelled tf.data.Dataset dataset from text files\n",
        "train_ds = keras.utils.text_dataset_from_directory(\n",
        "    'aclImdb/train',\n",
        "    batch_size=BATCH_SIZE,\n",
        "    validation_split=0.2,\n",
        "    subset='training',\n",
        "    seed=42,\n",
        ")\n",
        "val_ds = keras.utils.text_dataset_from_directory(\n",
        "    'aclImdb/train',\n",
        "    batch_size=BATCH_SIZE,\n",
        "    validation_split=0.2,\n",
        "    subset='validation',\n",
        "    seed=42\n",
        ")\n",
        "test_ds=keras.utils.text_dataset_from_directory('aclImdb/test',batch_size=BATCH_SIZE)"
      ],
      "metadata": {
        "colab": {
          "base_uri": "https://localhost:8080/"
        },
        "id": "1ImiXLvGF5Lj",
        "outputId": "382fbeb7-73b0-401e-c309-595b5d0bc3d7"
      },
      "execution_count": 7,
      "outputs": [
        {
          "output_type": "stream",
          "name": "stdout",
          "text": [
            "Found 25000 files belonging to 2 classes.\n",
            "Using 20000 files for training.\n",
            "Found 25000 files belonging to 2 classes.\n",
            "Using 5000 files for validation.\n",
            "Found 25000 files belonging to 2 classes.\n"
          ]
        }
      ]
    },
    {
      "cell_type": "code",
      "source": [
        "for text_batch, label_batch in train_ds.take(1):\n",
        "  for i in range(3):\n",
        "    print(text_batch.numpy()[i])\n",
        "    print(label_batch.numpy()[i])\n"
      ],
      "metadata": {
        "colab": {
          "base_uri": "https://localhost:8080/"
        },
        "id": "7Rmb24IUHMzr",
        "outputId": "da6af008-3360-44cf-9743-dbf7e8295d74"
      },
      "execution_count": 7,
      "outputs": [
        {
          "output_type": "stream",
          "name": "stdout",
          "text": [
            "b'An illegal immigrant resists the social support system causing dire consequences for many. Well filmed and acted even though the story is a bit forced, yet the slow pacing really sets off the conclusion. The feeling of being lost in the big city is effectively conveyed. The little person lost in the big society is something to which we can all relate, but I cannot endorse going out of your way to see this movie.'\n",
            "0\n",
            "b\"To get in touch with the beauty of this film pay close attention to the sound track, not only the music, but the way all sounds help to weave the imagery. How beautifully the opening scene leading to the expulsion of Gino establishes the theme of moral ambiguity! Note the way music introduces the characters as we are led inside Giovanna's marriage. Don't expect to find much here of the political life of Italy in 1943. That's not what this is about. On the other hand, if you are susceptible to the music of images and sounds, you will be led into a word that reaches beyond neo-realism. By the end of the film we there are moments Antonioni-like landscape that has more to do with the inner life of the characters than with real places. This is one of my favorite Visconti films.\"\n",
            "1\n",
            "b'\"Hollywood Hotel\" has relationships to many films like \"Ella Cinders\" and \"Merton of the Movies\" about someone winning a contest including a contract to make films in Hollywood, only to find the road to stardom either paved with pitfalls or non-existent. In fact, as I was watching it tonight, on Turner Classic Movies, I was considering whether or not the authors of the later musical classic \"Singing In The Rain\" may have taken some of their ideas from \"Hollywood Hotel\", most notably a temperamental leading lady star in a movie studio and a conclusion concerning one person singing a film score while another person got the credit by mouthing along on screen.<br /><br />\"Hollywood Hotel\" is a fascinating example of movie making in the 1930s. Among the supporting players is Louella Parsons, playing herself (and, despite some negative comments I\\'ve seen, she has a very ingratiating personality on screen and a natural command of her lines). She is not the only real person in the script. Make-up specialist Perc Westmore briefly appears as himself to try to make one character resemble another.<br /><br />This film also was one of the first in the career of young Mr. Ronald Reagan, playing a radio interviewer at a movie premiere. Reagan actually does quite nicely in his brief scenes - particularly when he realizes that nobody Dick Powell is about to take over the microphone when it should be used with more important people.<br /><br />Dick Powell has won a Hollywood contract in a contest, and is leaving his job as a saxophonist in Benny Goodman\\'s band. The beginning of this film, by the way, is quite impressive, as the band drives in a parade of trucks to give a proper goodbye to Powell. They end up singing \"Hooray For Hollywood\". The interesting thing about this wonderful number is that a lyric has been left out on purpose. Throughout the Johnny Mercer lyrics are references to such Hollywood as Max Factor the make-up king, Rin tin tin, and even a hint of Tarzan. But the original song lyric referred to looking like Tyrone Power. Obviously Jack Warner and his brothers were not going to advertise the leading man of 20th Century Fox, and the name Donald Duck was substituted. In any event the number showed the singers and instrumentalists of Goodman\\'s orchestra at their best. So did a later five minute section of the film, where the band is rehearsing.<br /><br />Powell leaves the band and his girl friend (Frances Langford) and goes to Hollywood, only to find he is a contract player (most likely for musicals involving saxophonists). He is met by Allen Joslyn, the publicist of the studio (the owner is Grant Mitchell). Joslyn is not a bad fellow, but he is busy and he tends to slough off people unless it is necessary to speak to them. He parks Powell at a room at the Hollywood Hotel, which is also where the studio\\'s temperamental star (Lola Lane) lives with her father (Hugh Herbert), her sister (Mabel Todd), and her sensible if cynical assistant (Glenda Farrell). Lane is like Jean Hagen in \"Singing In The Rain\", except her speaking voice is good. Her version of \"Dan Lockwood\" is one \"Alexander Dupre\" (Alan Mowbray, scene stealing with ease several times). The only difference is that Mowbray is not a nice guy like Gene Kelly was, and Lane (when not wrapped up in her ego) is fully aware of it. Having a fit on being by-passed for an out-of-the ordinary role she wanted, she refuses to attend the premiere of her latest film. Joslyn finds a double for her (Lola\\'s real life sister Rosemary Lane), and Rosemary is made up to play the star at the premiere and the follow-up party. But she attends with Powell (Joslyn wanting someone who doesn\\'t know the real Lola). This leads to Powell knocking down Mowbray when the latter makes a pest of himself. But otherwise the evening is a success, and when the two are together they start finding each other attractive.<br /><br />The complications deal with Lola coming back and slapping Powell in the face, after Mowbray complains he was attacked by Powell (\"and his gang of hoodlums\"). Powell\\'s contract is bought out. Working with photographer turned agent Ted Healey (actually not too bad in this film - he even tries to do a Jolson imitation at one point), the two try to find work, ending up as employees at a hamburger stand run by bad tempered Edgar Kennedy (the number of broken dishes and singing customers in the restaurant give Edgar plenty of time to do his slow burns with gusto). Eventually Powell gets a \"break\" by being hired to be Dupre\\'s singing voice in a rip-off of \"Gone With The Wind\". This leads to the final section of the film, when Rosemary Lane, Herbert, and Healey help give Powell his chance to show it\\'s his voice, not Mowbrays.<br /><br />It\\'s quite a cute and appealing film even now. The worst aspects are due to it\\'s time. Several jokes concerning African-Americans are no longer tolerable (while trying to photograph Powell as he arrives in Hollywood, Healey accidentally photographs a porter, and mentions to Joslyn to watch out, Powell photographs too darkly - get the point?). Also a bit with Curt Bois as a fashion designer for Lola Lane, who is (shall we say) too high strung is not very tolerable either. Herbert\\'s \"hoo-hoo\"ing is a bit much (too much of the time) but it was really popular in 1937. And an incident where Healey nearly gets into a brawl at the premiere (this was one of his last films) reminds people of the tragic, still mysterious end of the comedian in December 1937. But most of the film is quite good, and won\\'t disappoint the viewer in 2008.'\n",
            "1\n"
          ]
        }
      ]
    },
    {
      "cell_type": "code",
      "source": [
        "# we will now convert the text to lowercase\n",
        "train_ds = train_ds.map(lambda x,y : (tf.strings.lower(x),y))\n",
        "val_ds = val_ds.map(lambda x,y:(tf.strings.lower(x),y))\n",
        "test_ds = test_ds.map(lambda x,y:(tf.strings.lower(x),y))\n"
      ],
      "metadata": {
        "id": "NNbXjH9vGO84"
      },
      "execution_count": 8,
      "outputs": []
    },
    {
      "cell_type": "code",
      "source": [
        "for text_batch, label_batch in train_ds.take(1):\n",
        "  for i in range(3):\n",
        "    print(text_batch.numpy()[i])\n",
        "    print(label_batch.numpy()[i])\n"
      ],
      "metadata": {
        "colab": {
          "base_uri": "https://localhost:8080/"
        },
        "id": "HufvqjDQJiPr",
        "outputId": "e7d04f32-03b7-49f2-9ce0-b418b52704b6"
      },
      "execution_count": 9,
      "outputs": [
        {
          "output_type": "stream",
          "name": "stdout",
          "text": [
            "b\"nobody said movies had to be realistic did they? i really liked this movie because i remember when i first saw it in junior high. for all the kids who remember the pmrc and albums before there were warning stickers, it's a cool story for all those kids who were part of the mid to late 80's headbanger crowd.\"\n",
            "1\n",
            "b\"a different look at horror. the styling differences between american and russian films is interesting. however from my american perspective this movie just wasn't that good. the protagonist, marie played by anastasia hille wasn't a pleasant character and i had a hard time identifying with her. she was disagreeable most of the time and confused for much of what little time was left. also too much time was spent in bringing her to the main location of the film. then a long time passed before any real suspense built up. once that happened it seemed volume was used as the main effect which was more annoying than anything else. the concept was more original than most direct-to-video movies and they didn't use sex to make up for a thin plot. all in all i'd recommend it for renting, but not for theater goers.\"\n",
            "0\n",
            "b'the movie \"atlantis: the lost empire\" is a shining gem in the rubble of films produced by the disney studios recently. parents who have had to sit through \"the jungle book 2\" or even a pokemon movie will surely appreciate this one.<br /><br />the film is one of few to attempt at an original story; previous feature films were merely re tellings of existing stories. films such as \"toy story\", \"finding nemo\", and \"monsters inc.\" all do the same, but it must be noted that all were made by pixar and only distributed by disney. recent films from the disney studios are mostly released direct to video, and are sequels to an existing successful film. the quality of those films is given way to the profitability. a new era started with \"atlantis\" following it were \"mulan\", \"lilo & stitch\", and most recently \"open range\". the writers have created all original story lines instead of the fairy tales of the past.<br /><br />a good portion of the movie is devoted to the quest to find atlantis, a task that has captured the imagination of many for hundreds of years. including that of young milo thatch, voiced by michael j. fox. milo is employed by a museum in washington d.c.. his grandfather was a renowned archaeologist, who had devoted his life to discovering atlantis. this was seen as a waste by his peers, and they wish milo to not follow in his footsteps. after failing to convince the museum board of directors to sponsor his expedition, milo comes home to find a woman in his darkened apartment. she takes him to her employer, a mr. whitmore. whitmore was a close friend of milo\\'s grandfather, and wishes to send milo with a team to locate atlantis. mr. whitmore is very wealth and has paid for the best of everything. the crew that is to accompany him is the same as his grandfathers. the journey is filled with many great obstacles to overcome and is great fun to watch. the viewer finds themselves caught up in if they will reach atlantis. the plot takes an unexpected turn after the discovery atlantis, not just the discovery of people. it is enough to keep the interest of the older audience.<br /><br />the animators have done a wonderful job in then depth of the animation. the movie is very successful in blending traditional animation with computer generated images. a feat not easily achieved, most audiences are quick to notice the difference in the two. the characters are believably human. there are some nice chase type scenes, with lots of action going on. a few lulls are filled with jokes that the children just may not get.<br /><br />the creativity of the writers really shines through. the culture of atlantis is richly developed, including an entire language. the film uses references to atlantis from historical sources, such as plato. the disappearance of atlantis from the world is explained. believable, if by a younger audience, that magic really does exist. the powers of the people of atlantis are not exactly presented as magic, but can best be described in this way.<br /><br />although set in 1914 the level of technology used is unrealistic. the voyage is in a submarine very reminiscent of captain nemo\\'s nautilus, complete with sub pods that fire torpedoes. the giant diggers are driven by steam boilers so they did try for some era technology. the female characters are empowered in a way that women of the age would not have been, even holding roles in leadership. this is not a bad thing. it gives a good role model for my daughter to look to, rather than an all male cast.<br /><br />one reason this film is a favorite of mine over other disney films is that there is not one single song, ever. a tradition that began with the first feature film, \"snow white\", and carried on through to \"the lion king\", almost every disney film is full of upbeat songs. this is great and all, what would the seven dwarfs be without \"hi ho!\"? after the millionth time through it\\'d almost be better without, but this one spares the parent. not once does every single person on the screen suddenly know the words to a song that no one has ever heard before and break out in song. i for one am grateful.<br /><br />the storyline and depth of animation is sure to keep the attention of both parent and child alike. it is a film i am willing to watch again and again with my children.'\n",
            "1\n"
          ]
        }
      ]
    },
    {
      "cell_type": "code",
      "source": [
        "# tokenizing data\n",
        "def train_word_pieces(ds,vocab_size,reserved_tokens):\n",
        "  word_piece_ds = ds.unbatch().map(lambda x,y : x)\n",
        "  vocab = keras_nlp.tokenizers.compute_word_piece_vocabulary(\n",
        "      word_piece_ds.batch(1000).prefetch(2),\n",
        "      vocabulary_size=vocab_size,\n",
        "      reserved_tokens=reserved_tokens,\n",
        "  )\n",
        "  return vocab"
      ],
      "metadata": {
        "id": "4ElmKxO3JmqC"
      },
      "execution_count": 10,
      "outputs": []
    },
    {
      "cell_type": "code",
      "source": [
        "reserved_tokens=[\"[PAD]\",\"[UNK]\"]\n",
        "train_sentences = [element[0] for element in train_ds]\n",
        "vocab = train_word_pieces(train_ds,VOCAB_SIZE, reserved_tokens)"
      ],
      "metadata": {
        "id": "i_Fq3RC5KM0k"
      },
      "execution_count": 11,
      "outputs": []
    },
    {
      "cell_type": "code",
      "source": [
        "tokenizer = keras_nlp.tokenizers.WordPieceTokenizer(\n",
        "    vocabulary=vocab,\n",
        "    lowercase=False,\n",
        "    sequence_length=MAX_SEQUENCE_LENGTH,\n",
        ")"
      ],
      "metadata": {
        "id": "t5HA576xKaok"
      },
      "execution_count": 12,
      "outputs": []
    },
    {
      "cell_type": "code",
      "source": [
        "input_sentence_ex = train_ds.take(1).get_single_element()[0][0]\n",
        "input_tokens_ex = tokenizer(input_sentence_ex)\n",
        "\n",
        "print(\"Sentence:\", input_sentence_ex)\n",
        "print(\"Tokens:\",input_tokens_ex)\n",
        "print(\"Recovered text after detokenizing:\", tokenizer.detokenize(input_tokens_ex))"
      ],
      "metadata": {
        "colab": {
          "base_uri": "https://localhost:8080/"
        },
        "id": "krvMNolBM4bC",
        "outputId": "98cd3e7a-dcb8-4ad9-ce2f-8e809364183e"
      },
      "execution_count": 13,
      "outputs": [
        {
          "output_type": "stream",
          "name": "stdout",
          "text": [
            "Sentence: tf.Tensor(b\"prot\\xc3\\xa9g\\xc3\\xa9 runs in a linear fashion; expect no fast-paced action, and neither will you find yourself with baited breath because there are simply no seating-on-the-edge moments.<br /><br />there is not much of a crux, so don't expect one either. i would not fault the acting - the show would have been much worst if not for wu's acting which was the film's only saving grace. and, oh that cute little girl too.<br /><br />the humour is at best, weak, and the show must as well pass off as an anti-drug campaign which employs the usual shock-tactic (esp in the scenes with zhang) to tell us stuff that we already know - i.e. drugs break up families, heroin drives you crazy, it is not so easy to wean off, you will fall into a vicious cycle.<br /><br />i know it may seem all a little harsh, but i feel that the show is far from seamless and somewhat patchy (*spoiler alert*: take for example when andy lau got brought to the police station: what? we were just told 'oh we have all the tapes and evidence against you since 1997', and that is how he got caught. nope, no chasing-car action, just a jump-of-scene, which kind of undermined wu's role as an undercover in the first place.) i suspect the lack of creativity is attributed to the fact that it is after all, a production of mediacorp raintree - a singaporean production film company.\", shape=(), dtype=string)\n",
            "Tokens: tf.Tensor(\n",
            "[ 3732   398  3469 12865  1315   144    40  6915  1794    28   669   192\n",
            "   843    14  2046   343    13   138  1222   213   155   306   774   151\n",
            "  9725   257  2978   220   173   158   472   192  2454   239    14   154\n",
            "    14   137    14  1469   523    15    29   142    16    31    29   142\n",
            "    16    31   173   141   156   207   139    40    42 11751  1214    13\n",
            "   170   223     8    59   669   162   483    15    48   194   156  2405\n",
            "   137   246    14   137   255   194   160   210   207   387   180   156\n",
            "   149  8510     8    58   246   195   147   137   153     8    58   197\n",
            "  2065  1816    15   138    13   579   146  1187   250   377   231    15\n",
            "    29   142    16    31    29   142    16    31   137  1470   141   165\n",
            "   251    13   953    13   138   137   255   345   148   205  1486   260\n",
            "   148   168  1377    14  1586  6059   195 11186   137   779  1678    14\n",
            "    59 10718     9 13529   144   137   276   151 12052    10   140   519\n",
            "   317   675   146   202   606   256    14    48    15    44    15  1850\n",
            "  1143   189  2344    13 11213  3357   155  1078    13   143   141   156\n",
            "   170   911   140   202   771   260    13   155   213   925   217    40\n",
            "  4431  7832    15    29   142    16    31    29   142    16    31    48\n",
            "   256   143   338   448   163    40   250  2793    13   152    48   370\n",
            "   146   137   255   141   367   171 14257   138   812 10633   292     9\n",
            "    11  1491  4658    11    27   334   149   603   186  1927  1247   978\n",
            "   327  1019   140   137   712  1940    27   181    32   202   204   176\n",
            "   715     8   579   202   160   163   137  6192   138  2615   582   155\n",
            "   373  5448     8    13   138   146   141   221   157   327  1205    15\n",
            "  6826    13   192  3488    14   663   343    13   176    40  1953    14\n",
            "   139    14   271    13   195   380   139   619 12439  8510     8    58\n",
            "   357   148   168  9890   144   137   216   408    15    10    48  2000\n",
            "   137   711   139  5279   141 11125   140   137   328   146   143   141\n",
            "   234   163    13    40   503   139  1947 12062   895  2538  9272   314\n",
            "    14    40  2167  5915  4602   771   503   153  1291    15     0     0\n",
            "     0     0     0     0     0     0     0     0     0     0     0     0\n",
            "     0     0     0     0     0     0     0     0     0     0     0     0\n",
            "     0     0     0     0     0     0     0     0     0     0     0     0\n",
            "     0     0     0     0     0     0     0     0     0     0     0     0\n",
            "     0     0     0     0     0     0     0     0     0     0     0     0\n",
            "     0     0     0     0     0     0     0     0     0     0     0     0\n",
            "     0     0     0     0     0     0     0     0     0     0     0     0\n",
            "     0     0     0     0     0     0     0     0     0     0     0     0\n",
            "     0     0     0     0     0     0     0     0     0     0     0     0\n",
            "     0     0     0     0     0     0     0     0     0     0     0     0\n",
            "     0     0     0     0     0     0     0     0     0     0     0     0\n",
            "     0     0     0     0     0     0     0     0     0     0     0     0\n",
            "     0     0     0     0     0     0     0     0     0     0     0     0\n",
            "     0     0     0     0     0     0     0     0], shape=(512,), dtype=int32)\n",
            "Recovered text after detokenizing: tf.Tensor(b\"prot\\xc3\\xa9g\\xc3\\xa9 runs in a linear fashion ; expect no fast - paced action , and neither will you find yourself with baited breath because there are simply no seating - on - the - edge moments . < br / > < br / > there is not much of a crux , so don ' t expect one either . i would not fault the acting - the show would have been much worst if not for wu ' s acting which was the film ' s only saving grace . and , oh that cute little girl too . < br / > < br / > the humour is at best , weak , and the show must as well pass off as an anti - drug campaign which employs the usual shock - tactic ( esp in the scenes with zhang ) to tell us stuff that we already know - i . e . drugs break up families , heroin drives you crazy , it is not so easy to wean off , you will fall into a vicious cycle . < br / > < br / > i know it may seem all a little harsh , but i feel that the show is far from seamless and somewhat patchy ( * spoiler alert * : take for example when andy lau got brought to the police station : what ? we were just told ' oh we have all the tapes and evidence against you since 1997 ' , and that is how he got caught . nope , no chasing - car action , just a jump - of - scene , which kind of undermined wu ' s role as an undercover in the first place . ) i suspect the lack of creativity is attributed to the fact that it is after all , a production of mediacorp raintree - a singaporean production film company . [PAD] [PAD] [PAD] [PAD] [PAD] [PAD] [PAD] [PAD] [PAD] [PAD] [PAD] [PAD] [PAD] [PAD] [PAD] [PAD] [PAD] [PAD] [PAD] [PAD] [PAD] [PAD] [PAD] [PAD] [PAD] [PAD] [PAD] [PAD] [PAD] [PAD] [PAD] [PAD] [PAD] [PAD] [PAD] [PAD] [PAD] [PAD] [PAD] [PAD] [PAD] [PAD] [PAD] [PAD] [PAD] [PAD] [PAD] [PAD] [PAD] [PAD] [PAD] [PAD] [PAD] [PAD] [PAD] [PAD] [PAD] [PAD] [PAD] [PAD] [PAD] [PAD] [PAD] [PAD] [PAD] [PAD] [PAD] [PAD] [PAD] [PAD] [PAD] [PAD] [PAD] [PAD] [PAD] [PAD] [PAD] [PAD] [PAD] [PAD] [PAD] [PAD] [PAD] [PAD] [PAD] [PAD] [PAD] [PAD] [PAD] [PAD] [PAD] [PAD] [PAD] [PAD] [PAD] [PAD] [PAD] [PAD] [PAD] [PAD] [PAD] [PAD] [PAD] [PAD] [PAD] [PAD] [PAD] [PAD] [PAD] [PAD] [PAD] [PAD] [PAD] [PAD] [PAD] [PAD] [PAD] [PAD] [PAD] [PAD] [PAD] [PAD] [PAD] [PAD] [PAD] [PAD] [PAD] [PAD] [PAD] [PAD] [PAD] [PAD] [PAD] [PAD] [PAD] [PAD] [PAD] [PAD] [PAD] [PAD] [PAD] [PAD] [PAD] [PAD] [PAD] [PAD] [PAD] [PAD] [PAD] [PAD] [PAD] [PAD] [PAD] [PAD] [PAD] [PAD] [PAD] [PAD] [PAD] [PAD] [PAD] [PAD] [PAD] [PAD] [PAD] [PAD]\", shape=(), dtype=string)\n"
          ]
        }
      ]
    },
    {
      "cell_type": "code",
      "source": [
        "# formatting the dataset\n",
        "\n",
        "def format_dataset(sentence, label):\n",
        "  sentence=tokenizer(sentence)\n",
        "  return ({'input_ids':sentence},label)\n",
        "\n",
        "def make_dataset(dataset):\n",
        "  dataset=dataset.map(format_dataset, num_parallel_calls=tf.data.AUTOTUNE)\n",
        "  return dataset.shuffle(512).prefetch(16).cache()\n",
        "\n",
        "train_ds=make_dataset(train_ds)\n",
        "val_ds=make_dataset(val_ds)\n",
        "test_ds=make_dataset(test_ds)"
      ],
      "metadata": {
        "id": "Oaoea_Z4NuPz"
      },
      "execution_count": 13,
      "outputs": []
    },
    {
      "cell_type": "code",
      "source": [
        "INTERMEDIATE_DIM"
      ],
      "metadata": {
        "colab": {
          "base_uri": "https://localhost:8080/"
        },
        "id": "YXgq4Dm0U6jc",
        "outputId": "a93dcfc7-2103-4307-a773-4dfe54fd0cba"
      },
      "execution_count": 14,
      "outputs": [
        {
          "output_type": "execute_result",
          "data": {
            "text/plain": [
              "512"
            ]
          },
          "metadata": {},
          "execution_count": 14
        }
      ]
    },
    {
      "cell_type": "code",
      "source": [
        "# creating model\n",
        "input_ids = keras.Input(shape=(None,), dtype='int64', name='input_ids')\n",
        "\n",
        "x = keras_nlp.layers.TokenAndPositionEmbedding(\n",
        "    vocabulary_size=VOCAB_SIZE,\n",
        "    sequence_length=MAX_SEQUENCE_LENGTH,\n",
        "    embedding_dim=EMBED_DIM,\n",
        "    mask_zero=True,\n",
        ")(input_ids)\n",
        "\n",
        "x=keras_nlp.layers.FNetEncoder(intermediate_dim=INTERMEDIATE_DIM)(inputs=x)\n",
        "x=keras_nlp.layers.FNetEncoder(intermediate_dim=INTERMEDIATE_DIM)(x)\n",
        "x=keras_nlp.layers.FNetEncoder(intermediate_dim=INTERMEDIATE_DIM)(x)\n",
        "\n",
        "x=keras.layers.GlobalAveragePooling1D()(x)\n",
        "x=keras.layers.Dropout(0.1)(x)\n",
        "outputs=keras.layers.Dense(1,activation='sigmoid')(x)\n",
        "\n",
        "fnet_classifier=keras.Model(input_ids,outputs, name='fnet_classifier')"
      ],
      "metadata": {
        "id": "gWsqyr7rOQRm"
      },
      "execution_count": 15,
      "outputs": []
    },
    {
      "cell_type": "code",
      "source": [
        "!nvidia-smi"
      ],
      "metadata": {
        "colab": {
          "base_uri": "https://localhost:8080/"
        },
        "id": "VAFCZfrkaN6u",
        "outputId": "3439ca95-b8bb-4979-c031-34282ec494d3"
      },
      "execution_count": 17,
      "outputs": [
        {
          "output_type": "stream",
          "name": "stdout",
          "text": [
            "Sun Dec  3 21:13:12 2023       \n",
            "+-----------------------------------------------------------------------------+\n",
            "| NVIDIA-SMI 525.105.17   Driver Version: 525.105.17   CUDA Version: 12.0     |\n",
            "|-------------------------------+----------------------+----------------------+\n",
            "| GPU  Name        Persistence-M| Bus-Id        Disp.A | Volatile Uncorr. ECC |\n",
            "| Fan  Temp  Perf  Pwr:Usage/Cap|         Memory-Usage | GPU-Util  Compute M. |\n",
            "|                               |                      |               MIG M. |\n",
            "|===============================+======================+======================|\n",
            "|   0  Tesla T4            Off  | 00000000:00:04.0 Off |                    0 |\n",
            "| N/A   38C    P8     9W /  70W |      3MiB / 15360MiB |      0%      Default |\n",
            "|                               |                      |                  N/A |\n",
            "+-------------------------------+----------------------+----------------------+\n",
            "                                                                               \n",
            "+-----------------------------------------------------------------------------+\n",
            "| Processes:                                                                  |\n",
            "|  GPU   GI   CI        PID   Type   Process name                  GPU Memory |\n",
            "|        ID   ID                                                   Usage      |\n",
            "|=============================================================================|\n",
            "|  No running processes found                                                 |\n",
            "+-----------------------------------------------------------------------------+\n"
          ]
        }
      ]
    },
    {
      "cell_type": "markdown",
      "source": [
        "# this code is to check whether gpu device is there or not in kernel"
      ],
      "metadata": {
        "id": "HxH4u1OEfKKp"
      }
    },
    {
      "cell_type": "code",
      "source": [
        "import tensorflow as tf\n",
        "print(tf.__version__)\n",
        "print(tf.config.list_physical_devices())"
      ],
      "metadata": {
        "colab": {
          "base_uri": "https://localhost:8080/"
        },
        "id": "byHRToQQdY8l",
        "outputId": "990501f2-22d4-4ae5-f85d-79732b3b0b63"
      },
      "execution_count": 1,
      "outputs": [
        {
          "output_type": "stream",
          "name": "stdout",
          "text": [
            "2.14.0\n",
            "[PhysicalDevice(name='/physical_device:CPU:0', device_type='CPU'), PhysicalDevice(name='/physical_device:GPU:0', device_type='GPU')]\n"
          ]
        }
      ]
    },
    {
      "cell_type": "code",
      "source": [],
      "metadata": {
        "id": "D1343l1BeCoW"
      },
      "execution_count": null,
      "outputs": []
    },
    {
      "cell_type": "code",
      "source": [
        "# training our model\n",
        "\n",
        "fnet_classifier.summary()\n",
        "fnet_classifier.compile(\n",
        "    optimizer=keras.optimizers.Adam(learning_rate=0.001),\n",
        "    loss='binary_crossentropy',\n",
        "    metrics=['accuracy']\n",
        ")\n",
        "fnet_classifier.fit(train_ds, epochs=EPOCHS, validation_data=val_ds)"
      ],
      "metadata": {
        "colab": {
          "base_uri": "https://localhost:8080/"
        },
        "id": "S4BHpYyQTjPb",
        "outputId": "3e96d520-b013-4418-edd5-779be4d9f4e7"
      },
      "execution_count": 16,
      "outputs": [
        {
          "output_type": "stream",
          "name": "stdout",
          "text": [
            "Model: \"fnet_classifier\"\n",
            "_________________________________________________________________\n",
            " Layer (type)                Output Shape              Param #   \n",
            "=================================================================\n",
            " input_ids (InputLayer)      [(None, None)]            0         \n",
            "                                                                 \n",
            " token_and_position_embeddi  (None, None, 128)         1985536   \n",
            " ng (TokenAndPositionEmbedd                                      \n",
            " ing)                                                            \n",
            "                                                                 \n",
            " f_net_encoder (FNetEncoder  (None, None, 128)         132224    \n",
            " )                                                               \n",
            "                                                                 \n",
            " f_net_encoder_1 (FNetEncod  (None, None, 128)         132224    \n",
            " er)                                                             \n",
            "                                                                 \n",
            " f_net_encoder_2 (FNetEncod  (None, None, 128)         132224    \n",
            " er)                                                             \n",
            "                                                                 \n",
            " global_average_pooling1d (  (None, 128)               0         \n",
            " GlobalAveragePooling1D)                                         \n",
            "                                                                 \n",
            " dropout (Dropout)           (None, 128)               0         \n",
            "                                                                 \n",
            " dense (Dense)               (None, 1)                 129       \n",
            "                                                                 \n",
            "=================================================================\n",
            "Total params: 2382337 (9.09 MB)\n",
            "Trainable params: 2382337 (9.09 MB)\n",
            "Non-trainable params: 0 (0.00 Byte)\n",
            "_________________________________________________________________\n",
            "Epoch 1/3\n",
            "313/313 [==============================] - 67s 169ms/step - loss: 0.5189 - accuracy: 0.7033 - val_loss: 0.3232 - val_accuracy: 0.8652\n",
            "Epoch 2/3\n",
            "313/313 [==============================] - 25s 78ms/step - loss: 0.2564 - accuracy: 0.8971 - val_loss: 0.3702 - val_accuracy: 0.8446\n",
            "Epoch 3/3\n",
            "313/313 [==============================] - 24s 77ms/step - loss: 0.1863 - accuracy: 0.9287 - val_loss: 0.3664 - val_accuracy: 0.8522\n"
          ]
        },
        {
          "output_type": "execute_result",
          "data": {
            "text/plain": [
              "<keras.src.callbacks.History at 0x7d66b4194dc0>"
            ]
          },
          "metadata": {},
          "execution_count": 16
        }
      ]
    },
    {
      "cell_type": "code",
      "source": [
        "for text_batch, label_batch in test_ds.take(1):\n",
        "  for i in range(3):\n",
        "    print(text_batch)\n",
        "    # print(label_batch.numpy()[i])\n"
      ],
      "metadata": {
        "colab": {
          "base_uri": "https://localhost:8080/"
        },
        "id": "CyoqxBV0iS19",
        "outputId": "a15bd136-c83f-4f8d-fe4b-dc144d31b4af"
      },
      "execution_count": 22,
      "outputs": [
        {
          "output_type": "stream",
          "name": "stdout",
          "text": [
            "{'input_ids': <tf.Tensor: shape=(64, 512), dtype=int32, numpy=\n",
            "array([[ 165,  143,    8, ...,    0,    0,    0],\n",
            "       [ 145,  147,  162, ...,    0,    0,    0],\n",
            "       [  48,  194,  172, ...,    0,    0,    0],\n",
            "       ...,\n",
            "       [ 180,  155,    8, ...,    0,    0,    0],\n",
            "       [ 191,  180,  155, ...,    0,    0,    0],\n",
            "       [1190,  137, 1112, ...,    0,    0,    0]], dtype=int32)>}\n",
            "{'input_ids': <tf.Tensor: shape=(64, 512), dtype=int32, numpy=\n",
            "array([[ 165,  143,    8, ...,    0,    0,    0],\n",
            "       [ 145,  147,  162, ...,    0,    0,    0],\n",
            "       [  48,  194,  172, ...,    0,    0,    0],\n",
            "       ...,\n",
            "       [ 180,  155,    8, ...,    0,    0,    0],\n",
            "       [ 191,  180,  155, ...,    0,    0,    0],\n",
            "       [1190,  137, 1112, ...,    0,    0,    0]], dtype=int32)>}\n",
            "{'input_ids': <tf.Tensor: shape=(64, 512), dtype=int32, numpy=\n",
            "array([[ 165,  143,    8, ...,    0,    0,    0],\n",
            "       [ 145,  147,  162, ...,    0,    0,    0],\n",
            "       [  48,  194,  172, ...,    0,    0,    0],\n",
            "       ...,\n",
            "       [ 180,  155,    8, ...,    0,    0,    0],\n",
            "       [ 191,  180,  155, ...,    0,    0,    0],\n",
            "       [1190,  137, 1112, ...,    0,    0,    0]], dtype=int32)>}\n"
          ]
        }
      ]
    },
    {
      "cell_type": "code",
      "source": [
        "test_ds"
      ],
      "metadata": {
        "colab": {
          "base_uri": "https://localhost:8080/"
        },
        "id": "rMyoqEb2jFPF",
        "outputId": "d272c842-6e02-4c63-a407-b5d5a1819278"
      },
      "execution_count": 18,
      "outputs": [
        {
          "output_type": "execute_result",
          "data": {
            "text/plain": [
              "<CacheDataset element_spec=({'input_ids': TensorSpec(shape=(None, 512), dtype=tf.int32, name=None)}, TensorSpec(shape=(None,), dtype=tf.int32, name=None))>"
            ]
          },
          "metadata": {},
          "execution_count": 18
        }
      ]
    },
    {
      "cell_type": "code",
      "source": [
        "fnet_classifier.evaluate(test_ds, batch_size=BATCH_SIZE)"
      ],
      "metadata": {
        "colab": {
          "base_uri": "https://localhost:8080/"
        },
        "id": "Z8vjq0ixVWY8",
        "outputId": "6bf213f7-7617-40bf-cbec-2a29c8c14800"
      },
      "execution_count": 17,
      "outputs": [
        {
          "output_type": "stream",
          "name": "stdout",
          "text": [
            "391/391 [==============================] - 15s 28ms/step - loss: 0.3787 - accuracy: 0.8454\n"
          ]
        },
        {
          "output_type": "execute_result",
          "data": {
            "text/plain": [
              "[0.3786703646183014, 0.8453999757766724]"
            ]
          },
          "metadata": {},
          "execution_count": 17
        }
      ]
    },
    {
      "cell_type": "code",
      "source": [
        "fnet_classifier.save('fnet_classifier.keras')"
      ],
      "metadata": {
        "id": "04fdG4xW_8eF"
      },
      "execution_count": 26,
      "outputs": []
    },
    {
      "cell_type": "code",
      "source": [
        "!cp \"/content/drive/MyDrive/Colab Notebooks/ML projects/Tensorflow projects/Tensorflow Developer Certificate/NLP_text_classification_KerasNLP_FNET/fnet_classifier.keras\" /content/"
      ],
      "metadata": {
        "id": "1bhkUEzfC_XJ"
      },
      "execution_count": 10,
      "outputs": []
    },
    {
      "cell_type": "code",
      "source": [
        "_ = keras.models.load_model('/content/fnet_classifier.keras')  # if keras-nlp is not imported than\n",
        "# _.evaluate(test_ds, batch_size=BATCH_SIZE)"
      ],
      "metadata": {
        "id": "T5WqHLyNAK2J"
      },
      "execution_count": 17,
      "outputs": []
    },
    {
      "cell_type": "code",
      "source": [
        "BATCH_SIZE"
      ],
      "metadata": {
        "colab": {
          "base_uri": "https://localhost:8080/"
        },
        "id": "X-hew75zETSP",
        "outputId": "5ce20161-c4ba-426b-8153-c248e7def15e"
      },
      "execution_count": 19,
      "outputs": [
        {
          "output_type": "execute_result",
          "data": {
            "text/plain": [
              "64"
            ]
          },
          "metadata": {},
          "execution_count": 19
        }
      ]
    },
    {
      "cell_type": "code",
      "source": [
        "# COMPARISION WITH TRANSFORMER MODEL\n",
        "NUM_HEADS=2\n",
        "input_ids = keras.Input(shape=(None,),dtype='int64',name='input_ids')\n",
        "\n",
        "x = keras_nlp.layers.TokenAndPositionEmbedding(\n",
        "    vocabulary_size=VOCAB_SIZE,\n",
        "    sequence_length=MAX_SEQUENCE_LENGTH,\n",
        "    embedding_dim=EMBED_DIM,\n",
        "    mask_zero=True,\n",
        ")(input_ids)\n",
        "\n",
        "x=keras_nlp.layers.TransformerEncoder(\n",
        "    intermediate_dim=INTERMEDIATE_DIM,num_heads=NUM_HEADS\n",
        ")(x)\n",
        "x=keras_nlp.layers.TransformerEncoder(\n",
        "    intermediate_dim=INTERMEDIATE_DIM,num_heads=NUM_HEADS\n",
        ")(x)\n",
        "x=keras_nlp.layers.TransformerEncoder(\n",
        "    intermediate_dim=INTERMEDIATE_DIM,num_heads=NUM_HEADS\n",
        ")(x)\n",
        "\n",
        "x=keras.layers.GlobalAveragePooling1D()(x)\n",
        "x=keras.layers.Dropout(0.1)(x)\n",
        "outputs=keras.layers.Dense(1,activation='sigmoid')(x)\n",
        "\n",
        "transformer_classifier=keras.Model(input_ids, outputs, name='transformer_classifier')\n",
        "\n",
        "transformer_classifier.summary()\n",
        "transformer_classifier.compile(\n",
        "    optimizer=keras.optimizers.Adam(learning_rate=0.001),\n",
        "    loss='binary_crossentropy',\n",
        "    metrics=['accuracy']\n",
        ")\n",
        "transformer_classifier.fit(train_ds, epochs=EPOCHS, validation_data=val_ds)"
      ],
      "metadata": {
        "colab": {
          "base_uri": "https://localhost:8080/"
        },
        "id": "itiOjZX0WCj1",
        "outputId": "2cbf7b9c-a165-4036-9f58-a1d6d4d1baf1"
      },
      "execution_count": 24,
      "outputs": [
        {
          "output_type": "stream",
          "name": "stdout",
          "text": [
            "Model: \"transformer_classifier\"\n",
            "_________________________________________________________________\n",
            " Layer (type)                Output Shape              Param #   \n",
            "=================================================================\n",
            " input_ids (InputLayer)      [(None, None)]            0         \n",
            "                                                                 \n",
            " token_and_position_embeddi  (None, None, 128)         1985536   \n",
            " ng_2 (TokenAndPositionEmbe                                      \n",
            " dding)                                                          \n",
            "                                                                 \n",
            " transformer_encoder_3 (Tra  (None, None, 128)         198272    \n",
            " nsformerEncoder)                                                \n",
            "                                                                 \n",
            " transformer_encoder_4 (Tra  (None, None, 128)         198272    \n",
            " nsformerEncoder)                                                \n",
            "                                                                 \n",
            " transformer_encoder_5 (Tra  (None, None, 128)         198272    \n",
            " nsformerEncoder)                                                \n",
            "                                                                 \n",
            " global_average_pooling1d_2  (None, 128)               0         \n",
            "  (GlobalAveragePooling1D)                                       \n",
            "                                                                 \n",
            " dropout_2 (Dropout)         (None, 128)               0         \n",
            "                                                                 \n",
            " dense_2 (Dense)             (None, 1)                 129       \n",
            "                                                                 \n",
            "=================================================================\n",
            "Total params: 2580481 (9.84 MB)\n",
            "Trainable params: 2580481 (9.84 MB)\n",
            "Non-trainable params: 0 (0.00 Byte)\n",
            "_________________________________________________________________\n",
            "Epoch 1/3\n",
            "313/313 [==============================] - 72s 184ms/step - loss: 0.4651 - accuracy: 0.7603 - val_loss: 0.2926 - val_accuracy: 0.8818\n",
            "Epoch 2/3\n",
            "313/313 [==============================] - 47s 152ms/step - loss: 0.2126 - accuracy: 0.9190 - val_loss: 0.3248 - val_accuracy: 0.8766\n",
            "Epoch 3/3\n",
            "313/313 [==============================] - 47s 152ms/step - loss: 0.1614 - accuracy: 0.9400 - val_loss: 0.4240 - val_accuracy: 0.8488\n"
          ]
        },
        {
          "output_type": "execute_result",
          "data": {
            "text/plain": [
              "<keras.src.callbacks.History at 0x7d671ff3a740>"
            ]
          },
          "metadata": {},
          "execution_count": 24
        }
      ]
    },
    {
      "cell_type": "code",
      "source": [
        "transformer_classifier.evaluate(test_ds, batch_size=BATCH_SIZE)"
      ],
      "metadata": {
        "colab": {
          "base_uri": "https://localhost:8080/"
        },
        "id": "39DUxneUXUMm",
        "outputId": "e3709d85-5397-4f13-a25c-94ed0331fec9"
      },
      "execution_count": 25,
      "outputs": [
        {
          "output_type": "stream",
          "name": "stdout",
          "text": [
            "391/391 [==============================] - 24s 60ms/step - loss: 0.4436 - accuracy: 0.8362\n"
          ]
        },
        {
          "output_type": "execute_result",
          "data": {
            "text/plain": [
              "[0.4436153769493103, 0.8361600041389465]"
            ]
          },
          "metadata": {},
          "execution_count": 25
        }
      ]
    },
    {
      "cell_type": "code",
      "source": [
        "transformer_classifier.save('transformer_classifier.keras')"
      ],
      "metadata": {
        "id": "zMJx4BDEAkji"
      },
      "execution_count": 29,
      "outputs": []
    },
    {
      "cell_type": "markdown",
      "source": [
        "![image.png](data:image/png;base64,iVBORw0KGgoAAAANSUhEUgAAAvwAAAENCAYAAABzfrGuAAAAAXNSR0IArs4c6QAAAARnQU1BAACxjwv8YQUAAAAJcEhZcwAADsMAAA7DAcdvqGQAAABhaVRYdFNuaXBNZXRhZGF0YQAAAAAAeyJjbGlwUG9pbnRzIjpbeyJ4IjowLCJ5IjowfSx7IngiOjc2NCwieSI6MH0seyJ4Ijo3NjQsInkiOjI2OX0seyJ4IjowLCJ5IjoyNjl9XX09JcZcAABkuElEQVR4Xu3dD3AU150v+q+f961u+ZbZ8hZKUYVYO5LCRhDfCMk3Y+x6g7AjI57BZDOsciUXlEVEIWzKJGGRgYjIRAp/xJI1KXktF/OQC9biWlfaGwxZZGsxYuraoLqW0L0G6VnWqIglKhSi4rKoUCjPrnnndJ/u6e7p+ScNIEbfT9Wg6e6Z6X/nnP6dP93cFxKg9PT0oLCwUE0REREREdF0lWjs/n+ov0RERERElIYY8BMRERERpTEG/EREREREaYwBPxERERFRGmPAT0RERESUxhjwExERERGlMQb8KXcdrZULsLtHTd5LrrZj3fz96FWT7qb3/o21VyG7oU9NUdISSgMUS9JpkMf8HnMPl/FpZQJDLdXw5C9A9nwPftJ5Xc2/+3obFmBd+/TZnpTp2Y/synaMqUm6t9yxgP+2ZADtQlmFd5n6iGimi1IeTgTqRUBUhdaraoZh4E0syRcVja/VNE1LWgVyvgxq7S/jeiqvrdlL9+PcTW3S5q40gNwcQKs/gJGUpqsJXGp/C11X1KQ0eAwvNszCvkA/hgcC2PfUg7h03PEZIjLdQy38A3hdFGq2VrCHMjEPOcjKVNOk3MB7P3O5wBNZyYDvjgUDLvmXUmvOIiz9TgA9AxNqhu7S+XZkPNCNjy7cUHN0Qx+/j5EfeLDwfjWDXNzOsjSJ365swfCgCGwtr8O+2WohkPFFC7Yd7BZh8dSNn6qeWuPcaDf8jZ3o/5OaTokrOHfoIDr6w2l47JPzGPqBF4tniYn7M5Bx/xh637Z/5k6Y8vEiukPunYD/aj96nDX3jFnIUG/J4usgej5Q74miGOu/gBH1/rZzy7+UYtkoWJaF1gsDaloawLlTHuzY4sO73RcsAeENBMXnihYtYBkay+0sS1P422t21iPnnTo09k095B/6pFO9m6T5L+D9vjosk4F4ymSjsuMC9hY/qKaVB6wxQBbWtLp85jab8vEiukOmT8D/9XWce30znvHI7spF8FTtR9fv9UXjH9TDU7ITXWjGatWdaYyfzPBmw2jgHzv/JjaWePQuz3wvVr70JnrH1UInORatoRsjp+qx2rtIrfMtXLoJjJw05i1Afmk93rMGKhNiO/3V5vJsTzl+0jIQs2VlpLUK+VXt4S7OGPvqKpl1DrZg9RPl8N8MYJtXP1ZG68PE1W74q8vVmEe5b9U4ejHyV8YH21Fbqh/HPG8VXj8fp/VirBuvv7QC+XLbxHFf1xC7OzfudsihCZXtGLJtRzlq24ft+3xzGK2vqt8R6139aieG4nYjT2Do5P5wOvGswMbjo2qZWCrXWeZFntqX1a+K7bB2lRvbdvEt8zeMNDLeF54nj5s/7j5FHtu4x0ZLt32YEOtfp6UHSwthwufhBrpe9cK7PQD4y7X1ZDvGkNvTgMuxTyINu+dffRx0bcDyq1/8DhvFMltr2XgnfhJtH+d78IzI4+diDemb7PmSEllXQmlQpLl2a5kizmlfjFZI62/Kz5dU4Ccnw2k0ltw8LybO9mNITWMggNaHvFi8YhGWtQRwztjFiQv46GQelj4abiVOulwSJgZ/h93WY7T5d6oSeQOXjlvyWUR6lOdfnNdBfV+NNBuR35xs50Rs46rNeL0nfCxt+VcrJ/swbjsfSZyLGGWp5ss42x6r3I7320ka+gsPdu3IwuvbxDUsThkY/RgN46jI86v9E+ja7tW3Odp47VjnQRtaZilPvh5FV0OVJT37sPKH8rUT78kfT6i8t943IbZTbL+t/NJ6Kl3urRDbGS5PxXaWHcQ5FROMD1jTrkrv1mu9ihFkXKGXtXLbxX6aZXYix+sG3t3scm6/lj2ei9zvA4mZ/93zzbrXxXYmm86t5zAifwq28kCWfyJtfamWGeLkRxt5PCPuVXKes0T3z8m+v27XLG14W8T56cNu6/VFpcWRK51mWnQ9R/eqkMXHH3+s3qVez768UEXbmJpyuhXqee3ZUPEvz4Y+v6XPuXa6LlT83brQR2o69HFD6Jvfagj1qMkI106GKr61IXQkqL7w1a3Q558EQ1/qU5Hk7333e6GqI/2hL78S01+NhTpqi0Pffu6Hoef3nVfzxkMf7Xs29M2XT1p+Zzx08fQFcztDfzwb+lVRcaixX02HxkLv/Dgv9Ct1KD9v2xD67nOvhXr+pE8ntK8R4q3T4Q9t2rF45w9q2vDH/tCZj0dCt+S+CV+ebQh5i5pCF/VJ9b380Ird4W378pO3QxXffTbq/oVuXQj947JnQ784rX5XHMczv3w29O1fnhd7GkWC21G87WToM3XcvuzXt+PQp/q0PCYdP80PeX8qPmNua7P4TH7om/su6DNcyPPx7WV1oTOX9S/d+uNI6PNr2ttQaFSsV6wjvC/joZ6mstB3N7SFPlfbGnGMxGcuHt4Q+uayH4Z8L7eZ2/L5O2I9cp+ifU8wju0/XlAzpHjHRqbbH28IVb3cFOq5PB768o/j+mcncR5know4VtZjr754K6gfl/Cxn0Qadsm/nx35YejblvV/eeLl0Aqxb15rfjsnvvd3b4c+k+//dCH0q2X5oQozz94KfXaiJlS8TPyumb8cJnu+ElpXYmnw2m9FGbDh7dDFP+rTelouCx25rE/r2xg+Nj2vid8U26utV7h1LRi6OBrtwDp8+X5os8j7x1WalsfY2yQzr8y3+eF8299kT1eTOafO/PKn8dDno+Ey/rNzZ0OfqX0WiSh0RJQbm/9tXM3Qy5FvL6sJHf/UOHj9oSMbRNo7FNSnI4yFjm8Q15G3g2b+uHW5P7yOP4hrwPfENeATtQ71e763R/RpIe65cNLOjbMstWy7cb0R+/dOxLbHKbddfzvSNVFmxSrTzGvrVyPadvmOhLch4rtxj5G+b9Gv1VK882BPz58dEuWQpQz98n+oMk1NG3k0dnnvuO4IkcfF8RlLHr4mz8Gt8dC1y2Ph8jB4PnQmqI6DzN9vi9/76fvhskeLEcSxabygf1/Q80RNqMP8kPvxssY7t/5HXejbf/926HNtSvlE5T/jGFjEzv8q7T3XEDpjzBPXDC3fvHbB3Le46TyB68XFJhH7/L24zqjfuDX6fugX4nh+88dtIb14iZMOnFxjOOd5TWz/nMzruvmdC6HG//I9cQ4seV+mF3PbDSKNWPOgTIt/tyFU8UKdyNtj4evrNJdo7D49WvjHAzjy+uPYUe3FPNU/l/nUC6j8Ty3o6Ha0usVzv/oB8Xfed7IRu1dxNdaX52GWHMN6/2wsW1mMiYFFqNzsUfMexOLV5Vh4ytJihgex8Kl8czvxkAdPLBlFz2Bk68zIqZ348aEcHD62GQUPqJmT2tfE1xnTQ3koKsxChhqzO8vjQdGVCwjaqrwerKkIb9us75Rjy/o/o/GE+1jv8Q9a8Prj1djxlPpdcRyL1lWg8GhnuDXRKcHtqNz8LHLVcZuV58PaHwzjowG1z1ffxzsnPXipWnzG3NYXsKlcf++uD6113VjzqxoUPax/KeOhLMxTXUS9bfU4V16PXea+PIiCyp1Y/2k9jtp233KMxGcWLi9G0TCwarPP3JZ5q8pRKvbpUgLH1v++ZQhGIscmkIHlr25AwcMPYtZDD2qfndR5iEode7WdGdkr7Mc+Rfk197Fn8I1T3bikTd3AuQ8CWLy2HEVnz5qtcJf+VyfmLVuEXPF+rLMJ/qwa7Ftj5NkM5K6oxqa/bUbjqVh5IfnzldC6EkqDA2h9bQxbqkU58pA+Z1ZeOdb/SKTFgNiIqNQPChmZ2Vg4Nzwd06w8PPG4MY7/OnrPDmPZY3ni/WwULMnGex/raU0bv/9MPhZqU8IkzmlEfnngQcybG+4xyH3ci1y1zyIRYfGSPLw3GFQzdIvXb8Zz842Dl4fScp/YtoE4TwH5SzN/ZDycZ67j0vGDGNtUjTXfUUM6xO+teaFcbGdAld+TPRfutG3PVtsu9m9VxLanqNyWzJ4442VplTTcn4XSHTVAXQNaowyfi3+MkuF+HuxEGjw/jMXFSzBPfXbWk8VY5lI2xizvJ8GahzPlOch4EJkPzw7nrGxRtmar4yDzt0ivCz+wXuulcuyoyte/L2Q+VY412SdxMYnkkvFYMUoH29Fl+U7vvzUB/0WsTx2TSOZWuub/xWsrUGTME9eMNZuqMNHcqXp34qfzuNeLr/tw/I0rqHxFXGfUb2TMLcam9R59wiaRdJCc2PvnZLmum9/Jx0s/X4dg3bHkH0ogTm7hlhqRt2eb19d0MT0C/s/68C5asO5Ra4H2DLadF0HzWJTuIafMZ7HrYBaOyy626oNo7RnFRLwT/Vi2WQiZRCUhy5q3Hsgwhwxpvr6BS3JIyA99eMYju7DK8cpvxfyv9MWG8dP78ePNF7DqH7eGg31pMvua4DrjGh/Auw2bsfKHK5Cf78XK0hq0itm3bMcpB7lz1FvlG3OyMSEu1G4X4aFPTgItVXr3sPFauhMfYRTXvlAfcprUdmRgljyOxj5fGUaXy7bOy3ErkJSrQVy66UHuXDVtc13sywQW52SpaeV+UdgumcDQZeuFJ3K9wCIR7Ki3kuv9JS7bm51vP7aJHBuvF4sdheqkzkNUcY59KvKrNN+DZV+IC78MXMbP49QHPiwVFZylPziJj7SxyMPofW9MBazitz8NiO/k2POjCKoWiOVdwVhDXpI/XwmtK5E0qN27MIDaEuuxWoDnm0Xw9Qf38YYF61uw5vdb4V1ahdoWEYgldf6ysPBJNY5//AI+CvjwxHf0JbKChfcuiIBGH7//XP4CfYGU9DmNkl8sxj58Cz+p8GGld5E2jOPFxgFMOOoOuY9YhhQJGf9RnIWvbqkpp9l4budBzPutTxuicKC9DyPm713Hpf85ikt1KyzbL15rxYG+eAXakZ7EuYgl7ranqtyWIm7abUJpRJoWssuxa8soaut+51JeJ3CMEhLrPDjNxsJFWTj3Sb85tGr8w06890AW5tnKsDhlziS452ELbfhkBVau8iLPswIrXzworg9/VguViBhBlBN/PRE/trDK8KB0/Q34T6mGnYluHG/JQ2WJXq45JZL/nWkPf5ONRTeDGJInPYF0Hvd6MSZ+y+VamflIjnonJZMOkhNz/5yiXde/lYeiaN+JqRiLVZmZbqbRTbsVaLMVaPrL+iSCeOYtr0HbR/+OvasycWmfSIQ/PIjem2phov46A3+l3kaaQG9jGVafzMaWf2nH+90X0H38TWx5TC22OP7hX6JyZxYa/2G/yzYks6+JrzOmiT4cKC3Hbx/ZjLb/dhJ9fQGceHMzFqvFU+LyBImoF6TbuR23xZ8xkdCVUFygIiP85Ez12CRzHqZs6vkV9+fhiR8EtKfHyCDg3R94UZCRgQJx8T36QTcmrl7AmYvhgDWaiZtJVDJMkztfk1uXF3vlowOdx6s6Xy13eEAEA00BdB/bjMIvWvD8Uo/tPpN4Fj5WDMhx/P0iiF/hEcdULZAVrOEAeofl+H0vnljkvLkxBedUGTteBW/dGH7U0IITgQvo62jHXp9aOBVzi7GrtRsB8WPf+KQBKz0+HOgJRxlFewIR2z88uBUFannS52LSUlRuT8LCF+pRebkGrxx3bx2Pf4wSEOc8WC2sOoxdX9QgP88Dj9eD4sYJvNS6FYunWl5OxdXfYV1JHa6t2o+2fw1goPskTvxqtVqYeguXv4BZbQGthXri4060zl+BoofVQqcp5n9dAuk8FdeLJNLBHTcxAectBzPd9Aj4/2YBinABl+LcIJaQ+x9E7pPlIhH+O/Y98iYaU/qfcQyg4/VhrFnvM7segXFM/FG9tVjzi80oXXMQbzzegm2NfeGbR5Le18TXGdPFTrw+XI5NpdnhLqqbEy6tQCJQcHQHX7s6jIwoLSXz/tYLfNyf+NNeEt6OOOZmi+M4ilFH64fc1qgyc8Qx7I7YP91sLPzPWTjnbCn+ehRDFzIiWxwm5TwuOTZvZLgvfGyncGySPg9TkbL8qgf37/ZdQK+44K55yqO1sssu/+d+241z/QPosgSsuY+uACJ6mm4g2D+KohgtzZOR0LoSSYNzcrBQpLlLweQvghlz8/DcS03o/pd16K9tT/yRpt/Kx7KLfTja0YmiJxeFhzUaFawjAXR9R1SurBf2pM/pbOTOz4jML5rrOHMigMXrK7DYGAshSsDxZBtfYpiV7cGaV1sQqM/C64f+XZwnsT2Piu3pD4bLWqcpnIvkpajcnoyMfGx6tRzB2gbHsJ8EjlGSIs+Di7H/hY5PfWgb6EZ3QLyO1aDUGMZ1G83LEWViRB7WjX14Al2PVWD9k7PNsnbiT7cxXWR7UZrZhON9oiL4QTuK1q7EPLUomlj5/1y/40Ly+TAuPCCub/JCkkA6j3u90K6VwxhzhE/jf3CveCSUDtzI6+vH6r1FzP1zmrMAhXNdruuxvmO4GpzEULZ71x0N+P98cwzjX9ywvbSusczvY1PlOHZvO4hzV1QinbiBkYviJBqtq9rFNRi+IDm71H7fh67h6+Guti/6cfFTEahlpSJQM2QhV+SToU+H9fXILtujzWiNeiHLQFF1M4o+qMDGdpVREtlXm2TXKajMOhRUrZHye8bxG1br/GIARw+3Rxb8D/TBf6jT7Jobv9iCA4f+EptWureAZRZXoXJ8P356sNv8zsT4KC6dH3bvIk50O+KZ8wx+tCKAxsaAbVsbj8Qoau7PR+mWPPh/Xo8udezltg6p9wtXbcbilhrs/tA4bjfQ66/Dob+twZqUNAAO48DBdgwZ29vzJmoPWo7tFI5N0udB0C+IotDX0pU+LyFJp2EhSv6dtciDov/ZgiNny7HUo4KAWYvwxGOdaGwK2ALWWU+V46XRerzSauSFCQydbEDjpxXYtDyV+TzBdSWUBkWa2+lBa109Wi8a6UpU4obFBdk5Blsj8negDyNG/pbr7b+Aa49lqQBBPqHEh5+cjNGQIY+fV5SHZx/E0kXW45KBxWK/LpwN4NrjC7T7IkyTOKcFq7diob8GtR+o4ZPy88PivaoMBEXa0oZxiH0Y+eA38J+faqVsVARLIggxMoQsC0XwmpE9V6swF6yuweL2OtS2D5jDRyZE5evcReNYJXsuBLeyNCEJlNuT/u34Mh5/GXt/1IfGQ91qji7+MTLOXVCdO32uXezzEOFKP7qysqIPrblNMpeXY83HIg8fVfuqnetRrTyUQ1MygsO4pCrrE1cCONB8Pm4QHimR4yVlYdVaL46ebsKZdi+WPxnt0aHx8r9uqPEgWs3rRB9e/+VBZGxcgQKt8hI/nce9Xohr5aqNfynKthbbMWo8FNAnNEmmg2+J7XqgE8eNRlj5+ZYWHHep+8XeP6c8lP7Eg6M/349zRuOL/M6vDiNnZ5n5ncxHH0duQKx/QB2TiVF0NYuKlFkhT393NOD/qM6HfI/H9jqg3QyZgYItb+Hw01dwoOxxfTyZ51n89EgQE0ZimLMCW6qBxlVyvJkHr3+i5puu4Ld1L8CTp49Hy1t1EBPr27GlUC1Oidko3SXHrJUhT6wnb+kGtM7egH9eF2Pc+AP52PHPWzG+XWQ+rQaawL7aTGKdIrOu2eNF78/kY6UWYaO8yXCOT7/HoUw+tmoRPC+24xsbD6LycfUdw1P1+H9+cAW7V+mPpPL+QzcKm97CS+7DDfX9O9qEkisHsVp7fNcC5K+oxiGRWV13J9HtiOtBLKtvR+XXTVgpxx3ne/GTf8vCjoMx79pF7ppmvL9epCN17PNEwXf0UzVuc86zOHxcJLKjz+pjGwufxe4/+ND2a1/kvR6TUo7X1t/AAePY/rwfS49Yju1Ujk2y50HIXL4ZO/6iCc/IPPPEm4m3ICedhoVo+Vf+Z1EIoGuJ19LFPxtLl2ejt88RsGbkY0trM5Z+XKPn8zwvXjyVhV1HHffJpEJC60osDc7zHcSJTbNw5h++rx8r8VvPHwhEbQWbGGjGiyX64+W09Z5dhMN7fOZFdOKLYQTHotWsJHmD7oMYwTMoyFazlIx8DxZdGUXp484MPYlzml2Ot09WAIfKkS+P0aPfx4/fFgGuWFSwSY5DVsfuCR92D6/AP79arH9vCkY76vC8eoylzJ8HblaIY2tUmH14o3UjZn2wFV65XvEZzwsHccbSqp7suXAtSxOSQLk96d9OhKjcba5BqbO5IIFjVPB8A4ouvKyd07yfud0LEOc8OH2nGC9d3Yklan3yJR9vGfEY3FR7wItdnU0oPK/2Ne9xrPi5qOzKZYUvo+35IF5ZKrfHg5W7h7Hq4E4s076YnESOlzSr2IdS/5vwP7UCRTFubI2X/6U1e6owfkDEU/IzJTW4uKQZb1eG83TcdJ7A9WJhpSgPHg1gnTpGzx8cxar9NShSy6Wk0sGsYmxp8uHagWe1z+ct3Yrjc1/Gay5D/eLtn1Pmqia8L64vh1bpxy1vVQOurT6GN3yWRob5ZfjnPVno2KA/QjV/zW8wsrIeO+7AMLvp4j75qB71Hj09PSgsTGmETESSfL6vdxibkh0rS0R0r7rZh90/bAB2NmDTgvDdcdc6t2LlG4vQdmZD+ElRaW8YR3/ow9CW89j1ZLRadDzyOfVeDG3sx460DNXSff9uj0Rj92l00y4RERGli/GzLfBn+bD+ySztEYfGK/fJYhReGU9+KOe97PfncXzYh5LHJhvsE00NA34iIiJKuVmP5GDex504Y4zHlr4YQGtjM3rKPTOndX9iGK179gNbyu/u04loRmPAT0RERKmXtwH/8uscnHlRHzet3Zv0QgM+ytmJwE5v1PuL0occoiL2+9EytM5pwD+VO26qIbqDOIafiIiIiOgexDH8RERERETEgJ+IiIiIKJ0x4CciIiIiSmMM+ImIiIiI0hgDfiIiIiKiNMaAn+48+b/Ozt+PXjV5x/XsR3Zle/T/Tj9N9DYswLp247/r1x8Pt7tHTU5XN4dx9Gde5MlH+Hmq8V66n6Q7wZneZ0j6vzP6sHt+FVqvqsnpbCyA3aUe7fGYeSVv4ZKaTUQzw4wL+Ec+eAutF+/S/+93M4BaGcR8oaaVsQ/2Y2V+vGBMPc9Xe5Zx5CuhQO7rUfEbK8Rnb+P+XwnA3z4ws/4HRZqkCVxqfwtdV9SkMNTyMnbPqkf3QD+GA3VYNmsA7/oDGPlafSDVmF4pqgl0verBT07dUNP3sht479eb0bv8GIYH+zFwvMz1P72aGGxHrVEp8Fbh9fNGg4ELWXF0XIfMl6VCOXTUF3O5vC69+7MVeMbrxcqaTntF9ItO/GTVm7hkzf9X2rGuZD96b6ppIkpIGgf8ooD7mbPl5Qb6Ow/Cf94SYdwxEzh3YDMubX4Zyx5Ss76+jq49Pqw4DhTE/f84ZmPVr7vR1+14ddSg6IEVKEzk//O4PwulW1ai6+dv2QvQFBrv78SBQ90YUdPAAF5fehdb82kau4Jzhw6io98IqK6j9/wwSp/yYNb9YjIjA7h6AUcaO9H/J/0TqRaZXol0Ex/ux8b+zdiy/EE1514WRE97NlYtURcKmbecRHD9SmkzUNWOAVHh7ntrJT7b/gIO9EWpDue/HHk96g7gcMVs5P7nBchUHxv/wwCe2Nlu/9yvV4SXn9qPQ4/+Bu8HOrHlL2rQ+KGxvgn0ivLhr7a8gIWyPDDM9WHL353FtqMDagYRJSJ9A/6vRQH3gXpvehDL9lzA+5V34X+7u3oSh476sMmXpWaI4uyTdvz2r3ei89c+5Kp5sWTMehCzHrK/Rk69heD6inAlIp68cmz624M49P7tabWaVVyHgY4XwvtztR89d6N+RfeAbFR2XMDeYntAlfEfLcHIw+Vo65Mt/Wo6xSLSK5HmOo43t6B0kw/z1Jx7XyYyHlBvXYycasZ7vp3Y8VQWMkSAnZH9LH65JQevHwlgXH3G5v6MiOvRLHTjneZF2FSapz40gfGbwIJv5dk/Nyucx4dEpXvxf5LX5Awsfmolui4O6wuG27F7sAKbvJGVk4WlG5FzQGyv64YRkZs7FPDL4ShVaL0yivdeLUe+7NJr6FPzreOMFbcxpw3dGDv/JtZ5F2ldgvklm6N3Nw62YPUT5fDfDGCbV+9CNNYROa5ZbNfgAPwvrdC3y1OO2lOjwHhfeF6+F+v8zm7/CQy112O1sT2l1TjaFz2IHvuwE10rPCiwlF0Z+Rvw2oZ8zLp/HCMX1cxkTHSj9dBsVK5Qhas2ZGeR2D+x/Yabfdhd8gx2nze2/kEs9nrxbud590LcShtrX48uy46Pn9ws9tfeczJ+qjp8viznbvyDenhKdqILzVgtj6N4WYcejdu6j8Vxbx92HGMn+zF3+448v7tFujj3ehU8+XKdHjzz0ps4Z+snDtP2x5rWlEuvP4M8LY1GGh/4HXYbaUP+V/FV+23DUiKMdeN16+dXibTbo9KKPMZi/UMX38LGEv1Y5JfW4z3xe+N94Xmye91vG4p2A5eO7zeXa2m0YQpDX24Oo1XkTf2YyfxVgZ+cDKejRPZ5YtD6GXHcN/9ObzlX+zhypdM833o6sNxXIPOstxjbAoC/TN8Gbb7b/R7iePqrjW0V21J2EOeMxPy1PPeb8YzHsp2/V8vcOMqaZNOPyXaOHd+5+CaWLHUMSxDG2quQLY6RvunxypNoZegk0mMcE1etx1dti3MYZLxz4K+25dMD5+W+JFPe92FC5Am9vDfKm0TSvDiOJy2f8azAxuOjyefzq2fREViBJ/Ltwaa8Bpn5VFyD/BcdpWjUtC7Y0qb+fec1zC39rX5VlA9xhq9oQ3HK1L0v4rhYvyPL4WfEdc0P43poL791N9D/cZ8IvHNE2B02a4EHCz/ox5Cajmfk1NvoWlNuaYC6gWuyGPk/9al4ZGV/5EuZ1ibQdaQFBRvDPQE2D3mw1HsSpz68PQ1XRGkpZPHxxx+rd6k2Fnrnxz8MVWx4IfSLE8HQtT+Oh778kzE/L1TRNqZ9yvRxQ+ibP24LXVOT2vR380O+xguha7f0WddO14WKv1sT6vhSn47wh7ZQxbc2hN75g5pWevZZ16ev/9vPNYTOjOo//GV/s/jes6EVf/9y6J2gWtll8VvfLQ41fqJPStd+uyH03Q1vhy7+UZ/+sv9t8Zmy0JHL+rTdrdCZ2rzQ8++MqGmnC6FffSsv9KskD/+XJ14OffPlkyHbIRgV2/o9sd+jcuKW2N9nQ8X7Loh3Fv1NIe93Xwv1qMnogqEjf5dv2a7x0PGXxXn8cXGo6sS4mhcKfbQ7L7TiSFCfcDt332qwr0s7N/mh4m0nQ5+pDbsVlMf42dChT/VpN5+3bQh9e1mdea5Cf7wQavwv3xPnM3xc5fn9tjgPjR+PhW59JWZ8NRY688tnQ9/e9n74OFm38db50C+c5+2r/lBjkf182wTPh84E1f5/dSv02dsbQt/8qeX3bcZCxzeINPd2UN8e4dbl/tBnKt0Yx2LF7rOhz+VufTUeunhY/N6yH4Z8L7eZx+fzd8S+FzWFLqrfkD47dzb8O7fEuRJpefO/hc+LW1qPlsZ6XssPecU2fGls47Vg6KJxnKV4+yzTnTh/vzg9ou/nn8ZDn4+qdct9/LsNoYoX6kLHg2OhL0X+14+Fc5tctlE7Ppb08yeRV5blhyqO9Otlwa3x0LXL4lxrC0V6f02k91+qYyno5URd6CPLrtg40mtC6cfJsk3a8ZPH50RNqHiZ2G6tnJPpKT/0i/9h3YiR0JG/D5+v+OWJPDZuZagQ79y45UnrtNMf+0NnPlbnUfjybEPIK9OePhn/HIgy59tyX+RCsT1f/mEkdC3Z8v7HG0JVLzeFei6L/TTTS/w0b5YRl9XW/HEk9Ln84STz+a2zdaFvrmkLfa6mNaLcLP6WTBtqfbdGQh0ybVivM1HTuuW4qO2/FTwZemXZsyK9h9OFlv6+93LoyCfhdWjpb8PJ6OfLmfdEGdLTVCbSk9h+ddz0a0zk9TAsSvmg5b8NoeNRV27hejxlOs8Pfe//+p64DuSJ1/dCxS82hT6ybIfcZ2O98rh7m/q1Y71CpOHPP24K+Zb9X+L7L4QO9YePk3SxqTj07dcuqCmimSvR2P0ODukZQPDRauxakY1M2aUXo2vRXTl2VOUjUzU/ZD5VjjXZJ2H0/k3F4rUVKJqr//CsvBUo8YofXbkZpdlqZQ+vwNofjKLnU6M1ZgCtr41hS3U5FqqWjFl55Vj/oz60Btw2SG/lWPA34eE8U/b1AI4eCGBN6fdhG+0w14dd1UBtbTsunf8Ntn2wBHs35dtabfDQbOTcHMBovFZLZKNgWSbe+1iNlRw/jw/OPo61a73o+sDoIRhA7/tZKHks2WFSHlRufha5asMysuUxHsZHA47WP5M4tnXdWPOrGvNc4aF8vPTzdQjWHUOvtZWvvBovFc7WuqVx/2wUPV+O3FNRWqky8lHiE+fTet76TqIRPhR9R007ZXtQlK2GodyfgdzHvQm0gv2lvj1CxsN5yLUNwfJgTYUX8+Ru3f8gFi4vRpHYnFWbfebxmbeqHKVXLuCS5ZzJ9Zq/k5GNxUvy8N5gUM2YjHAqycjMxkLjOEtx9rm3rR7nyuuxSw0HwAMPYt7c2fpCSWTUwi01eC57ttalbxyLZI11NsGfVYN9a/L0siDjQWQ+LM61XDgewJHXH8eOanUshcynXkDlf2pBR3fsviObZNKPYN0m7d4DeXxWVGPT3zaj8ZRMz3l4bn0eWj/oC/dG/T6A44Pl+NFT8pgmWp5EKUMnlR5jeCgPRYXqPAqzPOL3RdoLqrQX8xyM/Tsa/VnY9arYF7lQDvuYk4XMZMv7QAaWv7oBBQ/rQ0CMbYmd5i1lxMN6Ash4KAvzZBNxkvl8fEwU2Hniu2pa6j3RhJFKmTbUsc7IwrL1FVisT4W5pXXrcVHbL4fM7NiUA/8bJ+09D74KrPlOeB1Fmzai6IMTOBPlSUAReU+UIQWVO7H+03ocde+kdHELE47OCqtbCfQcjp9qwoHMF/Cc7XhmYc3RADo7u7WbhYc/+R3+6fELWFcSfnhF7qMrcO5/y/MygXNiP4u+k4HWA2dRWpWJd/9hFJv+NYDut4rRIa5p1nttvjE7GxMDVyJ6bYjI3R0dw7/scWNc3ySIgHKeKvR1s5Dx1xOYmOwQBovcRyyBiVLw8Fz1ThIXLesFSxuXPoDaEr1r1ng93wxc+kOMUjPBbs1ETJxvR2PmVqx5XEU2FvN8+/HarHqsXHsWq/5pKwqcF9s5OdqY5UQK8YWPFePa/+zXCtXxDzvxns+LxR4vSk92o1dGL8MX0PFFMRbP1z6eBLENc9RbjTrGX+lTEa4GcemmB7nW0yJ9SwQnN4MYspT6i3McFasHMpB5889qwikDi/+uCuOHO9WQC3HR+bcWLFz/rOtTLDTakIcKrFzlRZ5nBVa+eFBsW7Tfn43ndh7EvN/6tKERB9r7MBIRezqPhbRIBMzqrZQh0rt6axj78C38pMKHld5FyC/x4cXGAUwkEddaFaxvwZrfb4V3aRVqWwIYcjxJKvY+X8fQJxORx91GpJFoFagkjHwaAObnuHfzf9aHd9GCdY9a8+Uz2HZefG8s8a7/5NJPtG16EAsey0NXUB8WNe8pHxYf7cQ5dX4udbyFS+UrsFie1CTKE9cyNKn0mIDxAbzbsBkrf7gC+flerCytQauYbZQXMc/B5/3ock3PSfKKcsZWKdbFTPPRygjNJPK5qKyEiTQ+6JLGVVlq55LWoxwXbciMqIRYA9mIdTyUje/MFXnSdZhWlLx3v6iwL5nA0OVoDShO/0EWMVH9B9u1180ojh8JYI3bPQ+iQmgO2c+YjYVrqrEj+yTeCejbNuuZl7H+k5fxjLcYB76qR+lEC3Y/vBmls4LoycnHQnldyH4cq77qQ78lO2Q+kiOuF7fUFBHFk8ZP6Zka242DrrzYG+jXWy2sr+p8tdzF/6f+TtkNvNfagqK1K5HrVhB/Pab1KGQ8cAXXxlwiQHFhTLj17zselAZEcD9+A+c6T6J0ST4yMhbhiRUtONM9gbELAVz6gbhoxb0g3Cbiav+lejtp3ylG5UPt6JIdGRN96GjPw6onowSvV3+HdSV1uLZqP9r+NYCB7pM48avVamEUc4uxq7Ubgb0+fOOTBqz0+HAg7qNRRQUoRhIcO14Fb90YftTQghOBC+jraIf4+cl7IA+VTQF0H9uMwi9a8PxSjzb2WTOZfb5rKtDmzJPiddgXWam/3SZuWioZc57BD5a34J1OMe/rAXT9V2DT/20tKyZRnkipPjci/R8oLcdvH9mMtv92En19AZx4c3NkK/ZdMOU0n0w+l76eZO05GRM34t9LNSl/jtliHykDfyUC/qFRRwXhpijjRUUly7V2Z3Hxd/CPVaH0yXjXTUlURh4Xf4zGnfuz8NyvT+L9gEhru3LQ2zSKHes9jgYO2cA3ji9vqklh7PJUejOJZp5pGfBP+4w8JwcLH+jGpWCiF4QH8Q1xXen/XAVQU3WxBQfOlmOt4+kmugn0Nr6M3QsOovt3NRh5eTPedXYFq0I8oVY4Lbg/iZ6PL+Cjk+VY6pHF8INYXLwCrefFMfgkgOc8iyJan1NuzgIUzu2ObOX6fBgXHhD7Eu+CFFM2ilbPRuO/9WHi4060Lnkeqx5WixzGPjyBrscqsP5JNeRDmPhTYulgVrYHa15tQaA+C68f+vcpdEVfx5kTASyWwwmMMW7ivMunYUxVxtw8PPdSE7r/ZR36a9u1m2Xj7/Ns5M7PwDnVmn07zcvxAoNB92P3NwtQhAu4FOsm3dtADkmI3KYbCPaPoshseX0Qy3zleK8zgLGBAFqtQx+SLk/CppIeXV3sxOvD5dhUmm3+nl5ehMU8B3NFXkIQQ1GGn7hJrLxPIM1ninJAHEf3lnAp8Xw+K1Oct4FRS8u7nsaDVx17/cWVxB7p+q18POdyXMaD/RjxZttaxbs+6Rd7ZvHFMC5e8UbpuZiNhf85KzLvfT2KoQsZrr3X7h5EwZNenPvfQdu6x/tFulyRH+cpVjfw7qGDyJS9JYk0/Hw9jN7zIh1lRl6/xt9vQuvTm1EacW0ax8QfZ+GvLL3VX94U5yJaTxMRRbjLAf9sFDyeja5TJ3FJtUZMXAng0DsXph5AaoX/MIaCqpUtBUN/wvJRutOD1rp6tF40fl9cFIdF4eh6ocvAwke9+Kg/3lNoHOSTS1ZVOwL2CZz7703Aep8+HMBhouc32PbbJThc7cUsOZ5/B/DKq+22J1lorfJmIT6K1rUuT84wqQtBSwu6yr3mOmct8mDxqSY0nvXiiUVuFQ9FBQBmEDbp85CH0p94cPTn+3HOGG7yRR9e/9Vh5OwsQ0EiF5oY5i1/HkUtnWj8sB1FxeLYqflOshs5IziMS2obZHo90Hw+xqP7RtH7wTDMjpavb+BSfxAZ2XOncKFSwcdgP8bl8RRpb+SD38B/PkZrZUximwJ9GDGCJ/F7Q/0XcO0xfQxzIvtcsHorFvprUPvBqD7MbuIGRobFe31xymQuL8eaj+vxytEBc9/HxHq04iPz+9hUOY7d2w7i3BW1ZrkdF0UQeHuaUTWznirHS6Nim1pF/lbbNHSyAY2fVmDT8nDAleEpxpqz7+PAf21H5g+8luOXbHkSlnx6jMPIr8Pq+H0xgKOH223nMeY5mLMCa8u7USsqtuY2XR3GiPZ+KuV9Amn+fnEct+TB//N6dKnzPzEuAl8jLQiJ5vOM+XkoOj8Aax2sYGUVMkRge9Q4RxOj6Go6jC59KrZZXqx9aVQcl3YMqd+cGP4ddjcGUel4Ek3Gbw/igPH0mYlhvFt3EF0rfCiJ0kCzcNVmLG6pwW7jO6KM6fXX4dDf1mBNnA4iK3leS9vrzHVraalxAJXPG8fpBrpe9WH1m5Z7UaTfn8CRU8VYu9yl/Bnvw3uy/DPKlpujONdYgwM3RVDv7A2Y6EPjwVnYskYNW5ONPME+XJLfHT6P43+RjwXmCbuO3rMDeO7RHH3S9VpJRFZ3vYU/t/w32Jv1PtZpjwvz4PmDo1hVXz31LmRR+K/Z40Xvz+Sj0RZho3bzXOrM8x3EiU2zcOYfvq+Puc3z4vkDgaittpmPeVHQEjDH8Cbmzxj/fRDXrMHKF/+OI0fzwo/itLrZhwM/P4uif3wZi1VLyDxfDXahHrXmozpv4FwggGVPPa4X4l9fwdD5PCxdFL0lKHORFxDfKXrK0s06ZwlKcvrQ+5DYr1g9BSIA2FINNK7Sz+/rn6j5k5C5qgnvi986tEo97m9VA66tPoY3LP+3waQ99H386AfNeN1fjB94Y1RgCl9G2/NBvLJU35+Vu4ex6uBOLFOL3Yx21OF59XjY7MJnxcWuQqSdJK7ELgo2yTH3NfDkid98wofdwyvwz68Wq6XJmxhoxosl+nGVafnFs4tweI9PD0QS2efscrx9skKcnHLky2169Pv48dtJVnAT8YAXuzqbUHh+K7xyPXmPY8XPA7imLcxAwZa3cPjpKzhQ9ri+L55n8dMjQUzEjygnLyMfW1qbsfRjdT7k8TuVhV1HHffPZHhQun4Ara15EcFRsuWJaRLpMaY5Puw6mIXjZTItLILnxXZ8Y+NBVMohGIY456BoZycOP9qNn6p7EvJLa9CldmQq5X0iaT53TTPeXy/KG3X+84qrcPRTy/0MiebzOR4szdeHLZryNuDtpkU486JX3681v8HIyv3YJYrH+ETa3HQMb3u7zUdFe158H/NefQs7Cu2Jc/GOahR2btAfy+l5AUdmbcCJ+uKolRPMeRaHj4uC8eiz+mM5RRmz+w8+tP3a57jvLQ5xXne0VmDioJ4G88uagM2Hbds3ISogQyPjtnx96eRbuGR7FKdFRgauyfJPS5/itbQKRyaex4l/3RDRGzDS3oDe58tRZOYZcZ37xyw0/tALzwudKNlluT/gi26cCRTjqceNc+hyrSQim/vko3rUe/T09KCwsFBNUWrJ/6b9cTTOP4G28hQEqJM18CaeeXEceztEMCLL8eEWrPzxDew9Iwpg/RMzlvwv4FderkbfTuf4USJKF4nm84lAPfIbs/F+a/nke0ySJJ/D35gTuCv3nNxLLr25Ai9+WY/3qx1PoCOagRKN3XnT7h2TgaLNDcg6+BvzcWR3nPyPuQ6c0HoAjP8AbPzTPmTEelLFjDGKcyeGUfoULyBE6SvxfJ7h3YzXsg7iwCk1VIamhyvtOPDfl+CfnI+bJqKY2MJPJMdct2/GyjYvThwrd3/yERHd2+6BfM4WfiJKFlv4iRIw1l6F7LxFWN2Whdf+icE+UTpiPieimY4t/ERERERE9yC28BMREREREQN+IiIiIqJ0xoCfiIiIiCiNMeAnIiIiIkpjDPiJiIiIiNIYA34iIiIiojTGgJ+IiIiIKI0x4CciIiIiSmMM+ImIiIiI0hgDfiIiIiKiNMaAn4iIiIgojTHgJyIiIiJKYwz4iYiIiIjSGAN+IiIiIqI0xoCfiIiIiCiNMeAnIiIiIkpjDPiJiIiIiNIYA34iIiIiojTGgJ+IiIiIKI0x4CciIiIiSmMM+ImIiIiI0hgDfiIiIiKiNMaAn4iIiIgojTHgJyIiIiJKYwz4iYiIiIjS2H0hQb1HT08PCgsL1VTq7Nq1S70jIiIiIpq5amtr1bupSzR2Zws/EREREVEau6Mt/Kms0RDR9CDzN/M2pTOmcSJKhdsRD7OFn4iIiIiIGPATEREREaUzBvxERERERGmMAT8RERERURpjwE9ERERElMYY8BMRERERpTEG/EREREREaYwBPxERERFRGmPAT0Q0zY21VyF7/gKsa7+u5twGV9uxTqwju7IdY2qWOU+9dvf0YbfzM0R3UW9DOH2ma7q8I/kfKm/P349eNSc8T3+ta+9Da6XzM3SvYMBPRDOQ/UJmvHb3yGXX1UVNvhwXtp79ls8lSPtOAhdIR3CtvRr61MK7o/fITnSp90AFSuYGMaSmaOawBdWOV1J5IdVEnmn0q/dC0fIlyFTv7znTMP+PtTchfHi9KHkSGAqoSbrnMOAnIoqqGY1TbFXrPd2s3sUgKwVea3CtK8rJUu/ugDk+HB7sx7Dfp4Km6xgalH+92BsQ8we3oiDiM0R30ZVhPc9Utoj02Y/Dvtna7HvOdMj/yMcOmbdlPldzRoJ6dF95TM5vQumcyM/QvYMBPxHNYBVo0y5g+mtHoZoteb0oEn+6tteg9ao+y5WzZc7SKidbRldrTWTNWK0td2vpv47WN/RKgX5hDb+iBjAurYG27n6X5WZLrOqlCL+q9P0zvqMNi5C9HF5s0673AWzzqvm2zxgcvSVuy8QxMYYl3O1WS0peQbVKk4E6LU/AW4dulUa1PKPShUyDRm+Anh6tvWXqZU0f5veMoSLqZU0j0dKyTMdlqjLtLw/PF5w9EtZeCD0dyjRvpFs9/Zvze6zrk8vs+xAxrMa5fZZtj7Yuu0nk/3jH1W25sV3R8r9jSE+47BKHt8yYb/+MwX68rfvI/D+dMOAnohnMCMSdFyqpGPuOVYi/IuCtsV5MLeTFXmuZ01vBu/d49eBDXdQKqltQqb0zKhYuLWNXz6JDBtYiiFpvrXDEMmcJSsSqtJZNFYSFKybiYl+jtxbKAELbJjkcR/ttcQHWgiR9e9vkxnmLsXSOXGY1G6X+APbKrxot/K6t+vKCXq51+2vBijxegZ3w2IIPQRwTz3a9tfDOtlrSndS13WsGibmPyGB1NpYu19Nf26BKTyJ9vOIImru2l6vKpSLSix6kx0jLhVv19CapFn5Z+bAGqgYZsFqDfr0Sq6dbIAe5ZvoX88usLe3yc0bFV2drAIiT/3XR1qVMJv/HOa5j7TX6NlvKh8qn88W/ieZ/vZKnLRf0ioh7q755vLVzIMs7ub+OspT5f1pgwE9EFE1hhXkxPWQLGHRjH3ZqwUHRnnqUiotmpq9e/7y/M/6Y/SmRAbm4CFeLi/gcH/ZpgVAAQ1f0pQb/G+2Ar8nlYi0uykf69JbbqQzP6enUAxlxsddaekUQpgUJgU6csVWejKDhHh52QQlQlUMVfEuZZvoTabZeVU6Do/pCU7inzQgynaKnZas+dGgJ0tJzpyoF/tOOlmWzl8Lxe6ryYPZmRGxbOJ8lnP+jrWsKEjqu/ia0Qh+GZ+u9TFX+tx5vWRbJYUGqkaTjQ3uljvn/7mPAT0QzmCUw0MaoqtlSYBgjloupvyxyOI4xxlW2bOq9BPbWwNvH6FrXX0brmU5WBlTPgmxtl58xW9zFBdkIZGRLpFw2hS72sctB/Y3xW+LlbF3VGT0MlNZcWottwz1cxqlrvNmYp97Oy5ERsyFWWnZxVd1Ubvk9zM3W0/tg0Pa9aDf4mi3Qc3KQK/9af8sh0fx/O24mjnVcZWXAqJxow/HM3svU5n/zeFt7So1hVjbM/9MBA34ioljMFvRmNL6hAlzFCE6K9gRUpcF4JdGSZwQWUXoRIsnxuZZhNGJ9+lAHK+PmOpdhFMaNt1r3uyAu/PbhDonLfCRHf2O0ipovR+WJZiQ5bjs83EOkC7PVPBkx0rKTmZdkZV0xbuydn5PyoPvu5P/Ejqtx34VeNojA3xiWmML8b267reFEf7Elf/phwE9EFEemr0q7OHYF7M13mU8Waxda2cKn38ynt7yHb+zLQq4WE8S6aTcf61XArt8cF35F3CDopme/o4Vf3bDnaLnTx1Q7t0/yIneuepuswmIzaNDX575uIi3tRWvhjypWWnaTjxItQUa2OOtj2FMrfv5PxBTzv8tx1W+QdZQ1WoUnxfnfdrz19bmum6YFBvxERHEZY1MdtNYyvaVM79Y3bs4zzEbpRpfvOWjjcd1+31X4N7UAoQxoc2s51brs1RADY4y9Yt1WY/zx5MjWV9Xyal0fkWBUlPW0UQ4cU2klWTHSspP1ZlOD7AmL9Z1Ji5v/E5Nc/k/0uOqVHr0xwBhjr0td/tePt96LYF0fTUf3hQT1Hj09PSgsTH2u2LVrl/a3trZW+0tE6UPmb+ZtSmdM40SUCrcjHk40dmcLPxERERFRGmPAT0RERESUxhjwExERERGlMQb8RERERERpjAE/EREREVEaY8BPRERERJTGGPATEREREaUxBvxERERERGmMAT8RERERURpjwE9ERERElMbuCwnqfcL/PW+yjP9KmIiIiIhoJqutrVXvpi7R2P2OBvyp3EEimh5k/mbepnTGNE5EqXA74uFEY3cO6SEiIiIiSmMM+ImIiIiI0hgDfiIiIiKiNMaAn4iIiIgojTHgJyIiIiJKYwz4iYiIiIjSGAN+IiIiIqI0xoCfiIiIiCiNMeCfsfqwe/4CZM/fj141J66r7Vgnv1PZjjE1607qbZDbuwC7e9QMIrp9ZH6/S3mdiBJ1Ha2VVWi9qiaJomDAP9317NeCXNdXQ5/6UDqQhZbLPmovFmY0TRiVXuMVkQcd6Tit8ijRNKNdH2M3WmkNRS4V17H2qnA+Tabhi+gexYB/xsrHjsF+DA9uRYGaE9ccHw7L7/h9yFSz7qSCarm9/dgR/3+QJroN+rDb24mSgJ4O5asN5ZYeJxnsezG0Mbx8uDpfLSOiVNIC9jeCKFLTrkSFoBEVEZ+R3/UEq8L5NJnrINE9igH/dFe4VRVIAez1yhle7DUCDi2YUENzGvrCLRaqVdEYAuPeiuEc0hP+Hdv3rC0jEUN6EviOELkd8uVsUZmNUr/ar2MV+qzKFrXvTSidEzmkR9/fKrT2WFtdZW+AvZV1Xft1/QuKvWWHQ4QoGTnIFWnRauiySl89zdg2vyXBCmlkj1Y4HRp5U38506+z1y/a9+y9C3J9Is/ZvuvsObN/f/eHarbB2dvI4T50t4hr0SsyYPdXIVfNiiCvV29kY9/abDXD0IdD23PQllBlfDrmU8c1teGsmqswn1IUDPjThb8cnu0B7W1RTpb2t+BpGTjrFYS2SjmnGatthYsL8Tur/eq9FNiJV5wFmVOM78jgWi4r2hMQgbtRaalAW8paVALYVrYTXWpKm/Z6sU0/FJqu7TVmgam17Mjj5K1Dt9oef5m1MCaKJh/r9wSxWlVWtbQ9WId9vtna0t7TzajMCdqG/ERLV2PtNehYLvOEquSKl15RkBf8cuCYMT+AklPe8O/Ii3kZRP6J971+dOc0OYIJkf9PF5vLh4/lYFuNEQxEfr8kaM1XIkhxrPdu9fQRab3NMQN2kZ5rOlFS75JGezrhr8zGUAJD76ZfPlXlDozGMPF6ethyvWM+pegY8KeRSlWIHFYBiN47oLeOF1S3QIv5B4NxavvhHoTuPVp0noDo3xkJ6iVR7iNym2Yjd76cCmIolWPyjZ6AQJ3qupUVCn179IpOAENX5N/rOHNKbo/YXu1CMBul9fp3/KfjVISIhExfvagkiguyCBI826HSUZj/FLBPpT2ZHofKnD1ZusxHckRFtDly2dWz6AhUoMTsJZiNpcu9Zi+CrFQU7amIrCzL76EO683viXU8WYwif6dlHSLdr7UESXOzw0MdItZrNBgYspAr9rsxXuWfaBrQA/V67drnSuQL1Kt8Kht+Bq1D88KmXT5V17DKpy3LC4v1a7uG+ZSiY8CfNuwXa8k+dKUc1kb46MJDFmRhl5jo3zGCBr0gvI6hQTkVOSxiKoweDcwRvyv/erMxT5vhNIohrf4hewHUcfFaWzGJYpFd8TWWQKEeqDG68vW0XbnRUgGYswQl4uLb4dbKr1XGi9Gh8qc5HODKsEiPeoXCyLuyR6orOCoW6uvQK88O2vcctPyQYOVaft+Zb2yBhj7kbh9q1Ha5V2SI7rqe/dr4fLPhy2HsclBk1CpLZUAP1l0bfaZbPtWuYV7kzlWTGhnkq7fMpxQDA/50JQs9c+iKDE5UC/+dJgpM2erftd0rCh851Eb2BtytG6SMgjHcI2G+eHMlxaMNBbAHCqUbK9B16izGxHvZe2WO50+IceO8ZTiADLLNPOtMn0YPmQv5vcAwRtSk5qoIIhKtXNuCe8UlOMn0NenbcwxYzbHBNA3J1nU5zNQIxLVGncBOeNRYeK1RKm5Pt9U0yqe24N5gNGSFMZ+SGwb8M4I+bjCxFv4UkzdXiYqHMdzIGGJ0d+gtOXoLv7oRSrvBKfKmKKII8mJt63pXwcX8HK1Vv2BtHWDt/ncZJuPOEiDIXgHsxCG3XgFB9pj533C5gLv0Jox92ImuyuLEKtcu69X2LRq3CgLRNGA8zc18yaGeWnCurj2FFdhrS+suw2RcTYN8ql3DgG1HLL0RsiFCvY3AfEoWDPjTlSzUtNhWtmx4tRuP9PHsd5gaZiNvjDVbXMTLbbzknaC1fGhPAVLDespiBDVEVvJGQdliZknH2s1zRu+Qc7n2CE/33iz7cDv9d/Sb+mSXfAC5b4SXyZeZX2SP2fJOkaeNZUZlNfJ7nlPF6E6450p8v17ecxD+fkeOcU+M5HiyiNw3txsiiaY9mVdaADOt69dHPf/ZTb98Kq9h9do9B8b3s09nq4dhSMynFN19IUG9R09PDwoL4zZHJW3Xrl3a39raWu0vzRSyZ8H+xJywVD6ph+4mmb+ZtymdMY0TUSrcjng40didLfx0+2hDGsRf61hH40k6UW+sJSIiIqJUYsBPt88cH/bJx3Rqw4qMLsad6JKP0eSzgYmIiIjuCAb8dFuZTwuwvpIYr0hEREREU8OAn4iIiIgojTHgJyIiIiJKYwz4iYiIiIjSGAN+IiIiIqI0xoCfiIiIiCiNMeAnIiIiIkpjd/R/2iUiIiIimsnuxv+0e0cDfv7X5ETpR+Zv5m1KZ0zjRJQKtyMeTjR255AeIiIiIqI0xoCfiIiIiCiNMeAnIiIiIkpjDPiJiIiIiNIYA34iIiIiojTGgJ+IiIiIKI0x4CciIiIiSmMM+ImIiIiI0hgD/hlkrL0K2fMXYF37dTWHiIiIiNIdA/7p5mo71omgXAbmEa/Kdoypj91dfdhtbFNDn5pHRJGuo7XSkoed+aVnf3iZeMWqjPc2WH4n5mfVOq3rMtdThdarap4gGwHYAEAzkS0/Oa+tjnwZ+9rryOPz96NXLZGc+da23HK9392j5kly/by2Uoox4J9BMn1NGB7sx2HfbDVncsbam+BX7+HvtBVuRBTW2+BFx/KAlu/kqw3llgBbVJxPF5vLhgdbkLu9xhaQm0Rg0JET/p1Ynx1rr8HQ/Ao1JYmA5A2gTX7vWA62HTECiT4cOlWMfVMsD4juNbKiuxotZn7qXt4Jjxlgi/xyOhvdZl4T+Xb+TrwSpWLszOPDx4DVjmC98lj4t4YHt6JAze890omSgJgXqMPQG0alQuXX6nxtiihVGPBPN3N8OKwKhrZKfZZZWPh9yBTTeovBfvSarQOqxcCld8Daeucc0qNPV6G1x/49W0tDhOs4cyog/lag7ZgMKprRGFEQWnoAnL8ZsY2qxdGYbykoje01vmtu71Xj9x3ftbycrZbGb5mvynb8v8Y8l3Wy1ZOmrg8dfi9KngwH1AVr64DtzaqSnI8dtot6FnK9AQxdUZNWolzYYQvM81FS6fLZnv3wBKuw42k1rRnFELIxT76dm42iwaAWWPQ2lAMb9TKFaObQr2GVT4fzXqavCpX+JlWBno3Sanu+KHi6Al3BUTUVKfcRR6VZ5TG5rqFBL3LnahMOclkOcueIt3PE38AwRsRbWWHvWF5hVgqIUoUB/z2rGau9O9El33rVxXzOEpR4xd/KFq3FoEi87YrWYmgKYFuZ+h3FX2bvkrS5ehYdMt6vLEZBYTFknaTr1FlLd6cMxsvDPQCStw7rC8VfGZgb22yorEKpLPASJrbXa/y+UVjG3m8ZxHu2y40OqxSBzrdlIS8nzF4KozJjD9KIJk+lUYO8sKu3kURgHogWHDiIwH61vwIlMl+ZRN4rS7BlUOTFRrSg5LSqAHP4AM0oznwmK9vqbQSZr5ptFQQrWYkfKlMNU/IaVxbE3nprhUFes1Q+i9uYpPe6bUKN/vlpM4yX0gED/nuZDHAtLf9ay4RfTMsL/hwf9u2RJViUFkMr43cGW/QAOIaxDzu1gF0v/GQro/gT6MQZo1LR06kH4+ZvhrfP+G7RHkv352S6LUUFQu9uNbpGY+13OIjfK7tO1Xp3aIGS2n5ReerQCmtVmfEWY2lSlRAiNzKIUGlLsQ2Hc5At7kN76mNUgC09ZzKwtwwNkLQW+2P2eTqxHdBbD3FlGF3zgTM1nSh5OqgF/TI/tMFo3SRKd7OROz+Ajg8tgXdPM7bZ24RUT7p8yXxlXDNcqGuOXwT92d6dgC0Pq2uTuu4MDwZQcsqrgn65HUEMyXx3Vfz1ZmNI63XLQYcI+uU1Tg41OmQpP4imggH/PSyyxcESEIiXs1U7mqKcLPUuViuHZATPshdAX8dqLXoJF55jl4Pa3/Bvho0E9e9GdH8mqWj5EscwhFj7LVtN5V9HS6siW2dkj4D/dF+4MsNhDpQS8mLfAqi8Il+vQO8Vc5LBhRxTHPv+mnzsMAOHYnSI37MOd2vMCUQJSsR2bARWy22QrY85w9g2vwqlohIAlU/n5SB+wwBRmiio1gNvI19mn87GXse1r6A6HKhrPWFResFk3n0F9eZn98nW+agt87OxdLnXHB5UsFbkY9n6LyoKucuBjsE6rJ8rgv/5Odo1KPORHAxd5vBSSg0G/GlDPimgXGs9NMb8d2st3Snk0gpiMIb1yAJKm3YZ7zgvR9+emAWYOfYxXEGILd5+G5UY1ZLiZAwH8jfhFXVvgn2YBNFUWIP0fhx+ZBh+ORxOLZVkwCCD9eR6u/KxXrYqioqqURHv2m4JYMqaRZouF+/V8LzCrWob6oFTvCGQZjpHy/taEWyLyni0nl2tYcj1ARXyPp0KbLJU1LX7Aay93rFY7tkrCXaixDYUiCi1GPCnK3nzXoIt/InqPS2CCME2JGcwoLeMBHbqXY9qXL8ebKjgQwUdmU8Wq/H1lsDEaAkxxjaL3/GoZXrvQZIi9ltvUZG9EO7jKMPLu+TXHMEYUerIscBB7F0bDraNYN+1ZT/mo/n0IF/vSXMOGxAveUO9NqzOPsTHdkPg3GxRD9Yr5iNBJHbvAFHauY7Wmp3IjdGzq/X+GvfKaT3Kxn1ukcP29GGt7j3K8ruHxPUponde3pMDdT+bvBaqhi/ZYz7VHnEiAwP+tCG77fVH8WnDbeQYX3UDa2rIlgz513lDqxEw68NitBbNaOuVrRnak33ciO/ZllUkuP3x91s+jtR44pEbrUVGe+e1BWNEUyaDdlXJzJ7fiZLBpvD4XnmRF3nKVgGWLxXka8PjVKtixFOm5uuPAkzqEbtX2/GK9TGcIj9ugl4xN4MNopnA9mS3GqDeMkbftkx/eeSYeuNeOTne3rjvS6ts24ft2e6vifgtt/sBZEOAtdctH+vlY0LF5+V6tQdeEKXAfSFBvUdPTw8KC1Ofunbt2qX9ra2t1f4STS+yxaYcfnkzsHkDNCVK5m/mbUpnTONElAq3Ix5ONHZnCz/NXGbri7oHgDfrEhERURpiwE8kyPsSoj52jYiIiOgexoCfZi7LExKSGgtNREREdA9hwE9ERERElMYY8BMRERERpTEG/EREREREaYwBPxERERFRGmPAT0RERESUxhjwExERERGlMQb8RERERERp7L6QoN4n/N/zJsv4r4SJiIiIiGay2tpa9W7qEo3d72jAn8odJKLpQeZv5m1KZ0zjRJQKtyMeTjR255AeIiIiIqI0xoCfiIiIiCiNMeAnIiIiIkpjDPiJiIiIiNIYA34iIiIiojTGgJ+IiIiIKI0x4CciIiIiSmMM+ImIiIiI0hgD/mlorL0K2fMXYF37ddfpSNfRWrlAfGY/etWcyenDbrGeqf8OEREREU0XDPhTKlrAbATkVWi9qmbddfo2Ra9E3GY9+7VKjHzt7lHziNKOkfeNl71s6G2wLotcbmPJM/Llnnf1MigiT5nftZdBsjHhrpUBRHeRPe+5XZuN67n+SiifaPnM8Vux8u3VdqxT8215Vn6noU9NEKUGA/6UykdJpfzbjA5r5r16Fh0B8ddbjKVz9FnJyPQ1YXiwH4d9s9WcFDC2ySYfO8R6hge3okDNuT1EEPRGs3oP+E+zYKP01NvgRcfygJZ/tdcxYLXjQl55TC2LmfdE8HG62PK5FuRur7EHFlrw0IQhr5o2yfwGtGnrz8G2I8b6+3DoVDH2pbJcIboHyIruarSE81OgGB017RhTy/Vgvwm5ASO/JXL9Fd8R+azSlv9i59veI50okesI1GHoDWP9Kr9W52tTRKnCgD/FCp6u0P5ag9ixDzvRJf5WbvQhU86w1Opda/0ObkN6jHnaq+GsmhsWs+VQrt+7U9umru1ebbn+20aLhrWV0Zjn8juCvh4xz9aKEacnw6hsVLagTVaQ/E2Rn484RuHftO27fFXqBaUxP9xSYrSuhrfZ3F7z99UyRyuM/Xd0Ece0octsvY1cZ5xjQDNG7iOOQGEwaF7Yhwa9yJ2rTcQhKuO2ACALud4Ahq6oSZnuaoaxabAJm+arWaZRDCEb8+TbudkoUuvvbSgHjDKJaIYpyslS75TAMEbU27F2UXHeU4/ShBvoZLkvKgj1FchVc3Sx8q3M/znIleuYI/6q9Y+116BjecVtbnSjmYgBf6oVFkNr5Pd3qiDzOs6cktFtBUoKtRkicy9BiWwFEAGvrNkXibddzta6WESw+sp2S/O8fye2OVrr9YqHF3sD/XpQjeZwy+IcH/bt0ZshivborY/urRcy2C+HX03pxO84gn5tXlm4xV6UnNhmay2xMytAT+er7Qyg40NHN6eqkJgqq7TCVwb1Huu+C2ZFKmFie43f96pASJ037XgcU5W2MntFYbXtQIhju7YIpRsdFbwp9uZQeilYW4ehMlUhlOm6LIi99db0KvKKN1yJTGjYgEYE8QFrZWE2Sv1J9MyJbWlEC0pOq3Vz+ADNIJm+KuRu94YbusT1IPeYkX/kNRsoEdcJI1/Ga8DRg/REKgjOfOuk97ptQo2+XtWYRZQKDPhTzjGsx2zNLrZcjOXFuR/DsuZvBt/W1rrYjIDZCNaHBwPY6+zGL9wq5jdpBVBBdYteCVEtewnr6dSDfVkxUV2SRuXBNmRJMLdFVWCic1SAVKDddeqsuW2R+6eOlfldvSJjLNthVKSSYeyT3wi+9OFMWsVHHDt9P4MY0gr5PnRoB6JCHxahvfRj66zgmdu+fAlbTsnM334R9GeLoAK2VkNVDphpKoCSU0YQEptsnU+8BTILuVCtl1eG0TUfOFPTiZKng1rQL9fdBpdeNqK0Jcr7YxWqh7scfnE9sF9HREU8aBmKI4fCRWvEkg1wCQ6Ns+fb2cidr64xV8VfbzaGtF63HHSI3+sW6+1e3olDjmst0WQx4L8NZKueDHplq6+1NTvMPkzG2WIdz0hQ/3zEUAEL+7AXZyt9YsYuB7W/1q7PeTl6zWLosj0oMbdFdk3q79yZ9w7IngLLtgU6cUYFHNH3T7aOyL+qG3QK7OdDkK2v5vFytObLwlj+NXoDbPKxXquwyUpQuDKzieOiSZA9Q6+g3gwc9smWu6itdrOxdLkXXcFRNe1O620SgXri9/SIisVG6PlN9jDkDGPb/CqUikoAVN6elyPydIINDkT3Ou36aB1b/3SnKPeNHl29FX7vWss1QjbsWK5RYbJ3YBibzIaj6NzybcHaYnTIHj7Zw7Ac6Bisw/q54nozP0f7vcxHciKutUSTxYD/djCG7AyK2rlzOA/kWD89yDVu1utWw2sSFS3oNvXs1ysR3jqtlUDeKKS1QidJFjaSNQBJpLIRS+8Rx1AdU3hYT/T9k+Mf5V+j5d1d+HtGBSEevUu3y9JzoLfwK0YlxjLG0yrzyWK9gvdGjUtvDs1csmfIXvmTQwncA4fEyKChMSegerySoPX4ybRdD5ziDYE0k+lDduwBfQX2eo2ea+f9MTFoveBG45V8ebEtoA/Ts/bURc23c3w4rOXLfpQEO1FiG+5HlFoM+G8LvaUOgWb44wWARnCeBCPANG641QsZfVmkcAXDygzmbTftOpjDVcrVeoyWb2sFJhnG0Bj7kJzwfQzNWgtL5P6Jl9Yqqo5rlHHPzn2adM9Ge5VjvH54mFa4YLfcqGtU8ERBH9mbQzOXDBwcw9+0ACFaD1UfDomywEw/jkfzGUFD4i37kWw3BM7NFnVnvTI/EhSV+IRuHia618mhNM77xmTPszG2XvaIVcBvPjVHkPnWvC9L9tCr3gCzIm285PBa/fpm5NOE8q3I66uh36emNTCp4beyl32yjWtETgz4bxMjaJXsAaBemEjauN4yoC3uuHcHy023GuNpNwattUL8DeyER1QG5GMBbcsl4zMxyXHtzt4BOY59ko/tNO4JcN7QagTMxr0BstVD3TjrJB9RGrEvBnPsvSKOS2K9J8awHL0i4ZHjJx3rL6h2uU/CFD6nsldl/aQqQ5R+5Bj9FkDmc6OiKPO7kX8cw8hkBRXHwvekaEPqjJv/ZUAgMo+tEixfydxs6xxrLPLZJuiVeTPYIJoBZHku75cx85FXPh5T3ZcliWuJHD/vMZbLfGsM29GGeEbex+YqoXwrKhDy983Wf3E9UuuW1yJeTyhV7gsJ6j16enpQWJj61LVr1y7tb21trfaXKO3I1tiyZu1G46m0wN6LZP5m3qZ0xjRORKlwO+LhRGN3tvATTYF5c7T2WFLerEtERETTDwN+opSQ4zYnOdSJiIiI6DZiwE80BfKeAv1mLcv4TyIiIqJphAE/EREREVEaY8BPRERERJTGGPATEREREaUxBvxERERERGmMAT8RERERURpjwE9ERERElMYY8BMRERERpbH7QoJ6n/B/z5ss478SJiIiIiKayWpra9W7qUs0dr+jAX8qd5CIpgeZv5m3KZ0xjRNRKtyOeDjR2J1DeoiIiIiI0hgDfiIiIiKiNMaAn4iIiIgojTHgJyIiIiJKYwz4iYiIiIjSGAN+IiIiIqI0xoCfiIiIiCiNMeAnIiIiIkpjDPinud6GBcie7/7a3aM+NGnX0Vq5AOvar6vpGHr2p3C9RDOFnsfC+XY/etUSyZm/Y+bFq+1YZ/ls9Hyo1tnQp6YFM/9WofWqmieMtVcllv+J0ow979nzhY2Wd2Is1/Rht/lbjnwcK99altnmy3Va8y9RCjDgn8munkVHQL2PSQQQbzSr94D/NAsiokT0NnjRsTyA4cF+/XUMWG1cyMXFviPHsmywBbnba6IEFiKg8HaiJBD+LMrcg5Cx9hoMza9QU5LMv0Cbtv4cbDti5N8+HDpVjH2+2WqaaGaQFd3VaAnnvUAxOmraMaaWh4l8J/JOpVdNupLBfhNyzbzZj8Nmnoqdb3uPqGWBOgy9Yaxf5dfqfG2KKFUY8E9zBdWqoBAFQpGc4a1DtypUdhj/k7KjBcHWMuBcJl5aS4Kc792JLvG2a7tXmx+1pc+oGFS2oK1S/PU3RQQasgC1riO7Mlx4Rlumt7BYgxbVSmJ+V02L/TF/Q+1bZM+HveVUivhMQ5fZ2hpuTTFaYOO14BBNTu4jjoB6MKin7zk+7LAF2/koqQxg6IqatOrphN9bjKVz1LT47Po9sATvSs9+eIJV2PG0mtaMYgjZmCffzs1GkVp/b0M5sNGHTDmfaIYpyslS75TAMEbUW528NohAvr4CuWqOm7H2JgztqUepmTctYubb6xgazEGuXDZH/FXrlxX2juUVKJAfJ0ohBvz3OjNw92JvoB/de7wiIC9XgbEosGr0oL7ymFqGCpTIioIINvZp06Lg26O3MoZbJezGPuzUf+PpfBQ8LVsOA+j4MFw5kMG4Z7u9q6BSBRKxliVM7I/xG0YhrW+Hvs9aJQTN4ZZTQQb7q/1qQiM+u7YIpRv1lk+zl8KozNgKZaLUKFhbh6EySyW7LIi99VHSvwjWV/tV/nQzP8f2vcxHctQ7g6gglyXYMii2pREtKDltVIYdFQeiNJbpq0Ludq9q5JKt8DuRe2yrLcjWA+8ogbzpOs6cAkrE9SfcuORoPIqbb630XrdNqNF/y9JwRjRVDPjvcUYwXqRaGDJ99dgr43h/p63F2/9GO+BrEoG9vVCLTxZoMiJWgUhhMWR83XXqrCqIjOV68K13Wxq9D7GWJUdWWGyVksKtYrpJ2+eC6hZtm8yWU1FodmjBfoU+jEF76Z81tt84PubxW74kuUoIUSJUxdovgv5sEVQgoiVQ9WLJlwzWo+VP2TJvy9Oy2z88zE7SWuwdQYsuC7lQrZdXhtE1HzhT04mSp4Na0C/zRxsie+2I0lc+dhyrUL3b5fBXttivS6JC/ErCw90C2BYsVtcZ8ZLD5ozhQTHz7Wzkzg9iSOa7q+KvNxtDWq9bDjrEumVPfvfyThyyju0nmgIG/Pe4kaDe8m0My8me78U2fZYwG6V+FQwHdsIzmRYDc5x/M1Zrvy8KRzkZ6MQZLUAYxZC2XHVN2sRalozIVk/7MCG1TQZZeMq/ogDVhjHYyC5VWSNqRkdPuDKzKaGCnSg5sqfpFdSbwcA+2XJny4Mi8DAChcFidIj0bLt5zyAqDofl+H8zzdcAy8Pj9GV+aMwJRKlMi3Jgo/qu7GHIGca2+VUoFZUAqB6zeTlwH0pElIa068dpS5D+dKfIU8awUNniP4xN/kR6ouU1TvYeW3rVZKOScX2Mk28L1oo87xXzZQ/DcqBjsA7r54rrl+oVkL0BQ5d5Uz2lBgP+e9y8HPuwnPDLaOkzAoqA3vIvAv9XkngqR+8RfUhQJGNYTxZytU1QLRU2sZYZLGOWjUA9HjlOWQ7xMe9nUJUagxwPKf9GjMnUZT5ZrN0P4X+jRt2bUJxkrwdRImRPk70yKYcSmMFABL0yGvWmeK1Xy8jfTcgNNmvD7IyetHClXwb2zSKBl4eDGPO79cAp3hBIM5nML3AE6RXi+igbgcR7Oe7ebOCSL9mIFsA2EZhH3ucmr3FR7rsxRM23gqwQqGUlwU6URBvuR5QCDPjvcUbwKi/25nhEUUjp79UNqY7xucZNhMZYwug37RpDY+xDcowbiLu2N4tgYjaWLtdqElqBaAQc+m/FWhaurGjDHeQydRNxcuQ+Olr4ReBUotUArIW2peV0zhKUaJslgiTxxyx8iVJKBgMqiDBowUS0Hi89cDdvJoz1aD453l+2Bmot+rInz5I/5etYhUjYcriO27hkdUPg3GxRFx/V5o8ERbkwV3tLlObkUBr7fWh6T7ZXzwO2AF2+ZGOZfg3Uh5TKa6zRGyB7zyq0IbNmr13EjboWtnxrIeejSh/uJxusBvXhqWOXg5E3/RNNEgP+e53WQqC3cJvjEfUlYVpLnxrqYx2rqLVqqPdutOBEcBZeRsCsDYuRrZZN6sbZSLGXqfsNFNlLEe2zNsZ2a8OU9MceOr9XUK16NFzphbTG61L4EqWEPqQORoVWvizj9O3D0uRLT8vGfSryYm+9F8f21Ck5HCGhIQcWznHJouzYBFk2LAgHG0QzgLw+lJyy9Ihpj85U93nFo/VEWyryooIgx9prQ2blS+ZxS96Mn29FBcJ2s30+1qvf84j8yusTpcp9IUG9R09PDwoLU5+6du3apf2tra3V/hLddbL1tKxZq2REezoRJUbmb+ZtSmdM40SUCrcjHk40dmcLP80oZquqHOPMm3WJiIhoBmDATzOUHJMZ5RGIRERERGmEAT/NKPKeAv1GrATHaxIRERHd4xjwExERERGlMQb8RERERERpjAE/EREREVEaY8BPRERERJTGGPATEREREaUxBvxERERERGmMAT8RERERURq7LySo9wn/97zJMv4rYSIiIiKimay2tla9m7pEY/c7GvCncgeJaHqQ+Zt5m9IZ0zgRpcLtiIcTjd05pIeIiIiIKI0x4CciIiIiSmMM+ImIiIiI0hgDfiIiIiKiNMaAn4iIiIgojTHgJyIiIiJKYwz4iYiIiIjSGAN+IiIiIqI0xoCfiIiIiCiNMeCfQXobFiC7oU+868Pu+Quwu0efD1xHa6VYJuZZX+HlRBTNWHtVgvkmMp/ZP+tcvh+9akmY/pl17dfVdBRX27Eu6noS22btM5XtGFPTRPeUnv22NB4rz2jXRstn7Xkvfr60fV+7xkYX97O27a5C61U135Gn5StuOUBkwYB/xriOoUGgKCdLFBxBDMGL3LlqURT+Mgb9RDGJi/Ah1GN4sF9/BeowVOYWqAs9zRjaqD7n8tmx9magPry8e08Qq20Bgayoe9Eh8m5s4nPeTpQEjN9qAcrsgUO8bZZBieeUKC/UNNG9ReSB08XhNC7yQO72mnAecFF5zPisfG1FgZofL1/KivFqtJjL21AeNRCP+1kZ7L+RjW61fHiwCaVz1DLJW2dZ1o/DvtlqAVF8DPhnjFEMBYDcR0QBcWUYXchBrrUg0XixVwUJ3Xv0oGLosiqMHK0l8mWtDOgthjKo0HsPzJaJOK0S5vd6rJ+T37W3qtgKRZffZMWE7oo5PuywXnTniHwFUaF2CywKt2JHoXovzVmCEm/4s5m+rbaLe+YjOcBg0Gxh721oQq7In/uWqxnR9HTC7y3GUvO38rF+D7DtiApS4m2zyOuNOQEM1xerGUT3mnzsqM5X76Us5HoDGLqiJm1kY1j0BrDY+fI6zoiK8d614XUVrK0DTp116RmL91lxzXsjiL31PmRq0w7yuj0/x30ZUQIY8Kc9IwAvh19MyVb77LJm8a4Zq8X8hLsEC4tRKf4U7RGBwLEKbZY/oiUzgG1efT0wKhRaUCP+VrZoLYmyxbAroqVFfK9sp6iEGOTveLFNVFAM4e+IQrFG/6xskdErJhUosQZSRHeL1nvmVpmONNZeg22wBuZ2Y5eDgOUCX1DtaO2LxREYaEFKNM5tFhUTthxSepENXrF6teU1J9yAFOu6aM+XekOajaxAB4YxoibD4nz26ll0iPIAR8LbETGkzl8eXuY65I8oOgb8aS8fO4wWe607MIC94q0WuEd0CYYLPc92WTJ5UfKksVz/He3zIiBok9G/W0um2eVodInORqlfTMvWljk+7NMCdJeWFlkhkN9TlQIZxLdpv9Ov1hX5Hf8b7YCvybIuortJr4zmHouRHi29U55Txej2R2nNE597ZXsO2mytlAmam40if6clGJAth7KS7yaBbSa6x/U2lGNoT32UCrO6RqnrzbC4Rpac8roH/a750q2C73Jt1MT5bGAnhp4Ob0vb/J14xdgOcd0Nb6N4HQNWM+inJDDgT3dqKI4WwIvCxDNfbznv2u6N00Igh/dYWhQdw2hW6834EYqWL3EEMEYPg7UiEUm7t0DShhcI3mzM02Y4ycK5Rett0PdH/C5vLKS7TgTOlV50LA/Yh+04iUrvYeOCXQ+8Yr0pzyDzmjYGf5JBuFyHFgwY+a4GWK73ytkluM1E9zB5P4ocN594r9VsLF3uRVdwVE0rUfOlW3DvFthLMT4rh+x467DekhcLnq5Al+vwIEHrdY9WsSCKxIA/3WmtApZWfW04jjFW31lwhcfw228WkjcBymE04eV6q3s8MqDQh/gYN0QZ9wZMjd7bYOyXDPzNVhCiO04PnOUNuUkNhRGB+abKADo+tKRdLagYxibnzXrJsrUGNiE32IzKp62tkpPcZqJ7iAz2tftRJtNTZhU1X8p7A9Rbgxwi59pgFeezsmfOdSgQUWow4J8RwjfsauMPbTf0JU970kCUFv6YevZHbeFPnAxUFkQ8zky7GZnojgsHzm6t5NpN6VEf09eHDpGPzLRrBhWTaNmXPXnRerrEstWD1pbD2NtMlA6MYN+1Qhsrv4h8eUhcp8wKcsx8KXsDLDfEC71HdgJmT7fs4TZ68eJ8VmsAaEajpfGq93SzS6+5bqy9yXFzPlFsDPhnAvnUDug3LI0ERcCd9J3+8ikfWlO6NsZfG3usbtyNbTZKNxo3+IogvQxoM8foT5F285K6sbeyhYEL3RXajbciDWrp2xxCY9z0J5/KEQ4cbM/f1l7lwDEj6BZBuHYzun4zffgzLkN+XDgDA9u65OMJLfcKxN5mojQgK7miMq0PXbWkc1X5tuUXGdBbP5Nkvsz0NWmP1zSW2YYPOZ6YFfOzQkG1fv+A23Jn+RHzHiAiF/eFBPUePT09KCxMfeS0a9cu7W9tba32l4jSh8zfzNtu+rC7Moj1t/2iLFvsm5Hrn+SYf4qLaTyd3Ln8Inv4Dj3SxAYpMt2OeDjR2J0t/EREt0U+dtyRFjh5IzuDfaLE3Ln8Ilv0GezTdMGAn4iIiIgojTHgJyIiIiJKYwz4iYiIiIjSGAN+IiIiIqI0xoCfiIiIiCiNMeAnIiIiIkpjDPiJiIiIiNIYA34iIiIiojTGgJ+IiIiIKI3dFxLU+4T/e95kGf+VMBERERHRTFZbW6veTV2isTtb+ImIiIiI0tgdaeEnIiIiIqLUYgs/EREREREx4CciIiIiSmcM+ImIiIiI0hgDfiIiIiKiNMaAn4iIiIgojTHgJyIiIiJKYwz4iYiIiIjSGAN+IiIiIqI0xoCfiIiIiCiNMeAnIiIiIkpbwP8PP17EykvZxlMAAAAASUVORK5CYII=)"
      ],
      "metadata": {
        "id": "b9CYSXV7-6If"
      }
    },
    {
      "cell_type": "code",
      "source": [
        "!cp /content/fnet_classifier.keras \"/content/drive/MyDrive/Colab Notebooks/ML projects/Tensorflow projects/Tensorflow Developer Certificate/NLP_text_classification_KerasNLP_FNET/\""
      ],
      "metadata": {
        "id": "sAKDTFhP_Flp"
      },
      "execution_count": 28,
      "outputs": []
    },
    {
      "cell_type": "code",
      "source": [
        "!cp /content/transformer_classifier.keras \"/content/drive/MyDrive/Colab Notebooks/ML projects/Tensorflow projects/Tensorflow Developer Certificate/NLP_text_classification_KerasNLP_FNET/\""
      ],
      "metadata": {
        "id": "kEBvveqkBYe8"
      },
      "execution_count": 30,
      "outputs": []
    },
    {
      "cell_type": "code",
      "source": [],
      "metadata": {
        "id": "yI9sayJ7Blqx"
      },
      "execution_count": null,
      "outputs": []
    }
  ]
}