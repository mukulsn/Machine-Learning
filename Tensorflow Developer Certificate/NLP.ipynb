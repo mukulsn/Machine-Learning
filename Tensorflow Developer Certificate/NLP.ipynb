{
  "nbformat": 4,
  "nbformat_minor": 0,
  "metadata": {
    "colab": {
      "provenance": [],
      "mount_file_id": "1hRtlB3PeaHOc_AqlZlyT7H-wXEk6gyRS",
      "authorship_tag": "ABX9TyOjZHA+w/wV406amtKdJuyL",
      "include_colab_link": true
    },
    "kernelspec": {
      "name": "python3",
      "display_name": "Python 3"
    },
    "language_info": {
      "name": "python"
    }
  },
  "cells": [
    {
      "cell_type": "markdown",
      "metadata": {
        "id": "view-in-github",
        "colab_type": "text"
      },
      "source": [
        "<a href=\"https://colab.research.google.com/github/mukulsn/Machine-Learning/blob/main/Tensorflow%20Developer%20Certificate/NLP.ipynb\" target=\"_parent\"><img src=\"https://colab.research.google.com/assets/colab-badge.svg\" alt=\"Open In Colab\"/></a>"
      ]
    },
    {
      "cell_type": "code",
      "execution_count": 1,
      "metadata": {
        "id": "qtusKt9WiHEw"
      },
      "outputs": [],
      "source": [
        "import helper_functions"
      ]
    },
    {
      "cell_type": "code",
      "source": [
        "!cp /content/helper_functions.py \"/content/drive/MyDrive/Colab Notebooks/ML projects/Tensorflow projects/Tensorflow Developer Certificate/\""
      ],
      "metadata": {
        "id": "M35P8VBsq1lh"
      },
      "execution_count": 2,
      "outputs": []
    },
    {
      "cell_type": "code",
      "source": [],
      "metadata": {
        "id": "0WFlnwMlsvVd"
      },
      "execution_count": null,
      "outputs": []
    }
  ]
}